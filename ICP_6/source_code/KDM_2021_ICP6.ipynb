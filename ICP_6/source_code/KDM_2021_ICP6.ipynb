{
 "cells": [
  {
   "cell_type": "code",
   "execution_count": 1,
   "metadata": {
    "colab": {
     "base_uri": "https://localhost:8080/"
    },
    "id": "Ljwil_IpJY24",
    "outputId": "271f11c5-e7aa-451b-da6f-841b9ea4f0d9"
   },
   "outputs": [
    {
     "name": "stdout",
     "output_type": "stream",
     "text": [
      "Collecting pyLDAvis\n",
      "  Downloading pyLDAvis-3.2.2.tar.gz (1.7 MB)\n",
      "Requirement already satisfied: wheel>=0.23.0 in c:\\users\\muppa\\anaconda3\\lib\\site-packages (from pyLDAvis) (0.34.2)\n",
      "Requirement already satisfied: numpy>=1.9.2 in c:\\users\\muppa\\anaconda3\\lib\\site-packages (from pyLDAvis) (1.18.5)\n",
      "Requirement already satisfied: scipy>=0.18.0 in c:\\users\\muppa\\anaconda3\\lib\\site-packages (from pyLDAvis) (1.5.0)\n",
      "Requirement already satisfied: joblib>=0.8.4 in c:\\users\\muppa\\anaconda3\\lib\\site-packages (from pyLDAvis) (0.16.0)\n",
      "Requirement already satisfied: jinja2>=2.7.2 in c:\\users\\muppa\\anaconda3\\lib\\site-packages (from pyLDAvis) (2.11.2)\n",
      "Requirement already satisfied: numexpr in c:\\users\\muppa\\anaconda3\\lib\\site-packages (from pyLDAvis) (2.7.1)\n",
      "Requirement already satisfied: future in c:\\users\\muppa\\anaconda3\\lib\\site-packages (from pyLDAvis) (0.18.2)\n",
      "Collecting funcy\n",
      "  Downloading funcy-1.15-py2.py3-none-any.whl (32 kB)\n",
      "Requirement already satisfied: pandas>=0.17.0 in c:\\users\\muppa\\anaconda3\\lib\\site-packages (from pyLDAvis) (1.0.5)\n",
      "Requirement already satisfied: MarkupSafe>=0.23 in c:\\users\\muppa\\anaconda3\\lib\\site-packages (from jinja2>=2.7.2->pyLDAvis) (1.1.1)\n",
      "Requirement already satisfied: python-dateutil>=2.6.1 in c:\\users\\muppa\\appdata\\roaming\\python\\python38\\site-packages (from pandas>=0.17.0->pyLDAvis) (2.8.1)\n",
      "Requirement already satisfied: pytz>=2017.2 in c:\\users\\muppa\\anaconda3\\lib\\site-packages (from pandas>=0.17.0->pyLDAvis) (2020.1)\n",
      "Requirement already satisfied: six>=1.5 in c:\\users\\muppa\\appdata\\roaming\\python\\python38\\site-packages (from python-dateutil>=2.6.1->pandas>=0.17.0->pyLDAvis) (1.15.0)\n",
      "Building wheels for collected packages: pyLDAvis\n",
      "  Building wheel for pyLDAvis (setup.py): started\n",
      "  Building wheel for pyLDAvis (setup.py): finished with status 'done'\n",
      "  Created wheel for pyLDAvis: filename=pyLDAvis-3.2.2-py2.py3-none-any.whl size=135599 sha256=aa5142d32af0a51ee7b47d448ac6a624923ab4bad0c2c25a78dfeae36b9ccd8b\n",
      "  Stored in directory: c:\\users\\muppa\\appdata\\local\\pip\\cache\\wheels\\2a\\5b\\b3\\26b52781cdeea9c815e147cfd4ac4a0a3472bce92142115670\n",
      "Successfully built pyLDAvis\n",
      "Installing collected packages: funcy, pyLDAvis\n",
      "Successfully installed funcy-1.15 pyLDAvis-3.2.2\n"
     ]
    }
   ],
   "source": [
    "!pip install pyLDAvis"
   ]
  },
  {
   "cell_type": "code",
   "execution_count": 4,
   "metadata": {
    "colab": {
     "base_uri": "https://localhost:8080/"
    },
    "id": "dXbt5bPRGTNQ",
    "outputId": "577e95bf-4627-4ff9-8145-13eb53464f8b"
   },
   "outputs": [
    {
     "name": "stderr",
     "output_type": "stream",
     "text": [
      "[nltk_data] Downloading package stopwords to\n",
      "[nltk_data]     C:\\Users\\muppa\\AppData\\Roaming\\nltk_data...\n",
      "[nltk_data]   Package stopwords is already up-to-date!\n",
      "[nltk_data] Downloading package punkt to\n",
      "[nltk_data]     C:\\Users\\muppa\\AppData\\Roaming\\nltk_data...\n",
      "[nltk_data]   Package punkt is already up-to-date!\n"
     ]
    }
   ],
   "source": [
    "import re\n",
    "import string\n",
    "import nltk\n",
    "nltk.download('stopwords')\n",
    "nltk.download('punkt')\n",
    "from gensim import corpora, models, similarities\n",
    "from nltk.corpus import stopwords\n",
    "from nltk.stem.porter import PorterStemmer\n",
    "import pandas as pd\n",
    "import numpy as np\n",
    "import time\n",
    "import gensim\n",
    "import pyLDAvis.gensim\n",
    "from gensim.models import CoherenceModel"
   ]
  },
  {
   "cell_type": "code",
   "execution_count": 5,
   "metadata": {
    "colab": {
     "base_uri": "https://localhost:8080/"
    },
    "id": "1WuExI9hGriq",
    "outputId": "fe6805f7-a28a-4dcb-9185-51a66c0752da"
   },
   "outputs": [
    {
     "name": "stdout",
     "output_type": "stream",
     "text": [
      "                                             Reviews\n",
      "0  I thought it would be as big as small paper bu...\n",
      "1  This kindle is light and easy to use especiall...\n",
      "2  Didnt know how much i'd use a kindle so went f...\n",
      "3  I am 100 happy with my purchase. I caught it o...\n",
      "4  Solid entry level Kindle. Great for kids. Gift...\n",
      "5  This make an excellent ebook reader. Don't exp...\n",
      "----------\n",
      "Reviews    object\n",
      "dtype: object\n",
      "----------\n",
      "(5000, 1)\n"
     ]
    },
    {
     "name": "stderr",
     "output_type": "stream",
     "text": [
      "C:\\Users\\muppa\\AppData\\Roaming\\Python\\Python38\\site-packages\\ipykernel\\ipkernel.py:283: DeprecationWarning: `should_run_async` will not call `transform_cell` automatically in the future. Please pass the result to `transformed_cell` argument and any exception that happen during thetransform in `preprocessing_exc_tuple` in IPython 7.17 and above.\n",
      "  and should_run_async(code)\n"
     ]
    }
   ],
   "source": [
    "#read the csv file with amazon reviews\n",
    "reviews_df=pd.read_csv('./reviews.csv',error_bad_lines=False)\n",
    "print(reviews_df.head(6))\n",
    "print(\"----------\")\n",
    "print(reviews_df.dtypes)\n",
    "print(\"----------\")\n",
    "print(reviews_df.shape)\n"
   ]
  },
  {
   "cell_type": "code",
   "execution_count": 6,
   "metadata": {
    "id": "JFZ7kYcaH_OL"
   },
   "outputs": [
    {
     "name": "stderr",
     "output_type": "stream",
     "text": [
      "C:\\Users\\muppa\\AppData\\Roaming\\Python\\Python38\\site-packages\\ipykernel\\ipkernel.py:283: DeprecationWarning: `should_run_async` will not call `transform_cell` automatically in the future. Please pass the result to `transformed_cell` argument and any exception that happen during thetransform in `preprocessing_exc_tuple` in IPython 7.17 and above.\n",
      "  and should_run_async(code)\n"
     ]
    }
   ],
   "source": [
    "def initial_clean(text):\n",
    "    \"\"\"\n",
    "    Function to clean text-remove punctuations, lowercase text etc.\n",
    "    \"\"\"\n",
    "    text = re.sub(\"[^a-zA-Z ]\", \"\", text)\n",
    "    text = text.lower()  # lower case text\n",
    "    text = nltk.word_tokenize(text)\n",
    "    return (text)"
   ]
  },
  {
   "cell_type": "code",
   "execution_count": 7,
   "metadata": {
    "id": "S75LrX3pILPG"
   },
   "outputs": [
    {
     "name": "stderr",
     "output_type": "stream",
     "text": [
      "C:\\Users\\muppa\\AppData\\Roaming\\Python\\Python38\\site-packages\\ipykernel\\ipkernel.py:283: DeprecationWarning: `should_run_async` will not call `transform_cell` automatically in the future. Please pass the result to `transformed_cell` argument and any exception that happen during thetransform in `preprocessing_exc_tuple` in IPython 7.17 and above.\n",
      "  and should_run_async(code)\n"
     ]
    }
   ],
   "source": [
    "\n",
    "stop_words = stopwords.words('english')\n",
    "# adding some more stop words that doesn't convey much meaning in terms of reviews feel free to extend or reduce this list\n",
    "stop_words.extend(['news', 'say','use', 'not', 'would', 'say', 'could', '_', 'be', 'know', \n",
    "                   'good', 'go', 'get', 'do','took','time','year',\n",
    "                 'done', 'try', 'many', 'some','nice', 'thank', 'think', 'see', 'rather',\n",
    "                  'easy', 'easily', 'lot', 'lack', 'make', 'want', 'seem', 'run', 'need', \n",
    "                   'even', 'right', 'line','even', 'also', 'may', 'take', 'come',\n",
    "                   'new','said', 'like','people'])"
   ]
  },
  {
   "cell_type": "code",
   "execution_count": 8,
   "metadata": {
    "id": "5VWCXvWxIgfq"
   },
   "outputs": [
    {
     "name": "stderr",
     "output_type": "stream",
     "text": [
      "C:\\Users\\muppa\\AppData\\Roaming\\Python\\Python38\\site-packages\\ipykernel\\ipkernel.py:283: DeprecationWarning: `should_run_async` will not call `transform_cell` automatically in the future. Please pass the result to `transformed_cell` argument and any exception that happen during thetransform in `preprocessing_exc_tuple` in IPython 7.17 and above.\n",
      "  and should_run_async(code)\n"
     ]
    }
   ],
   "source": [
    "def remove_stop_words(text):\n",
    "     return [word for word in text if word not in stop_words]"
   ]
  },
  {
   "cell_type": "code",
   "execution_count": 9,
   "metadata": {
    "id": "mnVZ6ynFIlS3"
   },
   "outputs": [
    {
     "name": "stderr",
     "output_type": "stream",
     "text": [
      "C:\\Users\\muppa\\AppData\\Roaming\\Python\\Python38\\site-packages\\ipykernel\\ipkernel.py:283: DeprecationWarning: `should_run_async` will not call `transform_cell` automatically in the future. Please pass the result to `transformed_cell` argument and any exception that happen during thetransform in `preprocessing_exc_tuple` in IPython 7.17 and above.\n",
      "  and should_run_async(code)\n"
     ]
    }
   ],
   "source": [
    "stemmer = PorterStemmer()\n",
    "def stem_words(text):\n",
    "    \"\"\"\n",
    "    Function to stem words\n",
    "    \"\"\"\n",
    "    try:\n",
    "        text = [stemmer.stem(word) for word in text]\n",
    "        text = [word for word in text if len(word) > 1] # no single letter words\n",
    "    except IndexError:\n",
    "        pass\n",
    "\n",
    "    return text"
   ]
  },
  {
   "cell_type": "code",
   "execution_count": 10,
   "metadata": {
    "id": "TG6ao15fI7ne"
   },
   "outputs": [
    {
     "name": "stderr",
     "output_type": "stream",
     "text": [
      "C:\\Users\\muppa\\AppData\\Roaming\\Python\\Python38\\site-packages\\ipykernel\\ipkernel.py:283: DeprecationWarning: `should_run_async` will not call `transform_cell` automatically in the future. Please pass the result to `transformed_cell` argument and any exception that happen during thetransform in `preprocessing_exc_tuple` in IPython 7.17 and above.\n",
      "  and should_run_async(code)\n"
     ]
    }
   ],
   "source": [
    "def apply_all(text):\n",
    "    \"\"\"\n",
    "    This function applies all the functions above into one\n",
    "    \"\"\"\n",
    "    return stem_words(remove_stop_words(initial_clean(text)))"
   ]
  },
  {
   "cell_type": "code",
   "execution_count": 11,
   "metadata": {
    "colab": {
     "base_uri": "https://localhost:8080/"
    },
    "id": "F2XfXdXLJEtb",
    "outputId": "bc30d4b7-8534-4bba-ab89-8a3a43a9bfd7"
   },
   "outputs": [
    {
     "name": "stderr",
     "output_type": "stream",
     "text": [
      "C:\\Users\\muppa\\AppData\\Roaming\\Python\\Python38\\site-packages\\ipykernel\\ipkernel.py:283: DeprecationWarning: `should_run_async` will not call `transform_cell` automatically in the future. Please pass the result to `transformed_cell` argument and any exception that happen during thetransform in `preprocessing_exc_tuple` in IPython 7.17 and above.\n",
      "  and should_run_async(code)\n"
     ]
    },
    {
     "name": "stdout",
     "output_type": "stream",
     "text": [
      "Time to clean and tokenize 5000 reviews: 0.10455396970113119 min\n",
      "\n",
      "\n",
      "reviews with their respective tokenize version:\n",
      "                                             Reviews  \\\n",
      "0  I thought it would be as big as small paper bu...   \n",
      "1  This kindle is light and easy to use especiall...   \n",
      "2  Didnt know how much i'd use a kindle so went f...   \n",
      "3  I am 100 happy with my purchase. I caught it o...   \n",
      "4  Solid entry level Kindle. Great for kids. Gift...   \n",
      "\n",
      "                                   tokenized_reviews  \n",
      "0  [thought, big, small, paper, turn, palm, small...  \n",
      "1                      [kindl, light, especi, beach]  \n",
      "2  [didnt, much, id, kindl, went, lower, end, im,...  \n",
      "3  [happi, purchas, caught, sale, realli, price, ...  \n",
      "4  [solid, entri, level, kindl, great, kid, gift,...  \n"
     ]
    }
   ],
   "source": [
    "\n",
    "t1 = time.time()\n",
    "reviews_df['tokenized_reviews'] = reviews_df['Reviews'].apply(apply_all)\n",
    "t2 = time.time()\n",
    "print(\"Time to clean and tokenize\", len(reviews_df), \"reviews:\", (t2-t1)/60, \"min\") #Time to clean and tokenize 3209 reviews: 0.21254388093948365 min\n",
    "\n",
    "print('\\n')\n",
    "print(\"reviews with their respective tokenize version:\" )\n",
    "print(reviews_df.head(5))"
   ]
  },
  {
   "cell_type": "code",
   "execution_count": 12,
   "metadata": {
    "colab": {
     "base_uri": "https://localhost:8080/"
    },
    "id": "Zn4IOCANJ5G6",
    "outputId": "27606e24-f562-4c62-8b13-baeeb00d7836"
   },
   "outputs": [
    {
     "name": "stderr",
     "output_type": "stream",
     "text": [
      "C:\\Users\\muppa\\AppData\\Roaming\\Python\\Python38\\site-packages\\ipykernel\\ipkernel.py:283: DeprecationWarning: `should_run_async` will not call `transform_cell` automatically in the future. Please pass the result to `transformed_cell` argument and any exception that happen during thetransform in `preprocessing_exc_tuple` in IPython 7.17 and above.\n",
      "  and should_run_async(code)\n",
      "C:\\Users\\muppa\\anaconda3\\lib\\asyncio\\events.py:81: DeprecationWarning: `run_cell_async` will not call `transform_cell` automatically in the future. Please pass the result to `transformed_cell` argument and any exception that happen during thetransform in `preprocessing_exc_tuple` in IPython 7.17 and above.\n",
      "  self._context.run(self._callback, *self._args)\n"
     ]
    },
    {
     "name": "stdout",
     "output_type": "stream",
     "text": [
      "[[(0, 1), (1, 1), (2, 1), (3, 1), (4, 1), (5, 1), (6, 1), (7, 1), (8, 1), (9, 1), (10, 1), (11, 2), (12, 1), (13, 1)]]\n",
      "[[('big', 1), ('comfort', 1), ('definit', 1), ('instead', 1), ('kindl', 1), ('palm', 1), ('paper', 1), ('paperwhit', 1), ('read', 1), ('recommend', 1), ('regular', 1), ('small', 2), ('thought', 1), ('turn', 1)]]\n"
     ]
    }
   ],
   "source": [
    "#LDA\n",
    "#Create a Gensim dictionary from the tokenized data\n",
    "tokenized = reviews_df['tokenized_reviews']\n",
    "#Creating term dictionary of corpus, where each unique term is assigned an index.\n",
    "dictionary = corpora.Dictionary(tokenized)\n",
    "#Filter terms which occurs in less than 1 review and more than 80% of the reviews.\n",
    "dictionary.filter_extremes(no_below=1, no_above=0.8)\n",
    "#convert the dictionary to a bag of words corpus\n",
    "corpus = [dictionary.doc2bow(tokens) for tokens in tokenized]\n",
    "print(corpus[:1])\n",
    "\n",
    "print([[(dictionary[id], freq) for id, freq in cp] for cp in corpus[:1]])"
   ]
  },
  {
   "cell_type": "code",
   "execution_count": 14,
   "metadata": {
    "colab": {
     "base_uri": "https://localhost:8080/"
    },
    "id": "vECtjFYuKT5k",
    "outputId": "db004ff9-2f7c-41e6-c797-c0516824f3a0"
   },
   "outputs": [
    {
     "name": "stderr",
     "output_type": "stream",
     "text": [
      "C:\\Users\\muppa\\AppData\\Roaming\\Python\\Python38\\site-packages\\ipykernel\\ipkernel.py:283: DeprecationWarning: `should_run_async` will not call `transform_cell` automatically in the future. Please pass the result to `transformed_cell` argument and any exception that happen during thetransform in `preprocessing_exc_tuple` in IPython 7.17 and above.\n",
      "  and should_run_async(code)\n"
     ]
    },
    {
     "name": "stdout",
     "output_type": "stream",
     "text": [
      "\n",
      "\n",
      "Now printing the topics and their composition\n",
      "This output shows the Topic-Words matrix for the 7 topics created and the 4 words within each topic\n",
      "(0, '0.056*\"love\" + 0.041*\"tablet\" + 0.032*\"great\" + 0.028*\"kid\"')\n",
      "(1, '0.044*\"kindl\" + 0.030*\"read\" + 0.029*\"fire\" + 0.028*\"love\"')\n",
      "(2, '0.028*\"echo\" + 0.023*\"great\" + 0.020*\"alexa\" + 0.017*\"love\"')\n",
      "(3, '0.014*\"recommend\" + 0.014*\"book\" + 0.013*\"read\" + 0.010*\"product\"')\n",
      "(4, '0.037*\"gift\" + 0.035*\"one\" + 0.024*\"love\" + 0.022*\"christma\"')\n",
      "(5, '0.039*\"tablet\" + 0.022*\"great\" + 0.018*\"price\" + 0.013*\"kindl\"')\n",
      "(6, '0.015*\"devic\" + 0.013*\"button\" + 0.012*\"screen\" + 0.011*\"app\"')\n"
     ]
    }
   ],
   "source": [
    "#LDA\n",
    "ldamodel = gensim.models.ldamodel.LdaModel(corpus, num_topics = 7, id2word=dictionary, passes=15, alpha='auto', eta=0.61)\n",
    "#saving the model\n",
    "ldamodel.save('model_combined.gensim')\n",
    "topics = ldamodel.print_topics(num_words=4)\n",
    "print('\\n')\n",
    "print(\"Now printing the topics and their composition\")\n",
    "print(\"This output shows the Topic-Words matrix for the 7 topics created and the 4 words within each topic\")\n",
    "for topic in topics:\n",
    "   print(topic)"
   ]
  },
  {
   "cell_type": "markdown",
   "metadata": {
    "id": "MMUJRSGQP30j"
   },
   "source": [
    "What is coherence?\n",
    "\n",
    "A set of statements or facts is said to be coherent, if they support each other. Thus, a coherent fact set can be interpreted in a context that covers all or most of the facts. \n",
    "\n",
    "Coherence Measures\n",
    "\n",
    "Let’s take quick look at different coherence measures, and how they are calculated:\n",
    "\n",
    "C_v measure is based on a sliding window, one-set segmentation of the top words and an indirect confirmation measure that uses normalized pointwise mutual information (NPMI) and the cosine similarity\n",
    "\n",
    "C_p is based on a sliding window, one-preceding segmentation of the top words and the confirmation measure of Fitelson’s coherence\n",
    "\n",
    "C_uci measure is based on a sliding window and the pointwise mutual information (PMI) of all word pairs of the given top words\n",
    "\n",
    "C_umass is based on document cooccurrence counts, a one-preceding segmentation and a logarithmic conditional probability as confirmation measure\n",
    "\n",
    "C_npmi is an enhanced version of the C_uci coherence using the normalized pointwise mutual information (NPMI)\n",
    "\n",
    "C_a is baseed on a context window, a pairwise comparison of the top words and an indirect confirmation measure that uses normalized pointwise mutual information (NPMI) and the cosine similarity\n",
    "\n",
    "There is, of course, a lot more to the concept of topic model evaluation, and the coherence measure. However, keeping in mind the length, and purpose of this ICP, let’s apply these concepts into developing a model that is at least better than with the default parameters. "
   ]
  },
  {
   "cell_type": "code",
   "execution_count": 15,
   "metadata": {
    "colab": {
     "base_uri": "https://localhost:8080/"
    },
    "id": "SaQoNQkROlZO",
    "outputId": "7b1e3d4e-f4a6-44c6-c7c9-ea885b23316d"
   },
   "outputs": [
    {
     "name": "stderr",
     "output_type": "stream",
     "text": [
      "C:\\Users\\muppa\\AppData\\Roaming\\Python\\Python38\\site-packages\\ipykernel\\ipkernel.py:283: DeprecationWarning: `should_run_async` will not call `transform_cell` automatically in the future. Please pass the result to `transformed_cell` argument and any exception that happen during thetransform in `preprocessing_exc_tuple` in IPython 7.17 and above.\n",
      "  and should_run_async(code)\n"
     ]
    },
    {
     "name": "stdout",
     "output_type": "stream",
     "text": [
      "\n",
      "Coherence Score:  0.3887030008364784\n"
     ]
    }
   ],
   "source": [
    "# Compute Coherence Score\n",
    "coherence_model_lda = CoherenceModel(model=ldamodel, texts=tokenized, dictionary=dictionary, coherence='c_v')\n",
    "coherence_lda = coherence_model_lda.get_coherence()\n",
    "print('\\nCoherence Score: ', coherence_lda)"
   ]
  },
  {
   "cell_type": "code",
   "execution_count": 16,
   "metadata": {
    "colab": {
     "base_uri": "https://localhost:8080/"
    },
    "id": "g0tb0AKbKj4U",
    "outputId": "a4b0063c-90f2-4142-bf2a-9098138e629e"
   },
   "outputs": [
    {
     "name": "stdout",
     "output_type": "stream",
     "text": [
      "\n",
      "\n",
      "first review is:\n",
      "I thought it would be as big as small paper but turn out to be just like my palm. I think it is too small to read on it... not very comfortable as regular Kindle. Would definitely recommend a paperwhite instead.\n",
      "\n",
      "\n",
      "The similarity of this review with the topics and respective similarity score are \n",
      "[(1, 0.59800464), (5, 0.3864971)]\n"
     ]
    },
    {
     "name": "stderr",
     "output_type": "stream",
     "text": [
      "C:\\Users\\muppa\\AppData\\Roaming\\Python\\Python38\\site-packages\\ipykernel\\ipkernel.py:283: DeprecationWarning: `should_run_async` will not call `transform_cell` automatically in the future. Please pass the result to `transformed_cell` argument and any exception that happen during thetransform in `preprocessing_exc_tuple` in IPython 7.17 and above.\n",
      "  and should_run_async(code)\n"
     ]
    }
   ],
   "source": [
    "\n",
    "#finding the similarity of the first review with topics\n",
    "print('\\n')\n",
    "print(\"first review is:\")\n",
    "print(reviews_df.Reviews[0])\n",
    "get_document_topics = ldamodel.get_document_topics(corpus[0])\n",
    "print('\\n')\n",
    "print(\"The similarity of this review with the topics and respective similarity score are \")\n",
    "print(get_document_topics)"
   ]
  },
  {
   "cell_type": "code",
   "execution_count": 18,
   "metadata": {
    "colab": {
     "base_uri": "https://localhost:8080/",
     "height": 983
    },
    "id": "NhVHZAdYK7Tk",
    "outputId": "067e18d8-705c-4976-d033-9c27e0129dec"
   },
   "outputs": [
    {
     "name": "stderr",
     "output_type": "stream",
     "text": [
      "C:\\Users\\muppa\\AppData\\Roaming\\Python\\Python38\\site-packages\\ipykernel\\ipkernel.py:283: DeprecationWarning: `should_run_async` will not call `transform_cell` automatically in the future. Please pass the result to `transformed_cell` argument and any exception that happen during thetransform in `preprocessing_exc_tuple` in IPython 7.17 and above.\n",
      "  and should_run_async(code)\n"
     ]
    },
    {
     "data": {
      "text/html": [
       "\n",
       "<link rel=\"stylesheet\" type=\"text/css\" href=\"https://cdn.jsdelivr.net/gh/bmabey/pyLDAvis@3.2.2/pyLDAvis/js/ldavis.v1.0.0.css\">\n",
       "\n",
       "\n",
       "<div id=\"ldavis_el138482660236606816539670774\"></div>\n",
       "<script type=\"text/javascript\">\n",
       "\n",
       "var ldavis_el138482660236606816539670774_data = {\"mdsDat\": {\"x\": [-0.02124711789410984, -0.10443556376167339, -0.14844975093689605, -0.03080336245751186, 0.11091727722687778, 0.06552476758150692, 0.1284937502418066], \"y\": [0.0720963800927243, 0.07320314978462857, -0.07469740097629202, -0.00012845432482408146, 0.08923328513230608, -0.1382890100595297, -0.021417949649013293], \"topics\": [1, 2, 3, 4, 5, 6, 7], \"cluster\": [1, 1, 1, 1, 1, 1, 1], \"Freq\": [30.336662007109798, 28.73219532235441, 18.158283894804768, 11.096325310667162, 5.121328716757872, 4.893319535055215, 1.661885213250786]}, \"tinfo\": {\"Term\": [\"love\", \"tablet\", \"kindl\", \"echo\", \"read\", \"one\", \"kid\", \"gift\", \"book\", \"fire\", \"bought\", \"alexa\", \"game\", \"recommend\", \"old\", \"christma\", \"product\", \"devic\", \"great\", \"buy\", \"price\", \"app\", \"sound\", \"screen\", \"home\", \"music\", \"purchas\", \"play\", \"got\", \"son\", \"echo\", \"alexa\", \"smart\", \"dot\", \"voic\", \"kitchen\", \"bulb\", \"hub\", \"recip\", \"answer\", \"weather\", \"hue\", \"tap\", \"sound\", \"secur\", \"command\", \"question\", \"lyric\", \"ask\", \"autom\", \"alarm\", \"home\", \"ring\", \"hear\", \"cook\", \"bedroom\", \"list\", \"show\", \"room\", \"arlo\", \"music\", \"speaker\", \"hous\", \"listen\", \"bluetooth\", \"plu\", \"famili\", \"video\", \"fun\", \"call\", \"connect\", \"devic\", \"product\", \"great\", \"set\", \"amazon\", \"work\", \"thing\", \"light\", \"love\", \"play\", \"use\", \"screen\", \"well\", \"purchas\", \"one\", \"card\", \"charg\", \"cheap\", \"expens\", \"sd\", \"brows\", \"web\", \"storag\", \"beat\", \"pay\", \"valu\", \"os\", \"batteri\", \"complaint\", \"cheaper\", \"low\", \"surf\", \"slow\", \"altern\", \"android\", \"basic\", \"charger\", \"heavi\", \"cost\", \"faster\", \"port\", \"model\", \"oasi\", \"dollar\", \"afford\", \"ipad\", \"price\", \"last\", \"memori\", \"money\", \"tablet\", \"cant\", \"life\", \"gb\", \"store\", \"reader\", \"app\", \"far\", \"dont\", \"great\", \"best\", \"read\", \"kindl\", \"need\", \"amazon\", \"one\", \"work\", \"well\", \"better\", \"screen\", \"look\", \"book\", \"bought\", \"fire\", \"buy\", \"much\", \"realli\", \"product\", \"purchas\", \"game\", \"light\", \"parent\", \"yr\", \"educ\", \"niec\", \"nephew\", \"durabl\", \"grand\", \"adult\", \"children\", \"age\", \"grandson\", \"kid\", \"son\", \"toddler\", \"granddaught\", \"appropri\", \"road\", \"protect\", \"grandchildren\", \"child\", \"birthday\", \"trip\", \"profil\", \"tough\", \"pink\", \"friendli\", \"daughter\", \"damag\", \"young\", \"cartoon\", \"game\", \"old\", \"learn\", \"navig\", \"love\", \"user\", \"play\", \"tablet\", \"bought\", \"perfect\", \"great\", \"watch\", \"gift\", \"got\", \"app\", \"purchas\", \"movi\", \"use\", \"case\", \"control\", \"one\", \"work\", \"set\", \"price\", \"kindl\", \"product\", \"well\", \"amazon\", \"enjoy\", \"junk\", \"lighter\", \"weight\", \"th\", \"purs\", \"occasion\", \"trick\", \"sun\", \"hd\", \"challeng\", \"till\", \"red\", \"glare\", \"larger\", \"sahr\", \"ap\", \"backlit\", \"backupand\", \"dayssturdi\", \"februari\", \"primetim\", \"repair\", \"toast\", \"tot\", \"plane\", \"worthwhil\", \"gener\", \"format\", \"smaller\", \"flower\", \"inch\", \"fire\", \"librari\", \"bigger\", \"kindl\", \"origin\", \"size\", \"read\", \"book\", \"upgrad\", \"lightweight\", \"easier\", \"wife\", \"text\", \"mostli\", \"ebook\", \"mother\", \"love\", \"year\", \"want\", \"small\", \"use\", \"screen\", \"movi\", \"one\", \"purchas\", \"much\", \"bought\", \"first\", \"best\", \"replac\", \"watch\", \"perfect\", \"light\", \"great\", \"tablet\", \"enjoy\", \"button\", \"keyboard\", \"menu\", \"font\", \"magazin\", \"swipe\", \"imag\", \"top\", \"press\", \"close\", \"folder\", \"newstand\", \"squar\", \"glass\", \"shape\", \"box\", \"corner\", \"coat\", \"window\", \"newspap\", \"subscript\", \"page\", \"physic\", \"partli\", \"youv\", \"hate\", \"bottom\", \"crazi\", \"line\", \"haptic\", \"complic\", \"preinstal\", \"photo\", \"automat\", \"left\", \"type\", \"hand\", \"devic\", \"paperwhit\", \"hold\", \"chang\", \"switch\", \"open\", \"doesnt\", \"screen\", \"app\", \"appear\", \"view\", \"turn\", \"littl\", \"back\", \"amazon\", \"alway\", \"home\", \"size\", \"im\", \"case\", \"cover\", \"includ\", \"dont\", \"look\", \"touch\", \"one\", \"grandkid\", \"nexu\", \"recipi\", \"employe\", \"sister\", \"boyfriend\", \"told\", \"bn\", \"present\", \"daughterinlaw\", \"obviou\", \"lol\", \"spous\", \"gift\", \"teach\", \"fundrais\", \"christma\", \"grandkidsag\", \"nook\", \"countri\", \"inlaw\", \"fanat\", \"suggest\", \"stock\", \"tabletdo\", \"vehicl\", \"betterfast\", \"descipl\", \"fasteasi\", \"priceveri\", \"gave\", \"brother\", \"earli\", \"receiv\", \"superb\", \"wife\", \"one\", \"happi\", \"buy\", \"got\", \"bought\", \"pleas\", \"absolut\", \"love\", \"purchas\", \"second\", \"best\", \"went\", \"anoth\", \"im\", \"item\", \"famili\", \"much\", \"start\", \"work\", \"grandson\", \"son\", \"store\", \"product\", \"kindl\", \"colleg\", \"dauther\", \"student\", \"al\", \"firend\", \"reccomend\", \"anybodi\", \"approach\", \"chime\", \"consic\", \"trilog\", \"carousel\", \"intent\", \"suit\", \"manual\", \"welcom\", \"lug\", \"hotspot\", \"refer\", \"fastgreat\", \"songreat\", \"greater\", \"difficulti\", \"style\", \"devis\", \"fingertip\", \"seri\", \"bestbuycom\", \"lap\", \"dictionari\", \"tableti\", \"lightweight\", \"imposs\", \"anyon\", \"friend\", \"recommend\", \"delet\", \"outstand\", \"book\", \"librari\", \"read\", \"definit\", \"satisfi\", \"product\", \"famili\", \"eas\", \"life\", \"etc\", \"weight\", \"great\", \"make\", \"savvi\", \"figur\", \"carri\", \"realli\", \"excel\", \"batteri\", \"way\", \"easier\", \"without\"], \"Freq\": [1358.0, 1338.0, 692.0, 580.0, 509.0, 670.0, 400.0, 226.0, 370.0, 390.0, 648.0, 418.0, 375.0, 212.0, 355.0, 138.0, 449.0, 377.0, 1396.0, 290.0, 455.0, 436.0, 299.0, 405.0, 229.0, 363.0, 454.0, 455.0, 234.0, 176.0, 578.483567094613, 414.5728459655326, 137.3847843423862, 113.60840620507346, 65.24907028480347, 58.50677739201624, 56.00494369842936, 54.09011647464634, 53.45410235056235, 50.64911136682828, 73.18437272804906, 51.02090565574977, 107.01058100464326, 283.2236883797799, 37.145307513627934, 32.77302312698592, 78.84621938555684, 28.812533963489372, 117.31558288798512, 27.272362931569216, 26.07713394617672, 209.86351790965676, 23.519154876092827, 37.49676428309273, 22.440616576107633, 21.194742129734713, 39.30439425971191, 316.61424980845953, 81.66603580527634, 19.684792646860032, 325.78080811732224, 181.29553549938072, 101.64777400141804, 101.35314401391248, 40.206494783206715, 124.81102350381407, 106.68560900534086, 179.01786960132267, 101.537746487995, 76.43052994394175, 101.6472580801395, 204.52604945526284, 225.64233748038524, 487.80189455599475, 163.7447891646631, 256.9690385763279, 240.30923961784288, 144.36804167534632, 156.39788520523706, 358.9498348958664, 148.6731516513669, 146.76258807890468, 131.97519398699686, 113.99069413811333, 115.75080338451463, 118.46367321693674, 54.04506353941388, 140.74773448130932, 40.4332448955478, 35.04003199983339, 32.746508985663034, 34.868345988891946, 55.934024538434336, 60.04557351950274, 53.94304948554926, 31.55478154597856, 57.99740974758266, 24.8246889951215, 156.69685044822504, 38.29663590697731, 28.600492807091435, 41.58923975780202, 41.99502796989398, 34.55565654913843, 19.128611216919687, 42.20093686090279, 57.70333453058131, 25.388889405768865, 16.333458409369552, 34.82141860216163, 35.33349642324517, 16.21222394892614, 63.804226708453996, 51.127705916321446, 15.687422029687163, 30.16837920757032, 112.6617304013191, 353.43712579873045, 85.21357921935184, 42.811831865251996, 71.85608119689161, 780.5361244504074, 110.02806219932394, 79.99285673821191, 46.27183234260237, 88.19534906000644, 72.83862911876126, 214.49855731994828, 86.72116531081116, 95.72427204051802, 441.4545380092486, 139.06815813455452, 209.28757065813787, 251.20342594953547, 96.55392795495305, 229.04562310815555, 239.71556479985074, 215.2946080625499, 136.21868849028107, 116.42644081877366, 140.99735314451624, 101.71363561381769, 127.48159274079617, 163.00414937150407, 120.16166719246327, 106.5802361058984, 101.88730382282337, 98.2459691006979, 109.44223508584307, 105.8644689946617, 99.55824875591065, 95.06159095929962, 85.08719146258925, 59.96163492096187, 37.013056150779285, 28.719835243330664, 34.60776047365573, 42.64943285466174, 23.374211287563625, 27.221885545251073, 66.31561464798804, 49.362021815736504, 97.86194113630945, 350.746435116843, 154.0442331527336, 17.16212800275388, 71.10817852778234, 12.68875209479776, 13.935520341706402, 38.1299584105059, 14.410687627691336, 42.01505395283235, 37.31387433590737, 26.643590500999395, 14.765221160906155, 10.461277438808867, 9.043298438951307, 53.75471836626558, 137.17517833820528, 8.395194272251898, 16.482744507300254, 8.645220601635428, 266.6142511526978, 250.23996719163873, 101.6066333005205, 38.67474472638717, 696.9063637663103, 51.965284682823054, 223.30093062297908, 519.1917303679221, 285.7379871644312, 114.43203353513864, 400.3237611458891, 91.73730770838188, 93.71259801111832, 89.23874869259359, 125.7019202598296, 124.69925706857707, 64.1940535893812, 113.12017643331332, 57.914928084816275, 65.41995098512955, 106.73770467329614, 96.55545615195197, 75.5893110858242, 83.88250868690638, 86.45580539332364, 78.99053150099905, 72.97787351070365, 72.01696950154651, 67.07946332876972, 17.061840935967055, 18.447417129379403, 23.482086763789987, 23.897992838842484, 19.174685740693256, 9.24408478990357, 8.974748496314978, 7.7742148828449125, 81.05290845084882, 6.222479122620959, 6.915681135046169, 6.182200227381453, 5.222219742483026, 31.949166295495562, 4.6858730946044265, 4.589057762851288, 6.4348842020155015, 4.209714688050954, 4.209714688050954, 4.209714688050954, 4.209714688050954, 4.209714688050954, 4.209714688050954, 4.209714688050954, 5.951993656573711, 4.246621727927647, 31.991992775225135, 9.214523196292433, 20.90712508694027, 3.8020998344284784, 16.865518485075047, 222.88953785348016, 20.94225896528509, 17.913115136138707, 338.54191227838675, 27.272561352432213, 105.62386415866767, 229.3845502122809, 169.03741153839343, 46.727762671693355, 15.239292582756615, 34.22196415660116, 53.89092579543369, 13.777930646542139, 19.170904420318067, 24.29539999674874, 18.201469299269665, 217.91293569867298, 30.04689154380951, 46.13882736410526, 36.46715339417641, 81.67642040830837, 72.95265794203807, 35.99764300815545, 74.90079989624128, 62.24843070954385, 47.34658892518515, 64.07682373073534, 35.212046995969466, 42.5594017245394, 32.170957470157575, 37.159273884884136, 38.67980262524612, 41.33422899902006, 59.73824639765257, 36.48285192669451, 30.469238681535003, 47.38215646297626, 10.073638006248807, 12.559049414831772, 9.607400697131288, 22.905848469902413, 8.944593427072599, 7.1361982643861195, 8.398834166903569, 8.070914372593144, 10.87469377162865, 4.907212322605426, 4.905902184863371, 4.788480730255141, 4.42952188712446, 8.018374110581222, 9.311410631673972, 4.057021667350351, 4.0532872201646235, 4.60938502416521, 3.7681484147201387, 6.26227640921505, 31.93386673562437, 3.556747480907158, 3.3740181864636334, 3.3740181864636334, 5.0510908359940405, 7.177231170438499, 6.443418871727346, 2.952212582250806, 2.942649685975538, 4.765227736777451, 6.341583496033543, 13.860762671299945, 8.455215691972317, 7.283387248118253, 6.404903533590714, 22.150200131326727, 52.14011989885844, 14.27821552876549, 17.309666383763986, 12.875072386083419, 9.03184145224675, 11.330258531902292, 18.10310453421338, 43.435563097319346, 39.68338119034686, 8.40638687065081, 11.977880693393448, 17.424322539801572, 19.93114313559495, 14.661035394178576, 30.52538279938735, 13.209082328367577, 17.324909830230347, 16.419957553674767, 14.952650938884117, 12.377469828908518, 11.025631992436356, 10.072863180353066, 11.329645573134295, 11.592422475964218, 10.329009282569388, 11.574701722948905, 15.643038142672943, 7.439911013441521, 7.932247397963504, 6.135868894041628, 15.222444632011456, 5.7957349893294605, 9.034263569251944, 5.749726612407237, 21.819117997793334, 4.345265823751331, 4.345182212838293, 6.168925430232933, 3.4282323206575396, 125.19162342261002, 4.432541093001483, 3.1581939978032225, 74.48296285178378, 3.0485602675658896, 11.622895905776238, 3.933976284267423, 3.040061002358863, 3.4728593510868975, 5.428653248091226, 5.6280542845806885, 2.710081701916074, 2.7100734585866193, 2.6925432334227546, 2.6925432334227546, 2.6925432334227546, 2.6925432334227546, 24.58522136668179, 6.578439121028655, 5.291938414168315, 13.635566028239726, 4.654488028088339, 33.194694392961445, 119.28419916996285, 30.14035712160598, 52.58006593404747, 42.87826382620684, 73.40128101156196, 12.707728268007648, 13.447233427970591, 82.41758668386716, 43.75967829526749, 12.181182066249733, 23.624548462535184, 8.830731054547815, 12.31464078503814, 15.019280319356293, 12.702887470920402, 12.859625352088152, 15.584819824670701, 10.19639009892217, 17.3078060037622, 11.265578192007041, 12.078838383296361, 11.070077035428525, 12.242154441368754, 12.480146428429434, 4.933137169582985, 2.310782165118327, 2.5075676492658494, 1.9236732681819, 1.7008869856102597, 1.7008869856102597, 2.542673899781764, 1.6350239044099804, 1.6350239044099804, 1.6350239044099804, 1.6350239044099804, 1.8605576871596563, 1.6502249434123657, 1.6017219465530756, 2.5720123863255044, 1.8083423854841414, 1.3053350815519356, 1.4084121321198322, 1.4580992376977069, 1.0490214045276771, 1.0490214045276771, 1.116068594446541, 1.0566776499289336, 1.6350233711477788, 1.6087904703504279, 1.1915373276836887, 3.2920112791159974, 0.9914294867048391, 0.8955740061861449, 0.8304518928149464, 1.3807859505053306, 5.066120497623744, 2.2598089644258175, 5.3753517826429835, 7.573949711999463, 16.268650193890796, 1.8792355957162739, 1.9181085437929735, 15.859022700706499, 3.835820873770181, 15.10711126472529, 5.166760939877119, 3.3763706930932598, 11.939602044965191, 6.239877530351607, 3.6706842346546984, 4.9717922800503445, 3.7019971244997496, 2.789011974116815, 6.101550381788922, 3.2591543285663023, 2.023231854743842, 2.5412676873562257, 2.4945432532547196, 3.203533747787116, 2.5587938828730037, 2.767773740414913, 2.464774424114313, 2.339654313866795, 2.331621785324556], \"Total\": [1358.0, 1338.0, 692.0, 580.0, 509.0, 670.0, 400.0, 226.0, 370.0, 390.0, 648.0, 418.0, 375.0, 212.0, 355.0, 138.0, 449.0, 377.0, 1396.0, 290.0, 455.0, 436.0, 299.0, 405.0, 229.0, 363.0, 454.0, 455.0, 234.0, 176.0, 580.7340060703698, 418.4899996119853, 139.78984753050418, 115.86525850761943, 67.48574607650832, 60.7469776321727, 58.28769591578861, 56.31990039462018, 55.69263416424681, 52.92671116967196, 76.95777205833926, 53.70971705818487, 112.87316384079114, 299.02831461441775, 39.512491382399666, 35.010729808778365, 84.53542269455286, 31.03001406396571, 126.76939949882448, 29.487568223870717, 28.47817735138432, 229.40189766466327, 25.724560856927617, 41.142873722231705, 24.6753267083528, 23.414465447018774, 43.43617822201722, 350.69047752639244, 90.69830080188852, 21.90853071983395, 363.0119186670389, 205.1757367665892, 114.31434491839022, 114.87581644630704, 44.89086255333185, 157.6670614528552, 136.13333047153273, 272.5290138465086, 137.81730606129543, 98.70246665064292, 148.79647096316276, 377.03511737341944, 449.20307669408277, 1396.3450983743128, 298.37797774228443, 621.2061382056193, 571.0327853509436, 258.02294224955017, 302.7389172213411, 1358.6835104921665, 455.04490952058137, 441.5003928586617, 405.7144668468952, 324.8866001930519, 454.68046496995777, 670.8970419136563, 56.81067445589811, 150.35319694496266, 43.267887253493555, 37.84754201011171, 35.376198377859765, 37.80407501057534, 60.68632304255337, 65.16649799725884, 59.343952105839435, 34.83561891451855, 64.07645164230063, 27.43388435528677, 174.0006016916422, 42.921328500327874, 32.164302374808045, 46.88244655112119, 47.88375422439883, 39.46610714863502, 21.894324385867325, 48.62337062507982, 66.51646608658484, 29.448001315239637, 18.97704373889329, 40.58956448063569, 41.42406288475635, 19.026006963264667, 75.04647365556394, 60.408105203003345, 18.60898345916381, 36.369921681115805, 137.9822559708969, 455.2921962134745, 106.78034770803733, 52.484135437601765, 92.65510959606235, 1338.7215008250007, 151.8077794903355, 109.1009648599001, 57.418632487579366, 125.89419113073318, 101.93279866402068, 436.9731888027095, 135.35601727593016, 157.12197441232422, 1396.3450983743128, 271.4625522337129, 509.2955727350114, 692.8844470644825, 167.44868810368632, 621.2061382056193, 670.8970419136563, 571.0327853509436, 324.8866001930519, 262.50978161360973, 405.7144668468952, 210.35332062158574, 370.86423192833917, 648.0963102434607, 390.99200978134667, 290.9149521584194, 299.51991399059426, 281.36614084157793, 449.20307669408277, 454.68046496995777, 375.9058960015567, 302.7389172213411, 87.80273313993773, 62.60322673671224, 39.51904518764096, 31.34426747013751, 37.843079196755255, 46.82628154005111, 25.901274986133707, 30.328433352610695, 73.942157921194, 55.49999858968984, 111.43086949049284, 400.95781962136726, 176.2939628090101, 19.674743680307827, 83.852448862868, 15.186870586166012, 16.70846089647768, 46.18708840529157, 17.541090041995123, 52.286980030039494, 46.606883803749604, 33.381741699958816, 18.55627860074039, 13.244403445147576, 11.548896495581118, 69.04460513924155, 179.57853557467416, 11.07396067240567, 21.88653715217506, 11.490068843911052, 375.9058960015567, 355.63276407129484, 149.7115463688409, 53.98597963496778, 1358.6835104921665, 78.89839398178034, 455.04490952058137, 1338.7215008250007, 648.0963102434607, 239.13092925238, 1396.3450983743128, 190.59798677114125, 226.15588380540623, 234.74475911529865, 436.9731888027095, 454.68046496995777, 132.91970333411334, 441.5003928586617, 111.73296207518779, 148.34789851458459, 670.8970419136563, 571.0327853509436, 298.37797774228443, 455.2921962134745, 692.8844470644825, 449.20307669408277, 324.8866001930519, 621.2061382056193, 223.04367157434282, 19.66355370013181, 24.368415312129372, 31.258076439542023, 31.876718903170516, 25.73483986071472, 12.649964129427318, 12.423065544987521, 11.331703343088375, 118.65707886393513, 9.212484054390323, 10.290233299636538, 9.207449726878739, 7.816270653409931, 48.370204223469614, 7.240669986844954, 7.26209146332882, 10.311227731624454, 6.758246913465016, 6.758246913465016, 6.758246913465016, 6.758246913465016, 6.758246913465016, 6.758246913465016, 6.758246913465016, 9.628161352775924, 6.902314802651238, 52.03724271550217, 15.002927340340166, 34.34399089009337, 6.3506328411790145, 28.320250682736713, 390.99200978134667, 35.645277064677, 30.856142928368186, 692.8844470644825, 48.554944098081904, 207.64606087527324, 509.2955727350114, 370.86423192833917, 93.9212753014825, 27.258617577502182, 68.95639796018864, 129.14449551071615, 25.532522770646672, 38.56774546833834, 56.19759916970373, 38.89587178805248, 1358.6835104921665, 80.84633477456518, 154.20498310978905, 110.44316680873854, 441.5003928586617, 405.7144668468952, 132.91970333411334, 670.8970419136563, 454.68046496995777, 299.51991399059426, 648.0963102434607, 154.28358083151872, 271.4625522337129, 121.68965672306324, 190.59798677114125, 239.13092925238, 302.7389172213411, 1396.3450983743128, 1338.7215008250007, 223.04367157434282, 50.34703536348325, 12.79771619649262, 16.088585706435396, 13.049919847996275, 31.407469925532435, 12.48254416583492, 10.058314715790843, 12.580145120673535, 12.132796612192436, 16.65761902392956, 7.550807049444859, 7.551460513146264, 7.453842600453972, 7.149257081365949, 13.087350901041004, 15.376359262281138, 6.715804611507986, 6.717370268695831, 7.8287618270178765, 6.446047300279317, 10.848418617403883, 55.47656483800796, 6.302179733295779, 6.019512446244414, 6.019512446244414, 9.113877241218137, 13.165886498414725, 12.061862228299669, 5.600476634803379, 5.604790494147117, 9.554790796246381, 13.475852105483575, 33.39913211044285, 19.114844788971, 16.122940802663067, 13.821815871406114, 83.69377837957974, 377.03511737341944, 48.50117144132495, 66.79663056493617, 41.924266534820354, 23.850734655988667, 36.29978449422929, 82.51164363070946, 405.7144668468952, 436.9731888027095, 24.656455309888745, 54.403203300136994, 132.80572677315098, 189.30531429851598, 89.53381859632849, 621.2061382056193, 72.69967059859, 229.40189766466327, 207.64606087527324, 192.48276140134067, 111.73296207518779, 74.95497442118828, 41.12857886875718, 157.12197441232422, 210.35332062158574, 55.33620458662151, 670.8970419136563, 19.72987883622944, 10.083202297181641, 11.344832276227438, 8.876020641465946, 22.230500547293968, 8.57066737819821, 13.385224766391396, 8.644098834408844, 34.442584740810396, 6.962494391659012, 6.9625611097287, 10.784208800362377, 6.170303261362905, 226.15588380540623, 8.060499007810131, 5.7756455835164076, 138.2516052519335, 5.665788953021363, 21.81667523652396, 7.466554395619162, 5.77450188351577, 6.600160687611352, 10.511972268538303, 11.063137894199686, 5.32731001537884, 5.327301928566568, 5.33492463787168, 5.33492463787168, 5.33492463787168, 5.33492463787168, 49.370927225962596, 13.046416016172948, 10.79165906355723, 30.078198869976422, 10.422465913616575, 129.14449551071615, 670.8970419136563, 128.52064643043659, 290.9149521584194, 234.74475911529865, 648.0963102434607, 48.29167739347737, 58.54071173837436, 1358.6835104921665, 454.68046496995777, 58.82906193053814, 271.4625522337129, 34.01840000830896, 77.76157999427934, 192.48276140134067, 125.25191420794987, 136.13333047153273, 299.51991399059426, 62.450788438600114, 571.0327853509436, 111.43086949049284, 176.2939628090101, 125.89419113073318, 449.20307669408277, 692.8844470644825, 8.815576779942527, 5.39211592648774, 6.0786359266024395, 4.746715866970151, 4.473511351346833, 4.473511351346833, 6.819570292591038, 4.422730788260751, 4.422730788260751, 4.422730788260751, 4.422730788260751, 5.136718362913326, 4.560697607281825, 4.542190461455151, 7.839939527330783, 5.864544519731921, 4.492272337755966, 4.871280441235081, 5.170328848508029, 3.8535709139962924, 3.8535709139962924, 4.129010670718844, 3.9188325516811098, 6.141510318243603, 6.054884510941781, 4.6642141305100635, 12.967920315276086, 3.9209084129957006, 3.6893610413661495, 3.645177621963806, 6.112579767670591, 27.258617577502182, 11.52661173043663, 36.5965261804523, 66.80560424234272, 212.70203163629668, 9.47843039569775, 10.143720817757343, 370.86423192833917, 35.645277064677, 509.2955727350114, 66.0363751397555, 28.95754692122554, 449.20307669408277, 136.13333047153273, 41.05947525162135, 109.1009648599001, 72.87248522021665, 31.258076439542023, 1396.3450983743128, 108.99329386620185, 11.777848933052024, 43.673243557483985, 42.65140558435656, 281.36614084157793, 80.85655896118455, 174.0006016916422, 100.80688993253669, 68.95639796018864, 119.74926313805439], \"Category\": [\"Default\", \"Default\", \"Default\", \"Default\", \"Default\", \"Default\", \"Default\", \"Default\", \"Default\", \"Default\", \"Default\", \"Default\", \"Default\", \"Default\", \"Default\", \"Default\", \"Default\", \"Default\", \"Default\", \"Default\", \"Default\", \"Default\", \"Default\", \"Default\", \"Default\", \"Default\", \"Default\", \"Default\", \"Default\", \"Default\", \"Topic1\", \"Topic1\", \"Topic1\", \"Topic1\", \"Topic1\", \"Topic1\", \"Topic1\", \"Topic1\", \"Topic1\", \"Topic1\", \"Topic1\", \"Topic1\", \"Topic1\", \"Topic1\", \"Topic1\", \"Topic1\", \"Topic1\", \"Topic1\", \"Topic1\", \"Topic1\", \"Topic1\", \"Topic1\", \"Topic1\", \"Topic1\", \"Topic1\", \"Topic1\", \"Topic1\", \"Topic1\", \"Topic1\", \"Topic1\", \"Topic1\", \"Topic1\", \"Topic1\", \"Topic1\", \"Topic1\", \"Topic1\", \"Topic1\", \"Topic1\", \"Topic1\", \"Topic1\", \"Topic1\", \"Topic1\", \"Topic1\", \"Topic1\", \"Topic1\", \"Topic1\", \"Topic1\", \"Topic1\", \"Topic1\", \"Topic1\", \"Topic1\", \"Topic1\", \"Topic1\", \"Topic1\", \"Topic1\", \"Topic1\", \"Topic2\", \"Topic2\", \"Topic2\", \"Topic2\", \"Topic2\", \"Topic2\", \"Topic2\", \"Topic2\", \"Topic2\", \"Topic2\", \"Topic2\", \"Topic2\", \"Topic2\", \"Topic2\", \"Topic2\", \"Topic2\", \"Topic2\", \"Topic2\", \"Topic2\", \"Topic2\", \"Topic2\", \"Topic2\", \"Topic2\", \"Topic2\", \"Topic2\", \"Topic2\", \"Topic2\", \"Topic2\", \"Topic2\", \"Topic2\", \"Topic2\", \"Topic2\", \"Topic2\", \"Topic2\", \"Topic2\", \"Topic2\", \"Topic2\", \"Topic2\", \"Topic2\", \"Topic2\", \"Topic2\", \"Topic2\", \"Topic2\", \"Topic2\", \"Topic2\", \"Topic2\", \"Topic2\", \"Topic2\", \"Topic2\", \"Topic2\", \"Topic2\", \"Topic2\", \"Topic2\", \"Topic2\", \"Topic2\", \"Topic2\", \"Topic2\", \"Topic2\", \"Topic2\", \"Topic2\", \"Topic2\", \"Topic2\", \"Topic2\", \"Topic2\", \"Topic2\", \"Topic2\", \"Topic3\", \"Topic3\", \"Topic3\", \"Topic3\", \"Topic3\", \"Topic3\", \"Topic3\", \"Topic3\", \"Topic3\", \"Topic3\", \"Topic3\", \"Topic3\", \"Topic3\", \"Topic3\", \"Topic3\", \"Topic3\", \"Topic3\", \"Topic3\", \"Topic3\", \"Topic3\", \"Topic3\", \"Topic3\", \"Topic3\", \"Topic3\", \"Topic3\", \"Topic3\", \"Topic3\", \"Topic3\", \"Topic3\", \"Topic3\", \"Topic3\", \"Topic3\", \"Topic3\", \"Topic3\", \"Topic3\", \"Topic3\", \"Topic3\", \"Topic3\", \"Topic3\", \"Topic3\", \"Topic3\", \"Topic3\", \"Topic3\", \"Topic3\", \"Topic3\", \"Topic3\", \"Topic3\", \"Topic3\", \"Topic3\", \"Topic3\", \"Topic3\", \"Topic3\", \"Topic3\", \"Topic3\", \"Topic3\", \"Topic3\", \"Topic3\", \"Topic3\", \"Topic3\", \"Topic4\", \"Topic4\", \"Topic4\", \"Topic4\", \"Topic4\", \"Topic4\", \"Topic4\", \"Topic4\", \"Topic4\", \"Topic4\", \"Topic4\", \"Topic4\", \"Topic4\", \"Topic4\", \"Topic4\", \"Topic4\", \"Topic4\", \"Topic4\", \"Topic4\", \"Topic4\", \"Topic4\", \"Topic4\", \"Topic4\", \"Topic4\", \"Topic4\", \"Topic4\", \"Topic4\", \"Topic4\", \"Topic4\", \"Topic4\", \"Topic4\", \"Topic4\", \"Topic4\", \"Topic4\", \"Topic4\", \"Topic4\", \"Topic4\", \"Topic4\", \"Topic4\", \"Topic4\", \"Topic4\", \"Topic4\", \"Topic4\", \"Topic4\", \"Topic4\", \"Topic4\", \"Topic4\", \"Topic4\", \"Topic4\", \"Topic4\", \"Topic4\", \"Topic4\", \"Topic4\", \"Topic4\", \"Topic4\", \"Topic4\", \"Topic4\", \"Topic4\", \"Topic4\", \"Topic4\", \"Topic4\", \"Topic4\", \"Topic4\", \"Topic4\", \"Topic4\", \"Topic4\", \"Topic4\", \"Topic5\", \"Topic5\", \"Topic5\", \"Topic5\", \"Topic5\", \"Topic5\", \"Topic5\", \"Topic5\", \"Topic5\", \"Topic5\", \"Topic5\", \"Topic5\", \"Topic5\", \"Topic5\", \"Topic5\", \"Topic5\", \"Topic5\", \"Topic5\", \"Topic5\", \"Topic5\", \"Topic5\", \"Topic5\", \"Topic5\", \"Topic5\", \"Topic5\", \"Topic5\", \"Topic5\", \"Topic5\", \"Topic5\", \"Topic5\", \"Topic5\", \"Topic5\", \"Topic5\", \"Topic5\", \"Topic5\", \"Topic5\", \"Topic5\", \"Topic5\", \"Topic5\", \"Topic5\", \"Topic5\", \"Topic5\", \"Topic5\", \"Topic5\", \"Topic5\", \"Topic5\", \"Topic5\", \"Topic5\", \"Topic5\", \"Topic5\", \"Topic5\", \"Topic5\", \"Topic5\", \"Topic5\", \"Topic5\", \"Topic5\", \"Topic5\", \"Topic5\", \"Topic5\", \"Topic5\", \"Topic5\", \"Topic5\", \"Topic5\", \"Topic6\", \"Topic6\", \"Topic6\", \"Topic6\", \"Topic6\", \"Topic6\", \"Topic6\", \"Topic6\", \"Topic6\", \"Topic6\", \"Topic6\", \"Topic6\", \"Topic6\", \"Topic6\", \"Topic6\", \"Topic6\", \"Topic6\", \"Topic6\", \"Topic6\", \"Topic6\", \"Topic6\", \"Topic6\", \"Topic6\", \"Topic6\", \"Topic6\", \"Topic6\", \"Topic6\", \"Topic6\", \"Topic6\", \"Topic6\", \"Topic6\", \"Topic6\", \"Topic6\", \"Topic6\", \"Topic6\", \"Topic6\", \"Topic6\", \"Topic6\", \"Topic6\", \"Topic6\", \"Topic6\", \"Topic6\", \"Topic6\", \"Topic6\", \"Topic6\", \"Topic6\", \"Topic6\", \"Topic6\", \"Topic6\", \"Topic6\", \"Topic6\", \"Topic6\", \"Topic6\", \"Topic6\", \"Topic6\", \"Topic6\", \"Topic6\", \"Topic6\", \"Topic6\", \"Topic6\", \"Topic7\", \"Topic7\", \"Topic7\", \"Topic7\", \"Topic7\", \"Topic7\", \"Topic7\", \"Topic7\", \"Topic7\", \"Topic7\", \"Topic7\", \"Topic7\", \"Topic7\", \"Topic7\", \"Topic7\", \"Topic7\", \"Topic7\", \"Topic7\", \"Topic7\", \"Topic7\", \"Topic7\", \"Topic7\", \"Topic7\", \"Topic7\", \"Topic7\", \"Topic7\", \"Topic7\", \"Topic7\", \"Topic7\", \"Topic7\", \"Topic7\", \"Topic7\", \"Topic7\", \"Topic7\", \"Topic7\", \"Topic7\", \"Topic7\", \"Topic7\", \"Topic7\", \"Topic7\", \"Topic7\", \"Topic7\", \"Topic7\", \"Topic7\", \"Topic7\", \"Topic7\", \"Topic7\", \"Topic7\", \"Topic7\", \"Topic7\", \"Topic7\", \"Topic7\", \"Topic7\", \"Topic7\", \"Topic7\", \"Topic7\", \"Topic7\", \"Topic7\", \"Topic7\", \"Topic7\"], \"logprob\": [30.0, 29.0, 28.0, 27.0, 26.0, 25.0, 24.0, 23.0, 22.0, 21.0, 20.0, 19.0, 18.0, 17.0, 16.0, 15.0, 14.0, 13.0, 12.0, 11.0, 10.0, 9.0, 8.0, 7.0, 6.0, 5.0, 4.0, 3.0, 2.0, 1.0, -3.5873, -3.9205, -5.0249, -5.215, -5.7695, -5.8786, -5.9223, -5.9571, -5.9689, -6.0228, -5.6547, -6.0155, -5.2748, -4.3015, -6.3329, -6.4581, -5.5802, -6.5869, -5.1828, -6.6418, -6.6867, -4.6013, -6.7899, -6.3235, -6.8368, -6.894, -6.2764, -4.19, -5.5451, -6.9679, -4.1615, -4.7476, -5.3262, -5.3291, -6.2537, -5.1209, -5.2778, -4.7602, -5.3273, -5.6113, -5.3262, -4.627, -4.5288, -3.7578, -4.8494, -4.3988, -4.4658, -4.9753, -4.8953, -4.0645, -4.946, -4.9589, -5.0651, -5.2116, -5.1963, -5.1731, -5.9036, -4.9464, -6.1937, -6.3369, -6.4046, -6.3418, -5.8692, -5.7983, -5.9054, -6.4417, -5.833, -6.6815, -4.8391, -6.248, -6.54, -6.1655, -6.1558, -6.3508, -6.9422, -6.1509, -5.8381, -6.6591, -7.1002, -6.3431, -6.3285, -7.1076, -5.7376, -5.959, -7.1405, -6.4866, -5.169, -4.0257, -5.4482, -6.1366, -5.6187, -3.2334, -5.1926, -5.5114, -6.0588, -5.4138, -5.6051, -4.5251, -5.4307, -5.3319, -3.8033, -4.9584, -4.5497, -4.3671, -5.3233, -4.4595, -4.4139, -4.5214, -4.9791, -5.1361, -4.9446, -5.2712, -5.0454, -4.7996, -5.1045, -5.2245, -5.2695, -5.3059, -5.198, -5.2312, -5.2926, -5.3389, -4.9908, -5.3408, -5.8232, -6.0769, -5.8904, -5.6815, -6.2829, -6.1305, -5.2401, -5.5353, -4.8509, -3.5744, -4.3972, -6.5918, -5.1703, -6.8938, -6.8, -5.7935, -6.7665, -5.6965, -5.8151, -6.1519, -6.7422, -7.0868, -7.2325, -5.4501, -4.5132, -7.3068, -6.6322, -7.2775, -3.8487, -3.9121, -4.8134, -5.7793, -2.8878, -5.4839, -4.026, -3.1822, -3.7794, -4.6945, -3.4422, -4.9156, -4.8943, -4.9432, -4.6006, -4.6086, -5.2726, -4.706, -5.3755, -5.2537, -4.7641, -4.8644, -5.1092, -5.0051, -4.9749, -5.0652, -5.1443, -5.1576, -5.2286, -6.1051, -6.027, -5.7857, -5.7682, -5.9884, -6.718, -6.7476, -6.8912, -4.5469, -7.1138, -7.0082, -7.1203, -7.289, -5.4778, -7.3974, -7.4183, -7.0802, -7.5046, -7.5046, -7.5046, -7.5046, -7.5046, -7.5046, -7.5046, -7.1582, -7.4958, -5.4765, -6.7212, -5.9019, -7.6064, -6.1167, -3.5353, -5.9002, -6.0564, -3.1173, -5.6361, -4.2821, -3.5066, -3.8119, -5.0976, -6.2181, -5.4091, -4.955, -6.3189, -5.9886, -5.7517, -6.0405, -3.5579, -5.5392, -5.1103, -5.3456, -4.5392, -4.6522, -5.3585, -4.6258, -4.8108, -5.0845, -4.7819, -5.3806, -5.1911, -5.4709, -5.3268, -5.2867, -5.2203, -4.852, -5.3451, -5.5253, -4.3105, -5.8588, -5.6383, -5.9062, -5.0374, -5.9777, -6.2036, -6.0407, -6.0805, -5.7823, -6.5781, -6.5783, -6.6026, -6.6805, -6.087, -5.9375, -6.7683, -6.7692, -6.6407, -6.8422, -6.3342, -4.7051, -6.8999, -6.9527, -6.9527, -6.5492, -6.1979, -6.3057, -7.0862, -7.0895, -6.6074, -6.3216, -5.5397, -6.034, -6.1832, -6.3117, -5.0709, -4.2148, -5.51, -5.3175, -5.6135, -5.968, -5.7413, -5.2727, -4.3975, -4.4878, -6.0398, -5.6857, -5.3109, -5.1765, -5.4836, -4.7502, -5.5879, -5.3166, -5.3703, -5.4639, -5.6529, -5.7685, -5.8589, -5.7413, -5.7184, -5.8338, -5.7199, -5.3732, -6.1164, -6.0523, -6.3091, -5.4005, -6.3661, -5.9222, -6.3741, -5.0404, -6.6541, -6.6542, -6.3037, -6.8912, -3.2934, -6.6343, -6.9732, -3.8127, -7.0086, -5.6703, -6.7536, -7.0114, -6.8783, -6.4315, -6.3955, -7.1262, -7.1263, -7.1327, -7.1327, -7.1327, -7.1327, -4.9211, -6.2394, -6.457, -5.5105, -6.5854, -4.6208, -3.3417, -4.7174, -4.1609, -4.3649, -3.8273, -5.581, -5.5245, -3.7114, -4.3445, -5.6233, -4.9609, -5.945, -5.6124, -5.4139, -5.5814, -5.5691, -5.3769, -5.8012, -5.2721, -5.7015, -5.6318, -5.719, -5.6183, -5.5991, -5.4473, -6.2057, -6.124, -6.3891, -6.5122, -6.5122, -6.1101, -6.5517, -6.5517, -6.5517, -6.5517, -6.4224, -6.5424, -6.5722, -6.0986, -6.4509, -6.7769, -6.7008, -6.6662, -6.9955, -6.9955, -6.9335, -6.9882, -6.5517, -6.5678, -6.8681, -5.8518, -7.0519, -7.1536, -7.2291, -6.7207, -5.4207, -6.228, -5.3615, -5.0186, -4.2541, -6.4124, -6.392, -4.2796, -5.6989, -4.3281, -5.4011, -5.8265, -4.5634, -5.2123, -5.7429, -5.4395, -5.7344, -6.0176, -5.2348, -5.8618, -6.3386, -6.1106, -6.1292, -5.8791, -6.1038, -6.0253, -6.1412, -6.1933, -6.1967], \"loglift\": [30.0, 29.0, 28.0, 27.0, 26.0, 25.0, 24.0, 23.0, 22.0, 21.0, 20.0, 19.0, 18.0, 17.0, 16.0, 15.0, 14.0, 13.0, 12.0, 11.0, 10.0, 9.0, 8.0, 7.0, 6.0, 5.0, 4.0, 3.0, 2.0, 1.0, 1.1889, 1.1834, 1.1755, 1.1731, 1.1591, 1.1552, 1.1529, 1.1524, 1.1518, 1.1488, 1.1425, 1.1415, 1.1395, 1.1385, 1.131, 1.1268, 1.1231, 1.1187, 1.1153, 1.1147, 1.1047, 1.1038, 1.1032, 1.1, 1.0979, 1.0932, 1.0929, 1.0906, 1.0879, 1.0858, 1.0846, 1.0691, 1.0754, 1.0676, 1.0826, 0.9591, 0.9491, 0.7726, 0.8873, 0.9371, 0.8117, 0.5812, 0.5043, 0.1411, 0.5928, 0.3101, 0.3273, 0.6121, 0.5323, -0.1383, 0.0742, 0.0915, 0.0698, 0.1455, -0.1753, -0.5412, 1.1972, 1.1811, 1.1794, 1.1701, 1.1699, 1.1663, 1.1656, 1.1653, 1.1517, 1.1482, 1.1475, 1.1472, 1.1424, 1.1331, 1.1297, 1.1274, 1.1159, 1.1143, 1.1121, 1.1055, 1.105, 1.0988, 1.0971, 1.0939, 1.0881, 1.0871, 1.0849, 1.0804, 1.0764, 1.0602, 1.0444, 0.9939, 1.0215, 1.0435, 0.9929, 0.7077, 0.9253, 0.9368, 1.0313, 0.8913, 0.9111, 0.5356, 0.8019, 0.7516, 0.0956, 0.5783, 0.3578, 0.2326, 0.6966, 0.2494, 0.218, 0.2717, 0.3779, 0.4341, 0.1902, 0.5205, 0.1793, -0.1331, 0.0673, 0.243, 0.1688, 0.195, -0.1649, -0.2103, -0.0814, 0.0888, 1.6746, 1.6629, 1.6405, 1.6186, 1.6167, 1.6126, 1.6034, 1.598, 1.5972, 1.5888, 1.5762, 1.5723, 1.5711, 1.5694, 1.5412, 1.5263, 1.5246, 1.5143, 1.5095, 1.4873, 1.4837, 1.4806, 1.4775, 1.4701, 1.4615, 1.4557, 1.4367, 1.4291, 1.4225, 1.4216, 1.3625, 1.3546, 1.3184, 1.3725, 1.0384, 1.2885, 0.9942, 0.7588, 0.8871, 0.969, 0.4567, 0.9748, 0.8251, 0.7389, 0.4601, 0.4124, 0.9782, 0.3443, 1.0489, 0.8873, -0.1322, -0.0713, 0.333, 0.0145, -0.3752, -0.0321, 0.2127, -0.4487, 0.5046, 2.0566, 1.9202, 1.9125, 1.9105, 1.9043, 1.8849, 1.8734, 1.8218, 1.8174, 1.8062, 1.8012, 1.8002, 1.7953, 1.7838, 1.7634, 1.7396, 1.7271, 1.7252, 1.7252, 1.7252, 1.7252, 1.7252, 1.7252, 1.7252, 1.7176, 1.7128, 1.7121, 1.7111, 1.7022, 1.6856, 1.6803, 1.6365, 1.6667, 1.6548, 1.4823, 1.6217, 1.5226, 1.4009, 1.4128, 1.5004, 1.6171, 1.4979, 1.3246, 1.5817, 1.4995, 1.36, 1.4392, 0.3684, 1.2088, 0.9919, 1.0905, 0.5111, 0.4827, 0.8923, 0.0061, 0.2101, 0.3539, -0.1154, 0.7212, 0.3456, 0.8681, 0.5636, 0.3769, 0.2074, -0.9531, -1.4041, 0.2079, 2.9111, 2.7324, 2.7241, 2.6655, 2.6561, 2.6385, 2.6285, 2.5677, 2.5641, 2.5453, 2.5408, 2.5405, 2.5292, 2.493, 2.4818, 2.4702, 2.4677, 2.4666, 2.442, 2.4349, 2.4223, 2.4195, 2.3997, 2.3929, 2.3929, 2.3816, 2.365, 2.3448, 2.3315, 2.3274, 2.2761, 2.218, 2.0923, 2.1561, 2.1771, 2.2026, 1.6424, 0.9934, 1.7489, 1.6214, 1.7912, 2.0007, 1.8074, 1.4549, 0.7374, 0.5728, 1.8957, 1.4584, 0.9407, 0.7207, 1.1623, -0.0413, 1.2663, 0.3884, 0.4344, 0.4166, 0.7715, 1.0551, 1.5649, 0.3422, 0.0733, 1.2933, -1.088, 2.7852, 2.7133, 2.6595, 2.6481, 2.6386, 2.6261, 2.6242, 2.6096, 2.5608, 2.5458, 2.5458, 2.4587, 2.4296, 2.4259, 2.4193, 2.4136, 2.3988, 2.3975, 2.3876, 2.3765, 2.3757, 2.3752, 2.3565, 2.3414, 2.3414, 2.3414, 2.3335, 2.3335, 2.3335, 2.3335, 2.3201, 2.3326, 2.3047, 2.2262, 2.2112, 1.6588, 1.2902, 1.5671, 1.3066, 1.3172, 0.8392, 1.6823, 1.5464, 0.2148, 0.6764, 1.4426, 0.5758, 1.6686, 1.1744, 0.4666, 0.7288, 0.6578, 0.0614, 1.205, -0.479, 0.7256, 0.3366, 0.5861, -0.5853, -0.9994, 3.5167, 3.2499, 3.2118, 3.194, 3.1302, 3.1302, 3.1106, 3.1021, 3.1021, 3.1021, 3.1021, 3.0817, 3.0807, 3.0549, 2.9827, 2.9207, 2.8613, 2.8563, 2.8314, 2.7961, 2.7961, 2.789, 2.7866, 2.7738, 2.7718, 2.7325, 2.7262, 2.7223, 2.6815, 2.618, 2.6095, 2.4144, 2.4678, 2.1791, 1.9201, 1.5266, 2.4791, 2.4317, 0.9451, 1.868, 0.5794, 1.5493, 1.9482, 0.4696, 1.0145, 1.6826, 1.0087, 1.1174, 1.6806, -1.3359, 0.5874, 2.3357, 1.2531, 1.2583, -0.3782, 0.6441, -0.0438, 0.3861, 0.7137, 0.1584]}, \"token.table\": {\"Topic\": [1, 2, 3, 4, 6, 1, 2, 3, 1, 2, 3, 4, 7, 1, 2, 3, 4, 1, 3, 7, 1, 1, 3, 5, 1, 2, 3, 1, 2, 3, 4, 5, 6, 1, 2, 3, 4, 5, 6, 7, 1, 2, 3, 5, 1, 2, 3, 4, 5, 6, 7, 1, 3, 1, 3, 7, 1, 2, 3, 7, 1, 3, 4, 1, 2, 3, 4, 5, 1, 2, 3, 5, 1, 7, 1, 3, 1, 3, 1, 2, 3, 6, 1, 1, 2, 4, 5, 1, 2, 3, 4, 5, 6, 1, 2, 4, 1, 4, 1, 2, 3, 4, 1, 2, 3, 4, 5, 7, 1, 2, 3, 4, 6, 1, 1, 2, 3, 4, 6, 1, 4, 7, 1, 2, 3, 4, 5, 7, 1, 3, 6, 1, 2, 3, 4, 6, 1, 3, 4, 6, 1, 2, 3, 5, 1, 2, 4, 6, 1, 2, 3, 4, 5, 7, 1, 2, 3, 5, 7, 1, 2, 3, 4, 6, 1, 3, 5, 6, 1, 2, 3, 6, 1, 2, 3, 6, 1, 2, 3, 4, 1, 1, 2, 5, 1, 2, 3, 4, 6, 7, 1, 2, 3, 1, 2, 3, 4, 5, 6, 1, 2, 3, 1, 2, 3, 7, 1, 2, 3, 4, 5, 7, 1, 2, 3, 1, 2, 3, 4, 5, 1, 2, 3, 4, 1, 2, 3, 4, 5, 7, 1, 2, 3, 4, 1, 2, 3, 4, 1, 2, 3, 4, 1, 2, 3, 4, 1, 2, 3, 6, 1, 2, 3, 6, 1, 7, 1, 2, 3, 4, 6, 1, 5, 1, 5, 1, 2, 3, 6, 7, 1, 1, 2, 3, 6, 1, 3, 4, 5, 6, 1, 2, 3, 4, 5, 6, 1, 7, 1, 2, 3, 1, 3, 1, 5, 1, 2, 3, 4, 1, 3, 6, 1, 2, 3, 5, 1, 2, 3, 5, 1, 2, 3, 1, 2, 3, 4, 6, 1, 6, 1, 3, 7, 1, 4, 1, 2, 3, 4, 5, 7, 1, 2, 5, 7, 1, 3, 6, 1, 2, 3, 4, 5, 6, 1, 2, 7, 1, 3, 7, 1, 2, 7, 1, 2, 3, 5, 1, 2, 3, 4, 1, 2, 3, 4, 5, 7, 1, 3, 1, 2, 3, 4, 1, 3, 4, 6, 1, 2, 3, 4, 7, 1, 2, 3, 4, 5, 7, 1, 2, 3, 4, 1, 3, 1, 3, 1, 3, 6, 1, 2, 3, 4, 5, 6, 7, 1, 2, 3, 4, 5, 7, 1, 2, 3, 4, 6, 7, 1, 2, 3, 1, 2, 3, 4, 5, 6, 7, 1, 4, 6, 1, 2, 3, 4, 5, 1, 3, 6, 1, 2, 3, 4, 7, 1, 7, 1, 4, 1, 2, 3, 4, 5, 7, 1, 3, 4, 6, 7, 1, 2, 3, 4, 5, 6, 1, 7, 1, 2, 3, 4, 5, 6, 1, 4, 1, 5, 1, 3, 4, 5, 1, 2, 3, 4, 1, 2, 3, 4, 6, 7, 1, 2, 3, 6, 1, 2, 3, 4, 5, 1, 6, 1, 2, 3, 4, 1, 2, 3, 4, 6, 1, 2, 3, 1, 2, 3, 4, 5, 1, 2, 3, 4, 6, 1, 4, 1, 5, 1, 2, 3, 4, 6, 7, 1, 3, 1, 3, 6, 1, 2, 3, 4, 6, 1, 3, 6, 1, 6, 1, 2, 3, 6, 1, 2, 3, 4, 6, 7, 1, 7, 1, 2, 3, 4, 5, 1, 2, 3, 4, 6, 7, 1, 5, 1, 2, 5, 6, 1, 2, 3, 4, 1, 2, 3, 6, 1, 2, 3, 1, 2, 3, 4, 5, 1, 2, 3, 5, 1, 2, 6, 7, 1, 2, 3, 4, 5, 6, 1, 3, 1, 4, 5, 1, 2, 3, 4, 5, 6, 1, 2, 3, 5, 1, 2, 3, 5, 7, 1, 2, 3, 4, 1, 2, 3, 4, 5, 1, 4, 6, 1, 3, 7, 1, 2, 3, 4, 1, 2, 3, 5, 6, 7, 1, 3, 4, 1, 5, 1, 2, 3, 1, 2, 3, 4, 5, 6, 1, 3, 1, 7, 1, 2, 3, 4, 5, 1, 2, 3, 4, 1, 2, 3, 4, 1, 2, 4, 5, 6, 1, 2, 3, 4, 7, 1, 2, 3, 4, 7, 1, 2, 3, 4, 5, 7, 1, 2, 3, 4, 1, 2, 3, 4, 5, 7, 1, 5, 1, 2, 3, 1, 2, 3, 4, 5, 1, 2, 3, 4, 5, 1, 2, 3, 4, 6, 1, 2, 3, 4, 5, 1, 2, 3, 4, 6, 7, 1, 2, 3, 5, 1, 2, 4, 7, 1, 3, 1, 2, 3, 4, 5, 1, 2, 3, 4, 5, 6, 7, 1, 2, 3, 4, 5, 7, 1, 2, 3, 5, 1, 2, 3, 5, 1, 2, 3, 4, 5, 1, 2, 3, 4, 1, 2, 3, 4, 5, 1, 2, 3, 4, 6, 1, 2, 3, 4, 1, 2, 3, 4, 5, 6, 1, 2, 3, 4, 5, 1, 2, 3, 4, 1, 2, 3, 4, 6, 1, 3, 6, 1, 5, 1, 5, 1, 3, 6, 1, 2, 3, 1, 2, 3, 6, 1, 2, 4, 5, 1, 6, 1, 2, 4, 1, 2, 3, 4, 1, 2, 3, 4, 5, 6, 1, 2, 3, 4, 5, 6, 1, 2, 3, 4, 6, 7, 1, 2, 3, 1, 2, 3, 5, 6, 7, 1, 2, 3, 4, 5, 1, 2, 3, 4, 5, 1, 2, 3, 1, 5, 1, 2, 3, 4, 1, 2, 3, 4, 6, 7, 1, 2, 3, 4, 5, 7, 1, 5, 1, 3, 1, 3, 4, 1, 2, 3, 4, 5, 1, 2, 3, 4, 6, 1, 2, 3, 4, 5, 1, 2, 3, 5, 1, 2, 3, 5, 1, 2, 3, 4, 6, 1, 2, 5, 1, 2, 3, 4, 5, 1, 3, 6, 1, 4, 1, 2, 3, 4, 6, 7, 1, 2, 3, 5, 1, 2, 3, 4, 5, 1, 2, 3, 4, 5, 6, 7, 1, 2, 3, 4, 5, 1, 2, 3, 1, 2, 3, 4, 5, 7, 1, 2, 3, 4, 5, 6, 1, 2, 3, 4, 5, 7, 1, 7, 1, 2, 3, 5, 6, 1, 3, 1, 6, 1, 2, 3, 4, 6, 7, 1, 2, 4, 1, 3, 7, 1, 4, 1, 2, 3, 4, 5, 6, 1, 1, 2, 3, 1, 2, 3, 5, 7, 1, 4, 1, 2, 3, 4, 7, 1, 2, 3, 7, 1, 2, 3, 4, 5, 7, 1, 2, 3, 1, 2, 3, 4, 6, 1, 2, 3, 1, 2, 4, 7, 1, 2, 3, 4, 5, 6, 7, 1, 3, 4, 5, 1, 2, 3, 4, 5, 1, 2, 3, 4, 6, 1, 2, 3, 4, 5, 1, 2, 3, 5, 1, 2, 3, 4, 5, 1, 2, 3, 4, 1, 2, 3, 1, 2, 3, 6, 1, 7, 1, 2, 3, 4, 5, 7, 1, 2, 3, 4, 5, 1, 3, 6, 1, 3, 5, 1, 2, 3, 4, 5, 6, 1, 2, 3, 4, 6, 1, 2, 3, 4, 5, 1, 2, 3, 4, 5, 6, 1, 2, 3, 7, 1, 2, 7, 1, 3, 5, 1, 2, 3, 4, 6, 1, 2, 3, 7, 1, 2, 3, 4, 1, 2, 3, 4, 6, 1, 2, 3, 4, 1, 2, 3, 4, 5, 1, 2, 3, 4, 5, 1, 2, 3, 4, 5, 1, 6, 1, 3, 7, 1, 3, 4, 5, 1, 3, 5, 6, 1, 2, 3, 4, 1, 2, 3, 4, 1, 2, 3, 4, 5, 1, 2, 3, 4, 1, 4, 1, 2, 3, 1, 2, 3, 6, 1, 2, 5, 7, 1, 4, 1, 2, 3, 4, 5, 1, 2, 3, 1, 3, 4, 1, 7, 1, 2, 3, 4, 6, 1, 2, 3, 4, 5, 6, 7, 1, 2, 3, 4, 5, 1, 2, 3, 4, 7, 1, 2, 3, 4, 5, 1, 2, 3, 4, 5, 6, 1, 2, 3, 4, 6, 7, 1, 6, 1, 2, 3, 4, 5, 1, 2, 3, 4, 5, 1, 1, 2, 3, 4, 5, 6, 1, 2, 3, 4, 5, 1, 2, 3, 4, 5, 7, 1, 5, 1, 2, 3, 4, 1, 2, 3, 4, 5, 7, 1, 2, 7, 1, 2, 3, 4, 1, 2, 3, 4, 5, 6, 1, 2, 3, 4, 6, 1, 2, 4, 5, 1, 2, 3, 4, 5, 7, 1, 2, 3, 4, 5, 6, 1, 2, 4, 1, 2, 3, 4, 1, 2, 3, 1, 5, 1, 2, 3], \"Freq\": [0.17082129176514335, 0.017082129176514336, 0.5295460044719444, 0.05124638752954301, 0.22206767929468638, 0.03297235925026504, 0.03297235925026504, 0.8902536997571561, 0.027495247550099224, 0.8248574265029768, 0.05499049510019845, 0.05499049510019845, 0.027495247550099224, 0.018018018475873775, 0.018018018475873775, 0.882882905317815, 0.0720720739034951, 0.21067197363938792, 0.21067197363938792, 0.42134394727877583, 0.9129797767319594, 0.9916604945991035, 0.0023895433604797676, 0.004779086720959535, 0.045673937335353215, 0.8678048093717111, 0.045673937335353215, 0.23383874864942938, 0.33012529221095915, 0.11004176407031971, 0.055020882035159854, 0.17881786661426954, 0.08253132305273979, 0.41371130160168024, 0.3686376967579174, 0.11590355531253298, 0.04346383324219987, 0.0499029196484517, 0.008048858007814791, 0.0016097716015629582, 0.020566241853340425, 0.8637821578402979, 0.020566241853340425, 0.0822649674133617, 0.4115142722454216, 0.18003749410737194, 0.1028785680613554, 0.09001874705368597, 0.02571964201533885, 0.1543178520920331, 0.02571964201533885, 0.9635966201735957, 0.018894051375952858, 0.2932736102409345, 0.14663680512046726, 0.4399104153614018, 0.43719996595049104, 0.35522497233477396, 0.02732499787190569, 0.13662498935952844, 0.13770137777108318, 0.13770137777108318, 0.6885068888554159, 0.1144234961806196, 0.4897325636530519, 0.2883472103751614, 0.016019289465286746, 0.09153879694449568, 0.04055733021765456, 0.5678026230471638, 0.04055733021765456, 0.32445864174123645, 0.2261046506955157, 0.4522093013910314, 0.06584635026197679, 0.8560025534056982, 0.9128864119533975, 0.045644320597669874, 0.9229356647783515, 0.03155335606079834, 0.023665017045598757, 0.007888339015199586, 0.9156401028058669, 0.26157680353674284, 0.2092614428293943, 0.052315360707348574, 0.4185228856587886, 0.17870342459241553, 0.3462378851478051, 0.01116896403702597, 0.2345482447775454, 0.16753446055538956, 0.06701378422215583, 0.09698166174072637, 0.19396332348145273, 0.5818899704443582, 0.1479673668044914, 0.5918694672179656, 0.09020322865904763, 0.8719645437041271, 0.015033871443174605, 0.015033871443174605, 0.005747106563298931, 0.9022957304379322, 0.005747106563298931, 0.06896527875958718, 0.005747106563298931, 0.017241319689896794, 0.016850916808110596, 0.9099495076379722, 0.016850916808110596, 0.03370183361622119, 0.016850916808110596, 0.896881461911564, 0.21734121157604291, 0.5120411594757621, 0.02578624544122543, 0.15840122199609907, 0.08840998436991576, 0.25504293767371317, 0.25504293767371317, 0.25504293767371317, 0.3580818947857698, 0.4418882956930776, 0.05333134603192316, 0.1104720739232694, 0.02666567301596158, 0.0038093818594230828, 0.18744407238692334, 0.18744407238692334, 0.5623322171607701, 0.032408457606690394, 0.25926766085352315, 0.032408457606690394, 0.5833522369204271, 0.06481691521338079, 0.02145605795510294, 0.7938741443388088, 0.15019240568572056, 0.02145605795510294, 0.8910499314304478, 0.022276248285761194, 0.022276248285761194, 0.04455249657152239, 0.11568585912268649, 0.11568585912268649, 0.11568585912268649, 0.694115154736119, 0.0026964045435183045, 0.3424433770268247, 0.14290944080647014, 0.4556923678545935, 0.013482022717591522, 0.04314247269629287, 0.07595386760476841, 0.22786160281430523, 0.07595386760476841, 0.5316770732333789, 0.07595386760476841, 0.09412181343400186, 0.2515058293400378, 0.4412924367561399, 0.09875075507829703, 0.11263758001118256, 0.26013960338531955, 0.06503490084632989, 0.585314107616969, 0.06503490084632989, 0.11667702827247362, 0.11667702827247362, 0.11667702827247362, 0.7000621696348417, 0.07664940308206891, 0.30659761232827565, 0.07664940308206891, 0.5365458215744824, 0.026452174791216535, 0.9258261176925788, 0.026452174791216535, 0.026452174791216535, 0.9607516495575024, 0.019862142681896636, 0.019862142681896636, 0.933520706049142, 0.24062015197445438, 0.36780508944666596, 0.11687264524473498, 0.08593576856230513, 0.18218382935208688, 0.006874861484984411, 0.7699908885661568, 0.1013145906008101, 0.11144604966089111, 0.20420560859315873, 0.7246005466208858, 0.0065872776965535075, 0.03293638848276754, 0.0065872776965535075, 0.02634911078621403, 0.017602325787846363, 0.9505255925437036, 0.017602325787846363, 0.1946768207538719, 0.1946768207538719, 0.1946768207538719, 0.3893536415077438, 0.02344588616246622, 0.211012975462196, 0.35168829243699334, 0.3282424062745271, 0.02344588616246622, 0.04689177232493244, 0.08703168045245711, 0.08703168045245711, 0.783285124072114, 0.008949910406269156, 0.286397133000613, 0.519094803563611, 0.07159928325015325, 0.10739892487522985, 0.10854835613239815, 0.10854835613239815, 0.10854835613239815, 0.6512901367943889, 0.21467280751411635, 0.35778801252352727, 0.02385253416823515, 0.0477050683364703, 0.31008294418705695, 0.0477050683364703, 0.006651005900234058, 0.9377918319330022, 0.006651005900234058, 0.04655704130163841, 0.03395816202583806, 0.8489540506459516, 0.03395816202583806, 0.06791632405167612, 0.023111828736663297, 0.9244731494665319, 0.023111828736663297, 0.023111828736663297, 0.03109036808406661, 0.9016206744379318, 0.03109036808406661, 0.03109036808406661, 0.019125220072482442, 0.15300176057985954, 0.8032592430442627, 0.019125220072482442, 0.013524084610375844, 0.04057225383112753, 0.8925895842848057, 0.027048169220751688, 0.2261046506955157, 0.4522093013910314, 0.021699567209604198, 0.007233189069868066, 0.41952496605234785, 0.007233189069868066, 0.5352559911702369, 0.2401303568207309, 0.6603584812570099, 0.14886778009843854, 0.5954711203937542, 0.1134355726190521, 0.1134355726190521, 0.1134355726190521, 0.1134355726190521, 0.5671778630952605, 0.9425681835322893, 0.04659688014980063, 0.885340722846212, 0.023298440074900315, 0.023298440074900315, 0.10465953900245016, 0.10465953900245016, 0.10465953900245016, 0.5232976950122508, 0.20931907800490032, 0.6855001287312247, 0.1814559164288536, 0.006720589497364948, 0.05376471597891958, 0.06720589497364947, 0.006720589497364948, 0.2261046506955157, 0.4522093013910314, 0.5460138014158429, 0.0067409111285906525, 0.4381592233583924, 0.8915788739102215, 0.04052631245046461, 0.14890248568078235, 0.5956099427231294, 0.049273748698490036, 0.8622906022235756, 0.024636874349245018, 0.049273748698490036, 0.133930585249165, 0.133930585249165, 0.53572234099666, 0.013341342689022649, 0.7070911625182005, 0.12007208420120384, 0.14675476957924916, 0.08290593782888594, 0.24871781348665783, 0.08290593782888594, 0.49743562697331567, 0.09030192806191024, 0.09030192806191024, 0.722415424495282, 0.005568594246522129, 0.1169404791769647, 0.7628974117735317, 0.08909750794435406, 0.022274376986088515, 0.1436266866078899, 0.5745067464315596, 0.1854559534018345, 0.1854559534018345, 0.370911906803669, 0.1479673668044914, 0.5918694672179656, 0.2422907066921608, 0.30286338336520097, 0.19686119918738065, 0.16657486085086054, 0.01514316916826005, 0.07571584584130024, 0.10550270015739094, 0.42201080062956375, 0.21100540031478188, 0.21100540031478188, 0.18744407238692334, 0.18744407238692334, 0.5623322171607701, 0.5437159313649977, 0.20952955403821866, 0.05039318388260955, 0.055697729554463185, 0.13791818746819456, 0.0026522728359268184, 0.3303118327667192, 0.1651559163833596, 0.3303118327667192, 0.2743350540655572, 0.2743350540655572, 0.2743350540655572, 0.2551780375436092, 0.2551780375436092, 0.2551780375436092, 0.35146554745404057, 0.4120630556357717, 0.012119501636346227, 0.2181510294542321, 0.05373748663888246, 0.8597997862221194, 0.05373748663888246, 0.05373748663888246, 0.17820549992912865, 0.6109902854712983, 0.04455137498228216, 0.0827382678242383, 0.07000930354358627, 0.006364482140326024, 0.9839014858151224, 0.00863071478785195, 0.021355528714033963, 0.021355528714033963, 0.9182877347034604, 0.021355528714033963, 0.09266415794925718, 0.09266415794925718, 0.27799247384777154, 0.46332078974628593, 0.2191942284904045, 0.1948393142136929, 0.3653237141506742, 0.12177457138355807, 0.09741965710684646, 0.30454026923106053, 0.04350575274729436, 0.014501917582431453, 0.4930651978026694, 0.11601534065945163, 0.029003835164862907, 0.017794354470201328, 0.5338306341060398, 0.017794354470201328, 0.42706450728483186, 0.995292154339523, 0.0017219587445320467, 0.02530425508136356, 0.9362574380104518, 0.11266309987251698, 0.11266309987251698, 0.6759785992351018, 0.35867415307201467, 0.14346966122880586, 0.30038960319781227, 0.1345028074020055, 0.017933707653600733, 0.035867415307201465, 0.008966853826800366, 0.3979554136566578, 0.31561981083114243, 0.1509486051801116, 0.04116780141275771, 0.04116780141275771, 0.05489040188367694, 0.33392467286372446, 0.5194383800102381, 0.02473516095286848, 0.04947032190573696, 0.04947032190573696, 0.03710274142930272, 0.026421795099212268, 0.9247628284724294, 0.026421795099212268, 0.7859941399316247, 0.007345739625529203, 0.007345739625529203, 0.05142017737870442, 0.007345739625529203, 0.09549461513187964, 0.04407443775317522, 0.1515114627249943, 0.1515114627249943, 0.4545343881749829, 0.16253433310727425, 0.6427494081969481, 0.15514640887512543, 0.007387924232148829, 0.029551696928595318, 0.18744407238692334, 0.18744407238692334, 0.5623322171607701, 0.024140558177068387, 0.8449195361973935, 0.048281116354136774, 0.024140558177068387, 0.048281116354136774, 0.25949957125946954, 0.25949957125946954, 0.1479673668044914, 0.5918694672179656, 0.4350489785580421, 0.32056240525329416, 0.1373838879656975, 0.02289731466094958, 0.02289731466094958, 0.06869194398284875, 0.21439838995784766, 0.21439838995784766, 0.21439838995784766, 0.21439838995784766, 0.21439838995784766, 0.00255759702240265, 0.306911642688318, 0.11509186600811924, 0.5703441359957909, 0.00255759702240265, 0.00255759702240265, 0.2235380490761316, 0.4470760981522632, 0.21389184657333546, 0.29815227098101305, 0.1750024199236381, 0.22685498878990124, 0.045370997757980244, 0.038889426649697356, 0.1574646220319591, 0.6298584881278364, 0.13243617449786652, 0.6621808724893327, 0.07662882313821591, 0.07662882313821591, 0.07662882313821591, 0.7662882313821591, 0.06665365880371761, 0.06665365880371761, 0.19996097641115285, 0.5998829292334585, 0.4340953177341254, 0.17962564871756911, 0.1646568446577717, 0.014968804059797428, 0.07484402029898714, 0.11975043247837942, 0.02896678163292585, 0.1738006897975551, 0.782103104088998, 0.014483390816462926, 0.7401102438806534, 0.02902393113257464, 0.1813995695785915, 0.02176794834943098, 0.02902393113257464, 0.17314081786008176, 0.5194224535802453, 0.002660240263951217, 0.26602402639512174, 0.710284150474975, 0.021281922111609737, 0.020254835308706372, 0.34433220024800837, 0.08101934123482549, 0.020254835308706372, 0.5063708827176593, 0.01741594943446828, 0.801133673985541, 0.15674354491021453, 0.21138706484006392, 0.11530203536730758, 0.019217005894551265, 0.6149441886256405, 0.03843401178910253, 0.004421728867600195, 0.004421728867600195, 0.4156425135544183, 0.02210864433800097, 0.5527161084500243, 0.12793825141709228, 0.6396912570854615, 0.13987467349669544, 0.5594986939867818, 0.1448381643455578, 0.20021746247768282, 0.37913519490454833, 0.08093897419310582, 0.18317767843702898, 0.008519892020326929, 0.03860813803704072, 0.8879871748519365, 0.05700899987434647, 0.7981259982408505, 0.05700899987434647, 0.01192571014396248, 0.01192571014396248, 0.846725420221336, 0.02385142028792496, 0.10733139129566231, 0.05068454846077044, 0.05068454846077044, 0.810952775372327, 0.17649792611260884, 0.5294937783378265, 0.008974173894293438, 0.008974173894293438, 0.8794690416407569, 0.09871591283722782, 0.34948380638006415, 0.31582450535575474, 0.2864621363771018, 0.04296932045656527, 0.0007161553409427545, 0.004296932045656527, 0.24218876620774246, 0.24218876620774246, 0.19117311118915625, 0.3823462223783125, 0.09558655559457813, 0.05974159724661133, 0.26286302788508986, 0.10893191396743927, 0.3190148909046436, 0.12449361596278774, 0.2023021259395301, 0.23342552993022703, 0.007780850997674234, 0.1784188010317717, 0.5352564030953152, 0.21944557152414368, 0.10972278576207184, 0.5486139288103592, 0.10972278576207184, 0.008427647213081209, 0.2949676524578423, 0.008427647213081209, 0.6826394242595779, 0.899305193161724, 0.024305545761127673, 0.024305545761127673, 0.048611091522255345, 0.0526952466231876, 0.8431239459710016, 0.0526952466231876, 0.014970815017800227, 0.4491244505340068, 0.23953304028480363, 0.04491244505340068, 0.25450385530260383, 0.9154239879348134, 0.004359161847308635, 0.004359161847308635, 0.0741057514042468, 0.20528483466791672, 0.20528483466791672, 0.20528483466791672, 0.20528483466791672, 0.8922764686515807, 0.008747808516191969, 0.04373904258095984, 0.034991234064767875, 0.017495617032383937, 0.008747808516191969, 0.958808513893576, 0.01775571322025141, 0.9495488487632624, 0.018618604877711026, 0.018618604877711026, 0.3428878488623984, 0.3428878488623984, 0.1298817609327267, 0.025976352186545336, 0.07792905655963601, 0.07792905655963601, 0.0994202337326024, 0.0994202337326024, 0.0994202337326024, 0.6959416361282169, 0.08675576339224188, 0.5205345803534513, 0.08675576339224188, 0.08675576339224188, 0.17351152678448375, 0.035310421902782586, 0.3177937971250433, 0.035310421902782586, 0.600277172347304, 0.43765188331545973, 0.21882594165772987, 0.04862798703505108, 0.02431399351752554, 0.2431399351752554, 0.17317511019515958, 0.17317511019515958, 0.5195253305854788, 0.21926470161129577, 0.21926470161129577, 0.43852940322259154, 0.007247308669970719, 0.8189458797066912, 0.014494617339941437, 0.1521934820693851, 0.5269380545388177, 0.23153338760038958, 0.08782300908980295, 0.03991954958627407, 0.10379082892431257, 0.007983909917254813, 0.05085550736402732, 0.05085550736402732, 0.8645436251884645, 0.07813894171790299, 0.7813894171790299, 0.0024940279277863206, 0.1197133405337434, 0.8754038026529986, 0.0014432420935939065, 0.3622537654920705, 0.12411882004907596, 0.4892590697283343, 0.00432972628078172, 0.01731890512312688, 0.9712417357987623, 0.01646172433557224, 0.27104964485387034, 0.27104964485387034, 0.020673884182502416, 0.24808661019002898, 0.020673884182502416, 0.6615642938400773, 0.04134776836500483, 0.009365019139422883, 0.7960266268509452, 0.009365019139422883, 0.17793536364903478, 0.30725753033550834, 0.00667951152903279, 0.6813101759613446, 0.00667951152903279, 0.0620234244012623, 0.1240468488025246, 0.3101171220063115, 0.4341639708088361, 0.0620234244012623, 0.1402710376167841, 0.1122168300934273, 0.028054207523356824, 0.5891383579904933, 0.1122168300934273, 0.12832150492874037, 0.7332657424499449, 0.009165821780624311, 0.08249239602561881, 0.04582910890312156, 0.5152954943217423, 0.3138017433369585, 0.0033031762456521944, 0.13543022607173996, 0.02312223371956536, 0.006606352491304389, 0.041036726729712716, 0.16414690691885087, 0.041036726729712716, 0.7386610811348289, 0.036685646187184014, 0.036685646187184014, 0.036685646187184014, 0.5502846928077602, 0.18342823093592006, 0.18342823093592006, 0.1785562310510573, 0.5356686931531719, 0.8978690482541445, 0.02302228328856781, 0.04604456657713562, 0.8792102909423708, 0.008705052385568028, 0.008705052385568028, 0.08705052385568028, 0.017410104771136057, 0.1584741564766266, 0.44372763813455446, 0.28525348165792785, 0.00528247188255422, 0.1056494376510844, 0.0927281749187198, 0.0927281749187198, 0.0927281749187198, 0.1854563498374396, 0.5563690495123189, 0.32801954253019505, 0.48489845417507094, 0.07130859620221632, 0.06180078337525414, 0.05704687696177305, 0.26422636120015663, 0.0007360065771592107, 0.5129965842799699, 0.16044943382070792, 0.060352539327055275, 0.0007360065771592107, 0.06398983459041037, 0.8958576842657451, 0.021329944863470122, 0.021329944863470122, 0.2226044916278455, 0.2226044916278455, 0.2226044916278455, 0.2226044916278455, 0.9345790156658966, 0.03222686260916885, 0.031839559263163016, 0.19103735557897808, 0.031839559263163016, 0.031839559263163016, 0.7323098630527493, 0.4862684493695715, 0.25689653928958495, 0.09174876403199461, 0.12844826964479247, 0.009174876403199462, 0.009174876403199462, 0.027524629209598386, 0.2551040085230004, 0.1275520042615002, 0.1275520042615002, 0.1275520042615002, 0.1275520042615002, 0.3826560127845007, 0.01905337663776318, 0.8192951954238167, 0.11432025982657908, 0.03810675327552636, 0.06215586741101813, 0.06215586741101813, 0.06215586741101813, 0.8080262763432358, 0.013325076466479116, 0.8528048938546634, 0.013325076466479116, 0.11992568819831204, 0.013325076466479116, 0.09713441643139001, 0.7770753314511201, 0.10792712936821111, 0.010792712936821111, 0.025928401773469913, 0.28521241950816906, 0.12964200886734958, 0.4926396336959284, 0.05185680354693983, 0.10283867711710905, 0.025709669279277262, 0.2828063620720499, 0.4627740470269907, 0.10283867711710905, 0.06771005181509598, 0.17303679908302305, 0.48149370179623807, 0.27084020726038394, 0.330528941067701, 0.34054496958490404, 0.09348293282722857, 0.15691778010284793, 0.023370733206807142, 0.05341881875841632, 0.8980421392142033, 0.0027547304883871267, 0.04958514879096828, 0.027547304883871266, 0.019283113418709887, 0.1296632949393765, 0.09261663924241179, 0.722409786090812, 0.05556998354544707, 0.1731873825254626, 0.5792819346541335, 0.13735551027881515, 0.053747808369971145, 0.053747808369971145, 0.026424911006864952, 0.9248718852402733, 0.026424911006864952, 0.15513382906089884, 0.6205353162435954, 0.13242471416742627, 0.6621235708371312, 0.09917484252790508, 0.09917484252790508, 0.6942238976953355, 0.03190376042294578, 0.03190376042294578, 0.9252090522654277, 0.04583649841960656, 0.3666919873568525, 0.04583649841960656, 0.5500379810352787, 0.01655406996527152, 0.8442575682288476, 0.03310813993054304, 0.09932441979162913, 0.1436253103190308, 0.5745012412761232, 0.07905160755940195, 0.07905160755940195, 0.7114644680346175, 0.002811889401167567, 0.23901059909924322, 0.7029723502918919, 0.050614009221016214, 0.17588391754332175, 0.35773000178302733, 0.15948795912826633, 0.11179062555719603, 0.017886500089151366, 0.1773744592174177, 0.11019349166207569, 0.3856772208172649, 0.027548372915518923, 0.08264511874655676, 0.30303210207070813, 0.11019349166207569, 0.2883331504145023, 0.06178567508882192, 0.020595225029607308, 0.5560710757993973, 0.041190450059214616, 0.020595225029607308, 0.03645127270529193, 0.9112818176322982, 0.03645127270529193, 0.1971663096739463, 0.09858315483697315, 0.09858315483697315, 0.09858315483697315, 0.29574946451091944, 0.1971663096739463, 0.01802562943325724, 0.2703844414988586, 0.01802562943325724, 0.1261794060328007, 0.5768201418642317, 0.020618058704206056, 0.5566875850135635, 0.020618058704206056, 0.10309029352103027, 0.28865282185888474, 0.011389167104926289, 0.011389167104926289, 0.9680792039187345, 0.16612641122187596, 0.4983792336656279, 0.028706250417248277, 0.9186000133519449, 0.028706250417248277, 0.028706250417248277, 0.10036342883387651, 0.25090857208469125, 0.4767262869609134, 0.16309057185504933, 0.004181809534744854, 0.004181809534744854, 0.23952718212994084, 0.26946807989618343, 0.029940897766242605, 0.029940897766242605, 0.4191725687273965, 0.029940897766242605, 0.1586752587706732, 0.6347010350826928, 0.08658835936252643, 0.7792952342627378, 0.10386199019314181, 0.20772398038628362, 0.6231719411588509, 0.3274402083894993, 0.17141165271396605, 0.49006151993864655, 0.002197585291204693, 0.008790341164818772, 0.02070750187143152, 0.2899050262000413, 0.02070750187143152, 0.41415003742863044, 0.26919752432860977, 0.7928098541836328, 0.006342478833469062, 0.05708230950122156, 0.13319205550285032, 0.006342478833469062, 0.05255963597252938, 0.84095417556047, 0.05255963597252938, 0.05255963597252938, 0.07420681023896673, 0.3710340511948337, 0.07420681023896673, 0.44524086143380043, 0.05806765128257741, 0.029033825641288705, 0.11613530256515482, 0.17420295384773224, 0.6387441641083516, 0.1648424566839082, 0.0824212283419541, 0.6593698267356328, 0.030749483774230493, 0.7753262694502403, 0.18449690264538296, 0.006589175094477963, 0.002196391698159321, 0.18744407238692334, 0.18744407238692334, 0.5623322171607701, 0.1479673668044914, 0.5918694672179656, 0.5031132058650413, 0.24265194442163496, 0.17586700558999233, 0.02448781090493564, 0.02671397553265706, 0.02671397553265706, 0.053890115659294975, 0.053890115659294975, 0.8083517348894246, 0.053890115659294975, 0.02165107250807851, 0.10825536254039256, 0.8227407553069834, 0.02165107250807851, 0.02165107250807851, 0.25512422225499504, 0.23313075481921963, 0.274918342947193, 0.1363594981018077, 0.0021993467435775437, 0.09677125671741192, 0.0043986934871550875, 0.03885782874159402, 0.03885782874159402, 0.03885782874159402, 0.7382987460902865, 0.15543131496637608, 0.9345194887762767, 0.047317442469684896, 0.011829360617421224, 0.0019634963536592615, 0.4103707379147856, 0.10602880309760011, 0.4496406649879709, 0.0019634963536592615, 0.02945244530488892, 0.009810385009599182, 0.7161581057007402, 0.009810385009599182, 0.23544924023038036, 0.029431155028797545, 0.009810385009599182, 0.34474652746015894, 0.34830061537211937, 0.2167993626295845, 0.07108175823920804, 0.0035540879119604018, 0.010662263735881205, 0.2235380490761316, 0.4470760981522632, 0.2659733727602111, 0.16623335797513195, 0.03324667159502639, 0.06649334319005278, 0.46545340233036947, 0.9516518799181632, 0.017955695847512512, 0.1762917204330033, 0.7051668817320133, 0.2773833401877667, 0.3290988781888758, 0.31029322800665426, 0.004701412545555368, 0.004701412545555368, 0.07522260072888588, 0.10860770676605074, 0.10860770676605074, 0.6516462405963044, 0.3868225907095113, 0.19341129535475565, 0.19341129535475565, 0.1479673668044914, 0.5918694672179656, 0.008217625284914416, 0.6163218963685811, 0.024652875854743246, 0.2629640091172613, 0.008217625284914416, 0.08217625284914416, 0.9329605326785124, 0.05984991712856153, 0.05984991712856153, 0.8378988397998615, 0.9040963201627322, 0.06615338928019993, 0.01102556488003332, 0.01102556488003332, 0.01102556488003332, 0.13810876642863537, 0.6905438321431768, 0.2762664952857624, 0.37986643101792333, 0.0345333119107203, 0.17266655955360152, 0.10359993573216092, 0.5094308845448237, 0.08490514742413728, 0.08490514742413728, 0.16981029484827456, 0.32535196742149436, 0.3475350561093235, 0.03450702684773425, 0.17992949713461429, 0.10598586817518377, 0.004929575263962036, 0.02826759363227257, 0.9328305898649949, 0.02826759363227257, 0.18698241377685312, 0.37396482755370625, 0.016998401252441193, 0.20398081502929433, 0.20398081502929433, 0.9364127319109312, 0.025308452213808952, 0.025308452213808952, 0.38556683557887445, 0.07711336711577489, 0.23134010134732466, 0.23134010134732466, 0.5496384191652722, 0.13740960479131806, 0.2547104869302481, 0.0033514537753980013, 0.02346017642778601, 0.030163083978582014, 0.006702907550796003, 0.152819315010566, 0.076409657505283, 0.076409657505283, 0.611277260042264, 0.9039310169924504, 0.0028515174037616734, 0.05988186547899514, 0.019960621826331713, 0.014257587018808367, 0.04498324263426116, 0.17993297053704463, 0.04498324263426116, 0.04498324263426116, 0.6747486395139174, 0.004815887167735245, 0.23116258405129178, 0.17337193803846884, 0.5104840397799361, 0.07705419468376393, 0.025338197056878616, 0.8868368969907516, 0.025338197056878616, 0.07601459117063586, 0.1086531683828042, 0.29879621305271153, 0.18108861397134032, 0.3259595051484126, 0.08148987628710315, 0.26205457684872835, 0.02911717520541426, 0.08735152561624278, 0.6114606793136995, 0.9800425597438656, 0.007153595326597559, 0.007153595326597559, 0.005672343987657481, 0.045378751901259846, 0.873540974099252, 0.06806812785188977, 0.25949957125946954, 0.25949957125946954, 0.9463986725301065, 0.016720824603005415, 0.003344164920601083, 0.013376659682404332, 0.013376659682404332, 0.006688329841202166, 0.8821705863101549, 0.05361257706857295, 0.004873870642597541, 0.029243223855585244, 0.024369353212987704, 0.1620665885681474, 0.1620665885681474, 0.4861997657044422, 0.1341589906847638, 0.1341589906847638, 0.670794953423819, 0.33626476982987363, 0.2882269455684631, 0.09607564852282104, 0.04803782426141052, 0.06405043234854736, 0.1601260808713684, 0.09039026807433105, 0.09039026807433105, 0.09039026807433105, 0.27117080422299317, 0.5423416084459863, 0.015345308260113408, 0.9207184956068045, 0.015345308260113408, 0.015345308260113408, 0.030690616520226817, 0.0476590694623025, 0.6989996854471033, 0.0476590694623025, 0.06354542594973667, 0.055602247706019584, 0.08737496068088792, 0.16451059284923067, 0.16451059284923067, 0.16451059284923067, 0.49353177854769203, 0.325652794892963, 0.1628263974464815, 0.325652794892963, 0.09217933371373793, 0.18435866742747586, 0.5530760022824276, 0.0951296269105408, 0.1902592538210816, 0.0951296269105408, 0.0951296269105408, 0.47564813455270405, 0.2201580951934888, 0.2201580951934888, 0.2201580951934888, 0.4403161903869776, 0.08824798617852425, 0.08824798617852425, 0.08824798617852425, 0.705983889428194, 0.19189316775668916, 0.09594658387834458, 0.09594658387834458, 0.09594658387834458, 0.4797329193917229, 0.02088390971421487, 0.8771242079970245, 0.02088390971421487, 0.08353563885685948, 0.08011187356637027, 0.08011187356637027, 0.08011187356637027, 0.08011187356637027, 0.7210068620973324, 0.33541943740467905, 0.12578228902675465, 0.04192742967558488, 0.12578228902675465, 0.37734686708026394, 0.0007469813545115544, 0.583392437873524, 0.3876833229914967, 0.02689132876241596, 0.0007469813545115544, 0.18771199669499375, 0.5631359900849813, 0.16359704707478762, 0.32719409414957523, 0.16359704707478762, 0.9479666942881543, 0.008859501815777143, 0.008859501815777143, 0.03543800726310857, 0.12406179803893792, 0.12406179803893792, 0.12406179803893792, 0.4962471921557517, 0.11749720256585588, 0.2741601393203304, 0.03916573418861863, 0.5483202786406608, 0.09411257190907482, 0.03137085730302494, 0.09411257190907482, 0.7529005752725986, 0.5580899076049158, 0.3139255730277652, 0.09301498460081932, 0.02325374615020483, 0.007751248716734943, 0.09717952653564434, 0.09717952653564434, 0.09717952653564434, 0.6802566857495104, 0.1479673668044914, 0.5918694672179656, 0.050826583372513556, 0.050826583372513556, 0.8640519173327305, 0.14941848455333726, 0.07470924227666863, 0.07470924227666863, 0.6723831804900177, 0.07949033897523596, 0.07949033897523596, 0.6359227118018876, 0.07949033897523596, 0.1479673668044914, 0.5918694672179656, 0.32528432577668714, 0.07228540572815269, 0.09035675716019087, 0.30721297434464895, 0.18071351432038174, 0.07550358943243876, 0.07550358943243876, 0.7550358943243876, 0.16099085952315234, 0.08049542976157617, 0.7244588678541856, 0.2261046506955157, 0.4522093013910314, 0.029956495649273857, 0.029956495649273857, 0.8088253825303942, 0.05991299129854771, 0.08986948694782157, 0.5195559082919726, 0.2334236689427703, 0.007529795772347429, 0.09035754926816915, 0.1280065281299063, 0.015059591544694858, 0.007529795772347429, 0.2893975753413849, 0.07234939383534622, 0.07234939383534622, 0.07234939383534622, 0.43409636301207727, 0.1703554380904733, 0.30876923153898284, 0.01064721488065458, 0.5004190993907653, 0.01064721488065458, 0.33295553611672407, 0.20838033552883412, 0.25594541211693755, 0.18573029905830865, 0.015855025529367812, 0.050698116883389314, 0.24081605519609925, 0.6590755194840611, 0.012674529220847329, 0.025349058441694657, 0.012674529220847329, 0.015606357318011058, 0.9051687244446414, 0.015606357318011058, 0.015606357318011058, 0.015606357318011058, 0.031212714636022116, 0.18771228164067524, 0.5631368449220258, 0.6568108014393463, 0.1064106885013466, 0.17979737022641323, 0.036693340862533314, 0.014677336345013324, 0.4779130349468692, 0.07352508229951833, 0.018381270574879583, 0.220575246898555, 0.220575246898555, 0.9631663540669723, 0.2140008664733295, 0.2723647391478739, 0.142667244315553, 0.2983042381143381, 0.032424373708080226, 0.04539412319131232, 0.22560574079741905, 0.08394632215717919, 0.4826913524037803, 0.19412586998847686, 0.010493290269647399, 0.27775879226845035, 0.3273585766021022, 0.17855922360114668, 0.0991995686673037, 0.08927961180057334, 0.01983991373346074, 0.9485721590882465, 0.025988278331184837, 0.01647817745192435, 0.9227779373077636, 0.01647817745192435, 0.0329563549038487, 0.0319917318627765, 0.0319917318627765, 0.0319917318627765, 0.7358098328438595, 0.063983463725553, 0.09597519558832951, 0.17051622621934018, 0.34103245243868036, 0.34103245243868036, 0.35089166476013384, 0.4186076000647211, 0.22469378532885764, 0.00307799705929942, 0.2351668508232606, 0.2351668508232606, 0.1175834254116303, 0.08818756905872273, 0.029395856352907576, 0.2645627071761682, 0.2168114087191321, 0.0077432645971118605, 0.10066243976245419, 0.4181362882440405, 0.2555277317046914, 0.12773411965975198, 0.12773411965975198, 0.12773411965975198, 0.6386705982987599, 0.24217268014891247, 0.47599457822372454, 0.05010469244460258, 0.13361251318560688, 0.06680625659280344, 0.01670156414820086, 0.42029110439342204, 0.37651078101910723, 0.16986765469234139, 0.0017512129349725918, 0.0017512129349725918, 0.02977061989453406, 0.14487893244392322, 0.14487893244392322, 0.5795157297756929, 0.01236914453559875, 0.23501374617637624, 0.3710743360679625, 0.3710743360679625, 0.04569018813013191, 0.13707056439039575, 0.7310430100821106, 0.16612641122187596, 0.4983792336656279, 0.01597361752942317, 0.01597361752942317, 0.9584170517653903], \"Term\": [\"absolut\", \"absolut\", \"absolut\", \"absolut\", \"absolut\", \"adult\", \"adult\", \"adult\", \"afford\", \"afford\", \"afford\", \"afford\", \"afford\", \"age\", \"age\", \"age\", \"age\", \"al\", \"al\", \"al\", \"alarm\", \"alexa\", \"alexa\", \"alexa\", \"altern\", \"altern\", \"altern\", \"alway\", \"alway\", \"alway\", \"alway\", \"alway\", \"alway\", \"amazon\", \"amazon\", \"amazon\", \"amazon\", \"amazon\", \"amazon\", \"amazon\", \"android\", \"android\", \"android\", \"android\", \"anoth\", \"anoth\", \"anoth\", \"anoth\", \"anoth\", \"anoth\", \"anoth\", \"answer\", \"answer\", \"anybodi\", \"anybodi\", \"anybodi\", \"anyon\", \"anyon\", \"anyon\", \"anyon\", \"ap\", \"ap\", \"ap\", \"app\", \"app\", \"app\", \"app\", \"app\", \"appear\", \"appear\", \"appear\", \"appear\", \"approach\", \"approach\", \"appropri\", \"appropri\", \"arlo\", \"arlo\", \"ask\", \"ask\", \"ask\", \"ask\", \"autom\", \"automat\", \"automat\", \"automat\", \"automat\", \"back\", \"back\", \"back\", \"back\", \"back\", \"back\", \"backlit\", \"backlit\", \"backlit\", \"backupand\", \"backupand\", \"basic\", \"basic\", \"basic\", \"basic\", \"batteri\", \"batteri\", \"batteri\", \"batteri\", \"batteri\", \"batteri\", \"beat\", \"beat\", \"beat\", \"beat\", \"beat\", \"bedroom\", \"best\", \"best\", \"best\", \"best\", \"best\", \"bestbuycom\", \"bestbuycom\", \"bestbuycom\", \"better\", \"better\", \"better\", \"better\", \"better\", \"better\", \"betterfast\", \"betterfast\", \"betterfast\", \"bigger\", \"bigger\", \"bigger\", \"bigger\", \"bigger\", \"birthday\", \"birthday\", \"birthday\", \"birthday\", \"bluetooth\", \"bluetooth\", \"bluetooth\", \"bluetooth\", \"bn\", \"bn\", \"bn\", \"bn\", \"book\", \"book\", \"book\", \"book\", \"book\", \"book\", \"bottom\", \"bottom\", \"bottom\", \"bottom\", \"bottom\", \"bought\", \"bought\", \"bought\", \"bought\", \"bought\", \"box\", \"box\", \"box\", \"box\", \"boyfriend\", \"boyfriend\", \"boyfriend\", \"boyfriend\", \"brother\", \"brother\", \"brother\", \"brother\", \"brows\", \"brows\", \"brows\", \"brows\", \"bulb\", \"button\", \"button\", \"button\", \"buy\", \"buy\", \"buy\", \"buy\", \"buy\", \"buy\", \"call\", \"call\", \"call\", \"cant\", \"cant\", \"cant\", \"cant\", \"cant\", \"cant\", \"card\", \"card\", \"card\", \"carousel\", \"carousel\", \"carousel\", \"carousel\", \"carri\", \"carri\", \"carri\", \"carri\", \"carri\", \"carri\", \"cartoon\", \"cartoon\", \"cartoon\", \"case\", \"case\", \"case\", \"case\", \"case\", \"challeng\", \"challeng\", \"challeng\", \"challeng\", \"chang\", \"chang\", \"chang\", \"chang\", \"chang\", \"chang\", \"charg\", \"charg\", \"charg\", \"charg\", \"charger\", \"charger\", \"charger\", \"charger\", \"cheap\", \"cheap\", \"cheap\", \"cheap\", \"cheaper\", \"cheaper\", \"cheaper\", \"cheaper\", \"child\", \"child\", \"child\", \"child\", \"children\", \"children\", \"children\", \"children\", \"chime\", \"chime\", \"christma\", \"christma\", \"christma\", \"christma\", \"christma\", \"close\", \"close\", \"coat\", \"coat\", \"colleg\", \"colleg\", \"colleg\", \"colleg\", \"colleg\", \"command\", \"complaint\", \"complaint\", \"complaint\", \"complaint\", \"complic\", \"complic\", \"complic\", \"complic\", \"complic\", \"connect\", \"connect\", \"connect\", \"connect\", \"connect\", \"connect\", \"consic\", \"consic\", \"control\", \"control\", \"control\", \"cook\", \"cook\", \"corner\", \"corner\", \"cost\", \"cost\", \"cost\", \"cost\", \"countri\", \"countri\", \"countri\", \"cover\", \"cover\", \"cover\", \"cover\", \"crazi\", \"crazi\", \"crazi\", \"crazi\", \"damag\", \"damag\", \"damag\", \"daughter\", \"daughter\", \"daughter\", \"daughter\", \"daughter\", \"daughterinlaw\", \"daughterinlaw\", \"dauther\", \"dauther\", \"dauther\", \"dayssturdi\", \"dayssturdi\", \"definit\", \"definit\", \"definit\", \"definit\", \"definit\", \"definit\", \"delet\", \"delet\", \"delet\", \"delet\", \"descipl\", \"descipl\", \"descipl\", \"devic\", \"devic\", \"devic\", \"devic\", \"devic\", \"devic\", \"devis\", \"devis\", \"devis\", \"dictionari\", \"dictionari\", \"dictionari\", \"difficulti\", \"difficulti\", \"difficulti\", \"doesnt\", \"doesnt\", \"doesnt\", \"doesnt\", \"dollar\", \"dollar\", \"dollar\", \"dollar\", \"dont\", \"dont\", \"dont\", \"dont\", \"dont\", \"dont\", \"dot\", \"dot\", \"durabl\", \"durabl\", \"durabl\", \"durabl\", \"earli\", \"earli\", \"earli\", \"earli\", \"eas\", \"eas\", \"eas\", \"eas\", \"eas\", \"easier\", \"easier\", \"easier\", \"easier\", \"easier\", \"easier\", \"ebook\", \"ebook\", \"ebook\", \"ebook\", \"echo\", \"echo\", \"educ\", \"educ\", \"employe\", \"employe\", \"employe\", \"enjoy\", \"enjoy\", \"enjoy\", \"enjoy\", \"enjoy\", \"enjoy\", \"enjoy\", \"etc\", \"etc\", \"etc\", \"etc\", \"etc\", \"etc\", \"excel\", \"excel\", \"excel\", \"excel\", \"excel\", \"excel\", \"expens\", \"expens\", \"expens\", \"famili\", \"famili\", \"famili\", \"famili\", \"famili\", \"famili\", \"famili\", \"fanat\", \"fanat\", \"fanat\", \"far\", \"far\", \"far\", \"far\", \"far\", \"fasteasi\", \"fasteasi\", \"fasteasi\", \"faster\", \"faster\", \"faster\", \"faster\", \"faster\", \"fastgreat\", \"fastgreat\", \"februari\", \"februari\", \"figur\", \"figur\", \"figur\", \"figur\", \"figur\", \"figur\", \"fingertip\", \"fingertip\", \"fingertip\", \"fingertip\", \"fingertip\", \"fire\", \"fire\", \"fire\", \"fire\", \"fire\", \"fire\", \"firend\", \"firend\", \"first\", \"first\", \"first\", \"first\", \"first\", \"first\", \"flower\", \"flower\", \"folder\", \"folder\", \"font\", \"font\", \"font\", \"font\", \"format\", \"format\", \"format\", \"format\", \"friend\", \"friend\", \"friend\", \"friend\", \"friend\", \"friend\", \"friendli\", \"friendli\", \"friendli\", \"friendli\", \"fun\", \"fun\", \"fun\", \"fun\", \"fun\", \"fundrais\", \"fundrais\", \"game\", \"game\", \"game\", \"game\", \"gave\", \"gave\", \"gave\", \"gave\", \"gave\", \"gb\", \"gb\", \"gb\", \"gener\", \"gener\", \"gener\", \"gener\", \"gener\", \"gift\", \"gift\", \"gift\", \"gift\", \"gift\", \"glare\", \"glare\", \"glass\", \"glass\", \"got\", \"got\", \"got\", \"got\", \"got\", \"got\", \"grand\", \"grand\", \"grandchildren\", \"grandchildren\", \"grandchildren\", \"granddaught\", \"granddaught\", \"granddaught\", \"granddaught\", \"granddaught\", \"grandkid\", \"grandkid\", \"grandkid\", \"grandkidsag\", \"grandkidsag\", \"grandson\", \"grandson\", \"grandson\", \"grandson\", \"great\", \"great\", \"great\", \"great\", \"great\", \"great\", \"greater\", \"greater\", \"hand\", \"hand\", \"hand\", \"hand\", \"hand\", \"happi\", \"happi\", \"happi\", \"happi\", \"happi\", \"happi\", \"haptic\", \"haptic\", \"hate\", \"hate\", \"hate\", \"hate\", \"hd\", \"hd\", \"hd\", \"hd\", \"hear\", \"hear\", \"hear\", \"hear\", \"heavi\", \"heavi\", \"heavi\", \"hold\", \"hold\", \"hold\", \"hold\", \"hold\", \"home\", \"home\", \"home\", \"home\", \"hotspot\", \"hotspot\", \"hotspot\", \"hotspot\", \"hous\", \"hous\", \"hous\", \"hous\", \"hous\", \"hous\", \"hub\", \"hub\", \"hue\", \"hue\", \"hue\", \"im\", \"im\", \"im\", \"im\", \"im\", \"im\", \"imag\", \"imag\", \"imag\", \"imag\", \"imposs\", \"imposs\", \"imposs\", \"imposs\", \"imposs\", \"inch\", \"inch\", \"inch\", \"inch\", \"includ\", \"includ\", \"includ\", \"includ\", \"includ\", \"inlaw\", \"inlaw\", \"inlaw\", \"intent\", \"intent\", \"intent\", \"ipad\", \"ipad\", \"ipad\", \"ipad\", \"item\", \"item\", \"item\", \"item\", \"item\", \"item\", \"junk\", \"junk\", \"junk\", \"keyboard\", \"keyboard\", \"kid\", \"kid\", \"kid\", \"kindl\", \"kindl\", \"kindl\", \"kindl\", \"kindl\", \"kindl\", \"kitchen\", \"kitchen\", \"lap\", \"lap\", \"larger\", \"larger\", \"larger\", \"larger\", \"larger\", \"last\", \"last\", \"last\", \"last\", \"learn\", \"learn\", \"learn\", \"learn\", \"left\", \"left\", \"left\", \"left\", \"left\", \"librari\", \"librari\", \"librari\", \"librari\", \"librari\", \"life\", \"life\", \"life\", \"life\", \"life\", \"light\", \"light\", \"light\", \"light\", \"light\", \"light\", \"lighter\", \"lighter\", \"lighter\", \"lighter\", \"lightweight\", \"lightweight\", \"lightweight\", \"lightweight\", \"lightweight\", \"lightweight\", \"line\", \"line\", \"list\", \"list\", \"list\", \"listen\", \"listen\", \"listen\", \"listen\", \"listen\", \"littl\", \"littl\", \"littl\", \"littl\", \"littl\", \"lol\", \"lol\", \"lol\", \"lol\", \"lol\", \"look\", \"look\", \"look\", \"look\", \"look\", \"love\", \"love\", \"love\", \"love\", \"love\", \"love\", \"low\", \"low\", \"low\", \"low\", \"lug\", \"lug\", \"lug\", \"lug\", \"lyric\", \"lyric\", \"magazin\", \"magazin\", \"magazin\", \"magazin\", \"magazin\", \"make\", \"make\", \"make\", \"make\", \"make\", \"make\", \"make\", \"manual\", \"manual\", \"manual\", \"manual\", \"manual\", \"manual\", \"memori\", \"memori\", \"memori\", \"memori\", \"menu\", \"menu\", \"menu\", \"menu\", \"model\", \"model\", \"model\", \"model\", \"model\", \"money\", \"money\", \"money\", \"money\", \"mostli\", \"mostli\", \"mostli\", \"mostli\", \"mostli\", \"mother\", \"mother\", \"mother\", \"mother\", \"mother\", \"movi\", \"movi\", \"movi\", \"movi\", \"much\", \"much\", \"much\", \"much\", \"much\", \"much\", \"music\", \"music\", \"music\", \"music\", \"music\", \"navig\", \"navig\", \"navig\", \"navig\", \"need\", \"need\", \"need\", \"need\", \"need\", \"nephew\", \"nephew\", \"nephew\", \"newspap\", \"newspap\", \"newstand\", \"newstand\", \"nexu\", \"nexu\", \"nexu\", \"niec\", \"niec\", \"niec\", \"nook\", \"nook\", \"nook\", \"nook\", \"oasi\", \"oasi\", \"oasi\", \"oasi\", \"obviou\", \"obviou\", \"occasion\", \"occasion\", \"occasion\", \"old\", \"old\", \"old\", \"old\", \"one\", \"one\", \"one\", \"one\", \"one\", \"one\", \"open\", \"open\", \"open\", \"open\", \"open\", \"open\", \"origin\", \"origin\", \"origin\", \"origin\", \"origin\", \"origin\", \"os\", \"os\", \"os\", \"outstand\", \"outstand\", \"outstand\", \"outstand\", \"outstand\", \"outstand\", \"page\", \"page\", \"page\", \"page\", \"page\", \"paperwhit\", \"paperwhit\", \"paperwhit\", \"paperwhit\", \"paperwhit\", \"parent\", \"parent\", \"parent\", \"partli\", \"partli\", \"pay\", \"pay\", \"pay\", \"pay\", \"perfect\", \"perfect\", \"perfect\", \"perfect\", \"perfect\", \"perfect\", \"photo\", \"photo\", \"photo\", \"photo\", \"photo\", \"photo\", \"physic\", \"physic\", \"pink\", \"pink\", \"plane\", \"plane\", \"plane\", \"play\", \"play\", \"play\", \"play\", \"play\", \"pleas\", \"pleas\", \"pleas\", \"pleas\", \"pleas\", \"plu\", \"plu\", \"plu\", \"plu\", \"plu\", \"port\", \"port\", \"port\", \"port\", \"preinstal\", \"preinstal\", \"preinstal\", \"preinstal\", \"present\", \"present\", \"present\", \"present\", \"present\", \"press\", \"press\", \"press\", \"price\", \"price\", \"price\", \"price\", \"price\", \"priceveri\", \"priceveri\", \"priceveri\", \"primetim\", \"primetim\", \"product\", \"product\", \"product\", \"product\", \"product\", \"product\", \"profil\", \"profil\", \"profil\", \"profil\", \"protect\", \"protect\", \"protect\", \"protect\", \"protect\", \"purchas\", \"purchas\", \"purchas\", \"purchas\", \"purchas\", \"purchas\", \"purchas\", \"purs\", \"purs\", \"purs\", \"purs\", \"purs\", \"question\", \"question\", \"question\", \"read\", \"read\", \"read\", \"read\", \"read\", \"read\", \"reader\", \"reader\", \"reader\", \"reader\", \"reader\", \"reader\", \"realli\", \"realli\", \"realli\", \"realli\", \"realli\", \"realli\", \"reccomend\", \"reccomend\", \"receiv\", \"receiv\", \"receiv\", \"receiv\", \"receiv\", \"recip\", \"recip\", \"recipi\", \"recipi\", \"recommend\", \"recommend\", \"recommend\", \"recommend\", \"recommend\", \"recommend\", \"red\", \"red\", \"red\", \"refer\", \"refer\", \"refer\", \"repair\", \"repair\", \"replac\", \"replac\", \"replac\", \"replac\", \"replac\", \"replac\", \"ring\", \"road\", \"road\", \"road\", \"room\", \"room\", \"room\", \"room\", \"room\", \"sahr\", \"sahr\", \"satisfi\", \"satisfi\", \"satisfi\", \"satisfi\", \"satisfi\", \"savvi\", \"savvi\", \"savvi\", \"savvi\", \"screen\", \"screen\", \"screen\", \"screen\", \"screen\", \"screen\", \"sd\", \"sd\", \"sd\", \"second\", \"second\", \"second\", \"second\", \"second\", \"secur\", \"secur\", \"secur\", \"seri\", \"seri\", \"seri\", \"seri\", \"set\", \"set\", \"set\", \"set\", \"set\", \"set\", \"set\", \"shape\", \"shape\", \"shape\", \"shape\", \"show\", \"show\", \"show\", \"show\", \"show\", \"sister\", \"sister\", \"sister\", \"sister\", \"sister\", \"size\", \"size\", \"size\", \"size\", \"size\", \"slow\", \"slow\", \"slow\", \"slow\", \"small\", \"small\", \"small\", \"small\", \"small\", \"smaller\", \"smaller\", \"smaller\", \"smaller\", \"smart\", \"smart\", \"smart\", \"son\", \"son\", \"son\", \"son\", \"songreat\", \"songreat\", \"sound\", \"sound\", \"sound\", \"sound\", \"sound\", \"sound\", \"speaker\", \"speaker\", \"speaker\", \"speaker\", \"speaker\", \"spous\", \"spous\", \"spous\", \"squar\", \"squar\", \"squar\", \"start\", \"start\", \"start\", \"start\", \"start\", \"start\", \"stock\", \"stock\", \"stock\", \"stock\", \"stock\", \"storag\", \"storag\", \"storag\", \"storag\", \"storag\", \"store\", \"store\", \"store\", \"store\", \"store\", \"store\", \"student\", \"student\", \"student\", \"student\", \"style\", \"style\", \"style\", \"subscript\", \"subscript\", \"subscript\", \"suggest\", \"suggest\", \"suggest\", \"suggest\", \"suggest\", \"suit\", \"suit\", \"suit\", \"suit\", \"sun\", \"sun\", \"sun\", \"sun\", \"superb\", \"superb\", \"superb\", \"superb\", \"superb\", \"surf\", \"surf\", \"surf\", \"surf\", \"swipe\", \"swipe\", \"swipe\", \"swipe\", \"swipe\", \"switch\", \"switch\", \"switch\", \"switch\", \"switch\", \"tablet\", \"tablet\", \"tablet\", \"tablet\", \"tablet\", \"tabletdo\", \"tabletdo\", \"tableti\", \"tableti\", \"tableti\", \"tap\", \"tap\", \"tap\", \"tap\", \"teach\", \"teach\", \"teach\", \"teach\", \"text\", \"text\", \"text\", \"text\", \"th\", \"th\", \"th\", \"th\", \"thing\", \"thing\", \"thing\", \"thing\", \"thing\", \"till\", \"till\", \"till\", \"till\", \"toast\", \"toast\", \"toddler\", \"toddler\", \"toddler\", \"told\", \"told\", \"told\", \"told\", \"top\", \"top\", \"top\", \"top\", \"tot\", \"tot\", \"touch\", \"touch\", \"touch\", \"touch\", \"touch\", \"tough\", \"tough\", \"tough\", \"trick\", \"trick\", \"trick\", \"trilog\", \"trilog\", \"trip\", \"trip\", \"trip\", \"trip\", \"trip\", \"turn\", \"turn\", \"turn\", \"turn\", \"turn\", \"turn\", \"turn\", \"type\", \"type\", \"type\", \"type\", \"type\", \"upgrad\", \"upgrad\", \"upgrad\", \"upgrad\", \"upgrad\", \"use\", \"use\", \"use\", \"use\", \"use\", \"user\", \"user\", \"user\", \"user\", \"user\", \"user\", \"valu\", \"valu\", \"valu\", \"valu\", \"valu\", \"valu\", \"vehicl\", \"vehicl\", \"video\", \"video\", \"video\", \"video\", \"video\", \"view\", \"view\", \"view\", \"view\", \"view\", \"voic\", \"want\", \"want\", \"want\", \"want\", \"want\", \"want\", \"watch\", \"watch\", \"watch\", \"watch\", \"watch\", \"way\", \"way\", \"way\", \"way\", \"way\", \"way\", \"weather\", \"weather\", \"web\", \"web\", \"web\", \"web\", \"weight\", \"weight\", \"weight\", \"weight\", \"weight\", \"weight\", \"welcom\", \"welcom\", \"welcom\", \"well\", \"well\", \"well\", \"well\", \"went\", \"went\", \"went\", \"went\", \"went\", \"went\", \"wife\", \"wife\", \"wife\", \"wife\", \"wife\", \"window\", \"window\", \"window\", \"window\", \"without\", \"without\", \"without\", \"without\", \"without\", \"without\", \"work\", \"work\", \"work\", \"work\", \"work\", \"work\", \"worthwhil\", \"worthwhil\", \"worthwhil\", \"year\", \"year\", \"year\", \"year\", \"young\", \"young\", \"young\", \"youv\", \"youv\", \"yr\", \"yr\", \"yr\"]}, \"R\": 30, \"lambda.step\": 0.01, \"plot.opts\": {\"xlab\": \"PC1\", \"ylab\": \"PC2\"}, \"topic.order\": [3, 6, 1, 2, 7, 5, 4]};\n",
       "\n",
       "function LDAvis_load_lib(url, callback){\n",
       "  var s = document.createElement('script');\n",
       "  s.src = url;\n",
       "  s.async = true;\n",
       "  s.onreadystatechange = s.onload = callback;\n",
       "  s.onerror = function(){console.warn(\"failed to load library \" + url);};\n",
       "  document.getElementsByTagName(\"head\")[0].appendChild(s);\n",
       "}\n",
       "\n",
       "if(typeof(LDAvis) !== \"undefined\"){\n",
       "   // already loaded: just create the visualization\n",
       "   !function(LDAvis){\n",
       "       new LDAvis(\"#\" + \"ldavis_el138482660236606816539670774\", ldavis_el138482660236606816539670774_data);\n",
       "   }(LDAvis);\n",
       "}else if(typeof define === \"function\" && define.amd){\n",
       "   // require.js is available: use it to load d3/LDAvis\n",
       "   require.config({paths: {d3: \"https://d3js.org/d3.v5\"}});\n",
       "   require([\"d3\"], function(d3){\n",
       "      window.d3 = d3;\n",
       "      LDAvis_load_lib(\"https://cdn.jsdelivr.net/gh/bmabey/pyLDAvis@3.2.2/pyLDAvis/js/ldavis.v3.0.0.js\", function(){\n",
       "        new LDAvis(\"#\" + \"ldavis_el138482660236606816539670774\", ldavis_el138482660236606816539670774_data);\n",
       "      });\n",
       "    });\n",
       "}else{\n",
       "    // require.js not available: dynamically load d3 & LDAvis\n",
       "    LDAvis_load_lib(\"https://d3js.org/d3.v5.js\", function(){\n",
       "         LDAvis_load_lib(\"https://cdn.jsdelivr.net/gh/bmabey/pyLDAvis@3.2.2/pyLDAvis/js/ldavis.v3.0.0.js\", function(){\n",
       "                 new LDAvis(\"#\" + \"ldavis_el138482660236606816539670774\", ldavis_el138482660236606816539670774_data);\n",
       "            })\n",
       "         });\n",
       "}\n",
       "</script>"
      ],
      "text/plain": [
       "<IPython.core.display.HTML object>"
      ]
     },
     "execution_count": 18,
     "metadata": {},
     "output_type": "execute_result"
    }
   ],
   "source": [
    "#visualizing topics\n",
    "lda_viz = gensim.models.ldamodel.LdaModel.load('./model_combined.gensim')\n",
    "lda_display = pyLDAvis.gensim.prepare(lda_viz, corpus, dictionary, sort_topics=True)\n",
    "pyLDAvis.display(lda_display)"
   ]
  }
 ],
 "metadata": {
  "colab": {
   "name": "KDM_2021_ICP6.ipynb",
   "provenance": []
  },
  "kernelspec": {
   "display_name": "Python 3",
   "language": "python",
   "name": "python3"
  },
  "language_info": {
   "codemirror_mode": {
    "name": "ipython",
    "version": 3
   },
   "file_extension": ".py",
   "mimetype": "text/x-python",
   "name": "python",
   "nbconvert_exporter": "python",
   "pygments_lexer": "ipython3",
   "version": "3.8.3"
  }
 },
 "nbformat": 4,
 "nbformat_minor": 1
}
