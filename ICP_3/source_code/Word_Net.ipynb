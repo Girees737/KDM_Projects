{
 "cells": [
  {
   "cell_type": "code",
   "execution_count": 1,
   "metadata": {},
   "outputs": [],
   "source": [
    "from nltk.corpus import wordnet"
   ]
  },
  {
   "cell_type": "markdown",
   "metadata": {},
   "source": [
    "### Hyponym "
   ]
  },
  {
   "cell_type": "code",
   "execution_count": null,
   "metadata": {},
   "outputs": [],
   "source": [
    "#### Word Considered: "
   ]
  },
  {
   "cell_type": "code",
   "execution_count": 14,
   "metadata": {},
   "outputs": [
    {
     "name": "stdout",
     "output_type": "stream",
     "text": [
      "[Synset('cad.n.01'), Synset('computer-aided_design.n.01')]\n",
      "\n",
      "\n",
      "cad\n",
      "\n",
      "\n"
     ]
    }
   ],
   "source": [
    "# lets use word paint as an exqmple\n",
    "syns = wordnet.synsets(\"cad\")\n",
    "\n",
    "# An example of a synset:\n",
    "print(syns)\n",
    "print('\\n')\n",
    "\n",
    "# Just the word:\n",
    "print(syns[0].lemmas()[0].name())\n",
    "print('\\n')"
   ]
  },
  {
   "cell_type": "markdown",
   "metadata": {},
   "source": [
    "### Hypernym"
   ]
  },
  {
   "cell_type": "markdown",
   "metadata": {},
   "source": [
    "#### Word Considered: Feller and chap"
   ]
  },
  {
   "cell_type": "code",
   "execution_count": 11,
   "metadata": {},
   "outputs": [
    {
     "name": "stdout",
     "output_type": "stream",
     "text": [
      "[Synset('lumberman.n.01'), Synset('chap.n.01')]\n",
      "\n",
      "\n",
      "lumberman\n",
      "\n",
      "\n"
     ]
    }
   ],
   "source": [
    "# lets use word paint as an exqmple\n",
    "syns = wordnet.synsets(\"feller\")\n",
    "\n",
    "# An example of a synset:\n",
    "print(syns)\n",
    "print('\\n')\n",
    "\n",
    "# Just the word:\n",
    "print(syns[0].lemmas()[0].name())\n",
    "print('\\n')"
   ]
  },
  {
   "cell_type": "code",
   "execution_count": 10,
   "metadata": {},
   "outputs": [
    {
     "name": "stdout",
     "output_type": "stream",
     "text": [
      "[Synset('chap.n.01'), Synset('crevice.n.01'), Synset('chap.n.03'), Synset('chap.n.04'), Synset('chap.v.01')]\n",
      "\n",
      "\n",
      "chap\n",
      "\n",
      "\n"
     ]
    }
   ],
   "source": [
    "# lets use word paint as an exqmple\n",
    "syns = wordnet.synsets(\"chap\")\n",
    "\n",
    "# An example of a synset:\n",
    "print(syns)\n",
    "print('\\n')\n",
    "\n",
    "# Just the word:\n",
    "print(syns[0].lemmas()[0].name())\n",
    "print('\\n')"
   ]
  },
  {
   "cell_type": "markdown",
   "metadata": {},
   "source": [
    "#### Note: If we see above, the words 'chap' and 'feller' are both falling under 'chap.n.01' and related"
   ]
  },
  {
   "cell_type": "markdown",
   "metadata": {},
   "source": [
    "### Meronym"
   ]
  },
  {
   "cell_type": "code",
   "execution_count": 17,
   "metadata": {},
   "outputs": [
    {
     "name": "stdout",
     "output_type": "stream",
     "text": [
      "[Synset('burl.n.02'), Synset('crown.n.07'), Synset('limb.n.02'), Synset('stump.n.01'), Synset('trunk.n.01')]\n",
      "\n",
      "\n",
      "[Synset('heartwood.n.01'), Synset('sapwood.n.01')]\n"
     ]
    }
   ],
   "source": [
    "tree = wordnet.synset('tree.n.01')\n",
    " \n",
    "print(tree.part_meronyms())\n",
    "#[Synset('burl.n.02'), Synset('crown.n.07'), Synset('limb.n.02'), Synset('stump.n.01'), Synset('trunk.n.01')]\n",
    "print('\\n')\n",
    "print(tree.substance_meronyms())\n",
    "#[Synset('heartwood.n.01'), Synset('sapwood.n.01')]\n"
   ]
  },
  {
   "cell_type": "markdown",
   "metadata": {},
   "source": [
    "### Holonym"
   ]
  },
  {
   "cell_type": "code",
   "execution_count": 18,
   "metadata": {},
   "outputs": [
    {
     "name": "stdout",
     "output_type": "stream",
     "text": [
      "[Synset('chemical_element.n.01'), Synset('molecule.n.01')]\n",
      "\n",
      "\n",
      "[Synset('water.n.01')]\n"
     ]
    }
   ],
   "source": [
    "print(wordnet.synset('atom.n.01').part_holonyms())\n",
    "#[Synset('chemical_element.n.01'), Synset('molecule.n.01')]\n",
    "print('\\n')\n",
    "print(wordnet.synset('hydrogen.n.01').substance_holonyms())\n",
    "#[Synset('water.n.01')]"
   ]
  },
  {
   "cell_type": "markdown",
   "metadata": {},
   "source": [
    "### Entailment"
   ]
  },
  {
   "cell_type": "code",
   "execution_count": 19,
   "metadata": {},
   "outputs": [
    {
     "data": {
      "text/plain": [
       "[Synset('chew.v.01'), Synset('swallow.v.01')]"
      ]
     },
     "execution_count": 19,
     "metadata": {},
     "output_type": "execute_result"
    }
   ],
   "source": [
    "wordnet.synset('eat.v.01').entailments()"
   ]
  },
  {
   "cell_type": "code",
   "execution_count": 21,
   "metadata": {},
   "outputs": [
    {
     "name": "stdout",
     "output_type": "stream",
     "text": [
      "The similarity score betwee ship and boat is = 0.9090909090909091\n"
     ]
    }
   ],
   "source": [
    "# comparison/ similarity score between 2 words\n",
    "w1 = wordnet.synset('ship.n.01')\n",
    "w2 = wordnet.synset('boat.n.01') # n denotes noun\n",
    "print(\"The similarity score betwee ship and boat is =\",w1.wup_similarity(w2))"
   ]
  }
 ],
 "metadata": {
  "kernelspec": {
   "display_name": "Python 3",
   "language": "python",
   "name": "python3"
  },
  "language_info": {
   "codemirror_mode": {
    "name": "ipython",
    "version": 3
   },
   "file_extension": ".py",
   "mimetype": "text/x-python",
   "name": "python",
   "nbconvert_exporter": "python",
   "pygments_lexer": "ipython3",
   "version": "3.8.3"
  }
 },
 "nbformat": 4,
 "nbformat_minor": 4
}
