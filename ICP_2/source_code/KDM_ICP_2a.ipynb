{
 "cells": [
  {
   "cell_type": "code",
   "execution_count": 6,
   "metadata": {
    "id": "zthUYMey80GW"
   },
   "outputs": [
    {
     "name": "stderr",
     "output_type": "stream",
     "text": [
      "[nltk_data] Downloading package punkt to\n",
      "[nltk_data]     C:\\Users\\muppa\\AppData\\Roaming\\nltk_data...\n",
      "[nltk_data]   Package punkt is already up-to-date!\n",
      "[nltk_data] Downloading package averaged_perceptron_tagger to\n",
      "[nltk_data]     C:\\Users\\muppa\\AppData\\Roaming\\nltk_data...\n",
      "[nltk_data]   Package averaged_perceptron_tagger is already up-to-\n",
      "[nltk_data]       date!\n",
      "[nltk_data] Downloading package maxent_ne_chunker to\n",
      "[nltk_data]     C:\\Users\\muppa\\AppData\\Roaming\\nltk_data...\n",
      "[nltk_data]   Unzipping chunkers\\maxent_ne_chunker.zip.\n",
      "[nltk_data] Downloading package words to\n",
      "[nltk_data]     C:\\Users\\muppa\\AppData\\Roaming\\nltk_data...\n",
      "[nltk_data]   Unzipping corpora\\words.zip.\n"
     ]
    },
    {
     "data": {
      "text/plain": [
       "True"
      ]
     },
     "execution_count": 6,
     "metadata": {},
     "output_type": "execute_result"
    }
   ],
   "source": [
    "import nltk\n",
    "nltk.download('punkt')\n",
    "nltk.download('averaged_perceptron_tagger')\n",
    "nltk.download('maxent_ne_chunker')\n",
    "nltk.download('words')"
   ]
  },
  {
   "cell_type": "code",
   "execution_count": 1,
   "metadata": {
    "id": "PaS4zBmG82Ch"
   },
   "outputs": [],
   "source": [
    "text=\"Xi Jinping is a Chinese politician who has served as General Secretary of the Chinese Communist Party (CCP) and Chairman of the Central Military Commission (CMC) since 2012, and President of the People's Republic of China (PRC) since 2013. He has been the paramount leader of China, the most prominent political leader in the country, since 2012. The son of Chinese Communist veteran Xi Zhongxun, he was exiled to rural Yanchuan County as a teenager following his father's purge during the Cultural Revolutionandlived in a cave in the village of Liangjiahe, where he joined the CCP and worked as the party secretary.’\""
   ]
  },
  {
   "cell_type": "markdown",
   "metadata": {
    "id": "RVfxGfRn9V3W"
   },
   "source": [
    "## Part-of-speech (POS) tagger using NLTK\n"
   ]
  },
  {
   "cell_type": "code",
   "execution_count": 3,
   "metadata": {
    "colab": {
     "base_uri": "https://localhost:8080/"
    },
    "id": "WF8YLPQ49neV",
    "outputId": "ef2f52ef-beb6-4113-db33-11f5758635bc"
   },
   "outputs": [
    {
     "name": "stdout",
     "output_type": "stream",
     "text": [
      "[('Xi', 'NN'), ('Jinping', 'NNP'), ('is', 'VBZ'), ('a', 'DT'), ('Chinese', 'JJ'), ('politician', 'NN'), ('who', 'WP'), ('has', 'VBZ'), ('served', 'VBN'), ('as', 'IN'), ('General', 'NNP'), ('Secretary', 'NNP'), ('of', 'IN'), ('the', 'DT'), ('Chinese', 'NNP'), ('Communist', 'NNP'), ('Party', 'NNP'), ('(', '('), ('CCP', 'NNP'), (')', ')'), ('and', 'CC'), ('Chairman', 'NNP'), ('of', 'IN'), ('the', 'DT'), ('Central', 'NNP'), ('Military', 'NNP'), ('Commission', 'NNP'), ('(', '('), ('CMC', 'NNP'), (')', ')'), ('since', 'IN'), ('2012', 'CD'), (',', ','), ('and', 'CC'), ('President', 'NNP'), ('of', 'IN'), ('the', 'DT'), ('People', 'NNP'), (\"'s\", 'POS'), ('Republic', 'NNP'), ('of', 'IN'), ('China', 'NNP'), ('(', '('), ('PRC', 'NNP'), (')', ')'), ('since', 'IN'), ('2013', 'CD'), ('.', '.'), ('He', 'PRP'), ('has', 'VBZ'), ('been', 'VBN'), ('the', 'DT'), ('paramount', 'JJ'), ('leader', 'NN'), ('of', 'IN'), ('China', 'NNP'), (',', ','), ('the', 'DT'), ('most', 'RBS'), ('prominent', 'JJ'), ('political', 'JJ'), ('leader', 'NN'), ('in', 'IN'), ('the', 'DT'), ('country', 'NN'), (',', ','), ('since', 'IN'), ('2012', 'CD'), ('.', '.'), ('The', 'DT'), ('son', 'NN'), ('of', 'IN'), ('Chinese', 'JJ'), ('Communist', 'NNP'), ('veteran', 'NN'), ('Xi', 'NNP'), ('Zhongxun', 'NNP'), (',', ','), ('he', 'PRP'), ('was', 'VBD'), ('exiled', 'VBN'), ('to', 'TO'), ('rural', 'JJ'), ('Yanchuan', 'NNP'), ('County', 'NNP'), ('as', 'IN'), ('a', 'DT'), ('teenager', 'NN'), ('following', 'VBG'), ('his', 'PRP$'), ('father', 'NN'), (\"'s\", 'POS'), ('purge', 'NN'), ('during', 'IN'), ('the', 'DT'), ('Cultural', 'NNP'), ('Revolutionandlived', 'NNP'), ('in', 'IN'), ('a', 'DT'), ('cave', 'NN'), ('in', 'IN'), ('the', 'DT'), ('village', 'NN'), ('of', 'IN'), ('Liangjiahe', 'NNP'), (',', ','), ('where', 'WRB'), ('he', 'PRP'), ('joined', 'VBD'), ('the', 'DT'), ('CCP', 'NNP'), ('and', 'CC'), ('worked', 'VBD'), ('as', 'IN'), ('the', 'DT'), ('party', 'NN'), ('secretary', 'NN'), ('.', '.'), ('’', 'NN')]\n"
     ]
    }
   ],
   "source": [
    "text1 = nltk.word_tokenize(text)\n",
    "sent=nltk.pos_tag(text1)\n",
    "print(sent)"
   ]
  },
  {
   "cell_type": "markdown",
   "metadata": {
    "id": "SOG15Y4p-aN7"
   },
   "source": [
    "## Named Entity Recognition using NLTK\n"
   ]
  },
  {
   "cell_type": "code",
   "execution_count": 4,
   "metadata": {
    "colab": {
     "base_uri": "https://localhost:8080/"
    },
    "id": "emmdbCFf-Mv_",
    "outputId": "2caade74-d18f-4322-a072-baf74799e159"
   },
   "outputs": [
    {
     "name": "stdout",
     "output_type": "stream",
     "text": [
      "(S\n",
      "  (NP Xi/NN)\n",
      "  Jinping/NNP\n",
      "  is/VBZ\n",
      "  (NP a/DT Chinese/JJ politician/NN)\n",
      "  who/WP\n",
      "  has/VBZ\n",
      "  served/VBN\n",
      "  as/IN\n",
      "  General/NNP\n",
      "  Secretary/NNP\n",
      "  of/IN\n",
      "  the/DT\n",
      "  Chinese/NNP\n",
      "  Communist/NNP\n",
      "  Party/NNP\n",
      "  (/(\n",
      "  CCP/NNP\n",
      "  )/)\n",
      "  and/CC\n",
      "  Chairman/NNP\n",
      "  of/IN\n",
      "  the/DT\n",
      "  Central/NNP\n",
      "  Military/NNP\n",
      "  Commission/NNP\n",
      "  (/(\n",
      "  CMC/NNP\n",
      "  )/)\n",
      "  since/IN\n",
      "  2012/CD\n",
      "  ,/,\n",
      "  and/CC\n",
      "  President/NNP\n",
      "  of/IN\n",
      "  the/DT\n",
      "  People/NNP\n",
      "  's/POS\n",
      "  Republic/NNP\n",
      "  of/IN\n",
      "  China/NNP\n",
      "  (/(\n",
      "  PRC/NNP\n",
      "  )/)\n",
      "  since/IN\n",
      "  2013/CD\n",
      "  ./.\n",
      "  He/PRP\n",
      "  has/VBZ\n",
      "  been/VBN\n",
      "  (NP the/DT paramount/JJ leader/NN)\n",
      "  of/IN\n",
      "  China/NNP\n",
      "  ,/,\n",
      "  the/DT\n",
      "  most/RBS\n",
      "  (NP prominent/JJ political/JJ leader/NN)\n",
      "  in/IN\n",
      "  (NP the/DT country/NN)\n",
      "  ,/,\n",
      "  since/IN\n",
      "  2012/CD\n",
      "  ./.\n",
      "  (NP The/DT son/NN)\n",
      "  of/IN\n",
      "  Chinese/JJ\n",
      "  Communist/NNP\n",
      "  (NP veteran/NN)\n",
      "  Xi/NNP\n",
      "  Zhongxun/NNP\n",
      "  ,/,\n",
      "  he/PRP\n",
      "  was/VBD\n",
      "  exiled/VBN\n",
      "  to/TO\n",
      "  rural/JJ\n",
      "  Yanchuan/NNP\n",
      "  County/NNP\n",
      "  as/IN\n",
      "  (NP a/DT teenager/NN)\n",
      "  following/VBG\n",
      "  his/PRP$\n",
      "  (NP father/NN)\n",
      "  's/POS\n",
      "  (NP purge/NN)\n",
      "  during/IN\n",
      "  the/DT\n",
      "  Cultural/NNP\n",
      "  Revolutionandlived/NNP\n",
      "  in/IN\n",
      "  (NP a/DT cave/NN)\n",
      "  in/IN\n",
      "  (NP the/DT village/NN)\n",
      "  of/IN\n",
      "  Liangjiahe/NNP\n",
      "  ,/,\n",
      "  where/WRB\n",
      "  he/PRP\n",
      "  joined/VBD\n",
      "  the/DT\n",
      "  CCP/NNP\n",
      "  and/CC\n",
      "  worked/VBD\n",
      "  as/IN\n",
      "  (NP the/DT party/NN)\n",
      "  (NP secretary/NN)\n",
      "  ./.\n",
      "  (NP ’/NN))\n"
     ]
    }
   ],
   "source": [
    "# NER using NLTK\n",
    "pattern = 'NP: {<DT>?<JJ>*<NN>}'\n",
    "cp = nltk.RegexpParser(pattern)\n",
    "cs = cp.parse(sent)\n",
    "print(cs)\n"
   ]
  },
  {
   "cell_type": "code",
   "execution_count": null,
   "metadata": {
    "colab": {
     "base_uri": "https://localhost:8080/"
    },
    "id": "OgUlOvZVC4eJ",
    "outputId": "2306d4b5-7bc0-4426-d036-22652b0baa14"
   },
   "outputs": [
    {
     "name": "stdout",
     "output_type": "stream",
     "text": [
      "[('Xi', 'NN', 'B-NP'),\n",
      " ('Jinping', 'NNP', 'O'),\n",
      " ('is', 'VBZ', 'O'),\n",
      " ('a', 'DT', 'B-NP'),\n",
      " ('Chinese', 'JJ', 'I-NP'),\n",
      " ('politician', 'NN', 'I-NP'),\n",
      " ('who', 'WP', 'O'),\n",
      " ('has', 'VBZ', 'O'),\n",
      " ('served', 'VBN', 'O'),\n",
      " ('as', 'IN', 'O'),\n",
      " ('General', 'NNP', 'O'),\n",
      " ('Secretary', 'NNP', 'O'),\n",
      " ('of', 'IN', 'O'),\n",
      " ('the', 'DT', 'O'),\n",
      " ('Chinese', 'NNP', 'O'),\n",
      " ('Communist', 'NNP', 'O'),\n",
      " ('Party', 'NNP', 'O'),\n",
      " ('(', '(', 'O'),\n",
      " ('CCP', 'NNP', 'O'),\n",
      " (')', ')', 'O'),\n",
      " ('and', 'CC', 'O'),\n",
      " ('Chairman', 'NNP', 'O'),\n",
      " ('of', 'IN', 'O'),\n",
      " ('the', 'DT', 'O'),\n",
      " ('Central', 'NNP', 'O'),\n",
      " ('Military', 'NNP', 'O'),\n",
      " ('Commission', 'NNP', 'O'),\n",
      " ('(', '(', 'O'),\n",
      " ('CMC', 'NNP', 'O'),\n",
      " (')', ')', 'O'),\n",
      " ('since', 'IN', 'O'),\n",
      " ('2012', 'CD', 'O'),\n",
      " (',', ',', 'O'),\n",
      " ('and', 'CC', 'O'),\n",
      " ('President', 'NNP', 'O'),\n",
      " ('of', 'IN', 'O'),\n",
      " ('the', 'DT', 'O'),\n",
      " ('People', 'NNP', 'O'),\n",
      " (\"'s\", 'POS', 'O'),\n",
      " ('Republic', 'NNP', 'O'),\n",
      " ('of', 'IN', 'O'),\n",
      " ('China', 'NNP', 'O'),\n",
      " ('(', '(', 'O'),\n",
      " ('PRC', 'NNP', 'O'),\n",
      " (')', ')', 'O'),\n",
      " ('since', 'IN', 'O'),\n",
      " ('2013', 'CD', 'O'),\n",
      " ('.', '.', 'O'),\n",
      " ('He', 'PRP', 'O'),\n",
      " ('has', 'VBZ', 'O'),\n",
      " ('been', 'VBN', 'O'),\n",
      " ('the', 'DT', 'B-NP'),\n",
      " ('paramount', 'JJ', 'I-NP'),\n",
      " ('leader', 'NN', 'I-NP'),\n",
      " ('of', 'IN', 'O'),\n",
      " ('China', 'NNP', 'O'),\n",
      " (',', ',', 'O'),\n",
      " ('the', 'DT', 'O'),\n",
      " ('most', 'RBS', 'O'),\n",
      " ('prominent', 'JJ', 'B-NP'),\n",
      " ('political', 'JJ', 'I-NP'),\n",
      " ('leader', 'NN', 'I-NP'),\n",
      " ('in', 'IN', 'O'),\n",
      " ('the', 'DT', 'B-NP'),\n",
      " ('country', 'NN', 'I-NP'),\n",
      " (',', ',', 'O'),\n",
      " ('since', 'IN', 'O'),\n",
      " ('2012', 'CD', 'O'),\n",
      " ('.', '.', 'O'),\n",
      " ('The', 'DT', 'B-NP'),\n",
      " ('son', 'NN', 'I-NP'),\n",
      " ('of', 'IN', 'O'),\n",
      " ('Chinese', 'JJ', 'O'),\n",
      " ('Communist', 'NNP', 'O'),\n",
      " ('veteran', 'NN', 'B-NP'),\n",
      " ('Xi', 'NNP', 'O'),\n",
      " ('Zhongxun', 'NNP', 'O'),\n",
      " (',', ',', 'O'),\n",
      " ('he', 'PRP', 'O'),\n",
      " ('was', 'VBD', 'O'),\n",
      " ('exiled', 'VBN', 'O'),\n",
      " ('to', 'TO', 'O'),\n",
      " ('rural', 'JJ', 'O'),\n",
      " ('Yanchuan', 'NNP', 'O'),\n",
      " ('County', 'NNP', 'O'),\n",
      " ('as', 'IN', 'O'),\n",
      " ('a', 'DT', 'B-NP'),\n",
      " ('teenager', 'NN', 'I-NP'),\n",
      " ('following', 'VBG', 'O'),\n",
      " ('his', 'PRP$', 'O'),\n",
      " ('father', 'NN', 'B-NP'),\n",
      " (\"'s\", 'POS', 'O'),\n",
      " ('purge', 'NN', 'B-NP'),\n",
      " ('during', 'IN', 'O'),\n",
      " ('the', 'DT', 'O'),\n",
      " ('Cultural', 'NNP', 'O'),\n",
      " ('Revolutionandlived', 'NNP', 'O'),\n",
      " ('in', 'IN', 'O'),\n",
      " ('a', 'DT', 'B-NP'),\n",
      " ('cave', 'NN', 'I-NP'),\n",
      " ('in', 'IN', 'O'),\n",
      " ('the', 'DT', 'B-NP'),\n",
      " ('village', 'NN', 'I-NP'),\n",
      " ('of', 'IN', 'O'),\n",
      " ('Liangjiahe', 'NNP', 'O'),\n",
      " (',', ',', 'O'),\n",
      " ('where', 'WRB', 'O'),\n",
      " ('he', 'PRP', 'O'),\n",
      " ('joined', 'VBD', 'O'),\n",
      " ('the', 'DT', 'O'),\n",
      " ('CCP', 'NNP', 'O'),\n",
      " ('and', 'CC', 'O'),\n",
      " ('worked', 'VBD', 'O'),\n",
      " ('as', 'IN', 'O'),\n",
      " ('the', 'DT', 'B-NP'),\n",
      " ('party', 'NN', 'I-NP'),\n",
      " ('secretary', 'NN', 'B-NP'),\n",
      " ('.', '.', 'O'),\n",
      " ('’', 'NN', 'B-NP')]\n"
     ]
    }
   ],
   "source": [
    "from nltk.chunk import conlltags2tree, tree2conlltags\n",
    "from pprint import pprint\n",
    "iob_tagged = tree2conlltags(cs)\n",
    "pprint(iob_tagged)"
   ]
  },
  {
   "cell_type": "code",
   "execution_count": 7,
   "metadata": {
    "colab": {
     "base_uri": "https://localhost:8080/"
    },
    "id": "v0jjsAfoDNco",
    "outputId": "83c9c10f-d7fd-45dd-d32e-16712561f486"
   },
   "outputs": [
    {
     "name": "stdout",
     "output_type": "stream",
     "text": [
      "(S\n",
      "  Xi/NN\n",
      "  Jinping/NNP\n",
      "  is/VBZ\n",
      "  a/DT\n",
      "  (GPE Chinese/JJ)\n",
      "  politician/NN\n",
      "  who/WP\n",
      "  has/VBZ\n",
      "  served/VBN\n",
      "  as/IN\n",
      "  (ORGANIZATION General/NNP)\n",
      "  Secretary/NNP\n",
      "  of/IN\n",
      "  the/DT\n",
      "  (ORGANIZATION Chinese/NNP)\n",
      "  (ORGANIZATION Communist/NNP Party/NNP)\n",
      "  (/(\n",
      "  (ORGANIZATION CCP/NNP)\n",
      "  )/)\n",
      "  and/CC\n",
      "  Chairman/NNP\n",
      "  of/IN\n",
      "  the/DT\n",
      "  (ORGANIZATION Central/NNP)\n",
      "  Military/NNP\n",
      "  Commission/NNP\n",
      "  (/(\n",
      "  (ORGANIZATION CMC/NNP)\n",
      "  )/)\n",
      "  since/IN\n",
      "  2012/CD\n",
      "  ,/,\n",
      "  and/CC\n",
      "  President/NNP\n",
      "  of/IN\n",
      "  the/DT\n",
      "  (ORGANIZATION People/NNP)\n",
      "  's/POS\n",
      "  (ORGANIZATION Republic/NNP)\n",
      "  of/IN\n",
      "  (GPE China/NNP)\n",
      "  (/(\n",
      "  (ORGANIZATION PRC/NNP)\n",
      "  )/)\n",
      "  since/IN\n",
      "  2013/CD\n",
      "  ./.\n",
      "  He/PRP\n",
      "  has/VBZ\n",
      "  been/VBN\n",
      "  the/DT\n",
      "  paramount/JJ\n",
      "  leader/NN\n",
      "  of/IN\n",
      "  (GPE China/NNP)\n",
      "  ,/,\n",
      "  the/DT\n",
      "  most/RBS\n",
      "  prominent/JJ\n",
      "  political/JJ\n",
      "  leader/NN\n",
      "  in/IN\n",
      "  the/DT\n",
      "  country/NN\n",
      "  ,/,\n",
      "  since/IN\n",
      "  2012/CD\n",
      "  ./.\n",
      "  The/DT\n",
      "  son/NN\n",
      "  of/IN\n",
      "  (GPE Chinese/JJ)\n",
      "  (ORGANIZATION Communist/NNP)\n",
      "  veteran/NN\n",
      "  Xi/NNP\n",
      "  Zhongxun/NNP\n",
      "  ,/,\n",
      "  he/PRP\n",
      "  was/VBD\n",
      "  exiled/VBN\n",
      "  to/TO\n",
      "  rural/JJ\n",
      "  (ORGANIZATION Yanchuan/NNP County/NNP)\n",
      "  as/IN\n",
      "  a/DT\n",
      "  teenager/NN\n",
      "  following/VBG\n",
      "  his/PRP$\n",
      "  father/NN\n",
      "  's/POS\n",
      "  purge/NN\n",
      "  during/IN\n",
      "  the/DT\n",
      "  Cultural/NNP\n",
      "  Revolutionandlived/NNP\n",
      "  in/IN\n",
      "  a/DT\n",
      "  cave/NN\n",
      "  in/IN\n",
      "  the/DT\n",
      "  village/NN\n",
      "  of/IN\n",
      "  (GPE Liangjiahe/NNP)\n",
      "  ,/,\n",
      "  where/WRB\n",
      "  he/PRP\n",
      "  joined/VBD\n",
      "  the/DT\n",
      "  (ORGANIZATION CCP/NNP)\n",
      "  and/CC\n",
      "  worked/VBD\n",
      "  as/IN\n",
      "  the/DT\n",
      "  party/NN\n",
      "  secretary/NN\n",
      "  ./.\n",
      "  ’/NN)\n"
     ]
    }
   ],
   "source": [
    "ne_tree = nltk.ne_chunk(nltk.pos_tag(nltk.word_tokenize(text)))\n",
    "print(ne_tree)"
   ]
  },
  {
   "cell_type": "markdown",
   "metadata": {
    "id": "zKfi6KS9HGAk"
   },
   "source": [
    "## NER with Sapcy\n"
   ]
  },
  {
   "cell_type": "code",
   "execution_count": 10,
   "metadata": {
    "id": "vY6A4DrAGzC9"
   },
   "outputs": [],
   "source": [
    "import spacy\n",
    "from spacy import displacy\n",
    "from collections import Counter\n",
    "from pprint import pprint\n",
    "import en_core_web_sm\n",
    "nlp = en_core_web_sm.load()"
   ]
  },
  {
   "cell_type": "code",
   "execution_count": 11,
   "metadata": {
    "colab": {
     "base_uri": "https://localhost:8080/"
    },
    "id": "JrVC_NbTG1eQ",
    "outputId": "4f109cc0-995c-4297-b8ac-d007e3930fb9"
   },
   "outputs": [
    {
     "name": "stdout",
     "output_type": "stream",
     "text": [
      "[('Xi Jinping', 'PERSON'),\n",
      " ('Chinese', 'NORP'),\n",
      " ('the Chinese Communist Party', 'ORG'),\n",
      " ('CCP', 'ORG'),\n",
      " ('the Central Military Commission', 'ORG'),\n",
      " ('2012', 'DATE'),\n",
      " (\"the People's Republic of China\", 'GPE'),\n",
      " ('PRC', 'GPE'),\n",
      " ('2013', 'DATE'),\n",
      " ('China', 'GPE'),\n",
      " ('2012', 'DATE'),\n",
      " ('Chinese', 'NORP'),\n",
      " ('Communist', 'NORP'),\n",
      " ('Xi Zhongxun', 'PERSON'),\n",
      " ('Yanchuan County', 'GPE'),\n",
      " ('the Cultural Revolutionandlived', 'ORG'),\n",
      " ('Liangjiahe', 'GPE'),\n",
      " ('CCP', 'ORG')]\n"
     ]
    }
   ],
   "source": [
    "doc = nlp(text)\n",
    "pprint([(X.text, X.label_) for X in doc.ents])"
   ]
  },
  {
   "cell_type": "markdown",
   "metadata": {},
   "source": [
    "## Co-reference resolution"
   ]
  },
  {
   "cell_type": "code",
   "execution_count": 20,
   "metadata": {},
   "outputs": [
    {
     "name": "stdout",
     "output_type": "stream",
     "text": [
      "\n",
      "[x] No compatible model found for ''en_coref_sm'' (spaCy v2.3.5).\n",
      "\n"
     ]
    }
   ],
   "source": [
    "!python -m spacy download 'en_coref_lg'"
   ]
  },
  {
   "cell_type": "code",
   "execution_count": 2,
   "metadata": {},
   "outputs": [
    {
     "name": "stderr",
     "output_type": "stream",
     "text": [
      "<frozen importlib._bootstrap>:219: RuntimeWarning: spacy.morphology.Morphology size changed, may indicate binary incompatibility. Expected 104 from C header, got 112 from PyObject\n",
      "<frozen importlib._bootstrap>:219: RuntimeWarning: spacy.vocab.Vocab size changed, may indicate binary incompatibility. Expected 96 from C header, got 112 from PyObject\n",
      "<frozen importlib._bootstrap>:219: RuntimeWarning: spacy.tokens.span.Span size changed, may indicate binary incompatibility. Expected 72 from C header, got 80 from PyObject\n"
     ]
    },
    {
     "data": {
      "text/plain": [
       "<spacy.lang.en.English at 0x18b2a14fc40>"
      ]
     },
     "execution_count": 2,
     "metadata": {},
     "output_type": "execute_result"
    }
   ],
   "source": [
    "import spacy\n",
    "import neuralcoref\n",
    "nlp = spacy.load('en_core_web_sm')\n",
    "neuralcoref.add_to_pipe(nlp)"
   ]
  },
  {
   "cell_type": "code",
   "execution_count": 22,
   "metadata": {},
   "outputs": [],
   "source": [
    "doc = nlp(text)\n",
    "print(doc._.has_coref)\n",
    "print(doc._.coref_clusters)"
   ]
  },
  {
   "cell_type": "markdown",
   "metadata": {
    "id": "FaF3zTlEoqNA"
   },
   "source": [
    "## Lemmetization with TextBlob\n"
   ]
  },
  {
   "cell_type": "code",
   "execution_count": 14,
   "metadata": {
    "id": "Kpn_XrZkPnIy"
   },
   "outputs": [],
   "source": [
    "from textblob import Word \n",
    "import nltk\n",
    "\n",
    "text1 = nltk.word_tokenize(text)\n",
    "  \n",
    "lemme_words=[]\n",
    "\n",
    "# apply lemmatization.\n",
    "for word in text1:\n",
    "   lemme_words.append(Word(word).lemmatize())\n",
    "  "
   ]
  },
  {
   "cell_type": "code",
   "execution_count": 15,
   "metadata": {
    "colab": {
     "base_uri": "https://localhost:8080/"
    },
    "id": "fJG7Q9sGoeFd",
    "outputId": "a5cf43fd-1904-4104-ef48-a364521d728e"
   },
   "outputs": [
    {
     "name": "stdout",
     "output_type": "stream",
     "text": [
      "['Xi', 'Jinping', 'is', 'a', 'Chinese', 'politician', 'who', 'ha', 'served', 'a', 'General', 'Secretary', 'of', 'the', 'Chinese', 'Communist', 'Party', '(', 'CCP', ')', 'and', 'Chairman', 'of', 'the', 'Central', 'Military', 'Commission', '(', 'CMC', ')', 'since', '2012', ',', 'and', 'President', 'of', 'the', 'People', \"'s\", 'Republic', 'of', 'China', '(', 'PRC', ')', 'since', '2013', '.', 'He', 'ha', 'been', 'the', 'paramount', 'leader', 'of', 'China', ',', 'the', 'most', 'prominent', 'political', 'leader', 'in', 'the', 'country', ',', 'since', '2012', '.', 'The', 'son', 'of', 'Chinese', 'Communist', 'veteran', 'Xi', 'Zhongxun', ',', 'he', 'wa', 'exiled', 'to', 'rural', 'Yanchuan', 'County', 'a', 'a', 'teenager', 'following', 'his', 'father', \"'s\", 'purge', 'during', 'the', 'Cultural', 'Revolutionandlived', 'in', 'a', 'cave', 'in', 'the', 'village', 'of', 'Liangjiahe', ',', 'where', 'he', 'joined', 'the', 'CCP', 'and', 'worked', 'a', 'the', 'party', 'secretary', '.', '’']\n"
     ]
    }
   ],
   "source": [
    "print(lemme_words)"
   ]
  },
  {
   "cell_type": "markdown",
   "metadata": {
    "id": "XvywbCxtQNzC"
   },
   "source": [
    "## Parsing using Spacy"
   ]
  },
  {
   "cell_type": "markdown",
   "metadata": {},
   "source": [
    "### Dependency Parsing"
   ]
  },
  {
   "cell_type": "code",
   "execution_count": 16,
   "metadata": {},
   "outputs": [
    {
     "name": "stdout",
     "output_type": "stream",
     "text": [
      "Xi NNP Jinping compound\n",
      "Jinping NNP is nsubj\n",
      "is VBZ is ROOT\n",
      "a DT politician det\n",
      "Chinese JJ politician amod\n",
      "politician NN is attr\n",
      "who WP served nsubj\n",
      "has VBZ served aux\n",
      "served VBN politician relcl\n",
      "as IN served prep\n",
      "General NNP Secretary compound\n",
      "Secretary NNP as pobj\n",
      "of IN Secretary prep\n",
      "the DT Party det\n",
      "Chinese NNP Party compound\n",
      "Communist NNP Party compound\n",
      "Party NNP of pobj\n",
      "( -LRB- Party punct\n",
      "CCP NNP Party appos\n",
      ") -RRB- Party punct\n",
      "and CC Secretary cc\n",
      "Chairman NNP Secretary conj\n",
      "of IN Chairman prep\n",
      "the DT Commission det\n",
      "Central NNP Commission compound\n",
      "Military NNP Commission compound\n",
      "Commission NNP of pobj\n",
      "( -LRB- Commission punct\n",
      "CMC NNP Commission appos\n",
      ") -RRB- Commission punct\n",
      "since IN served prep\n",
      "2012 CD since pobj\n",
      ", , is punct\n",
      "and CC is cc\n",
      "President NNP is conj\n",
      "of IN President prep\n",
      "the DT People det\n",
      "People NNPS Republic poss\n",
      "'s POS People case\n",
      "Republic NNP of pobj\n",
      "of IN Republic prep\n",
      "China NNP of pobj\n",
      "( -LRB- Republic punct\n",
      "PRC NNP Republic appos\n",
      ") -RRB- President punct\n",
      "since IN is prep\n",
      "2013 CD since pobj\n",
      ". . is punct\n",
      "He PRP been nsubj\n",
      "has VBZ been aux\n",
      "been VBN been ROOT\n",
      "the DT leader det\n",
      "paramount JJ leader amod\n",
      "leader NN been attr\n",
      "of IN leader prep\n",
      "China NNP of pobj\n",
      ", , leader punct\n",
      "the DT leader det\n",
      "most RBS prominent advmod\n",
      "prominent JJ leader amod\n",
      "political JJ leader amod\n",
      "leader NN leader appos\n",
      "in IN leader prep\n",
      "the DT country det\n",
      "country NN in pobj\n",
      ", , been punct\n",
      "since IN been prep\n",
      "2012 CD since pobj\n",
      ". . been punct\n",
      "The DT son det\n",
      "son NN was dep\n",
      "of IN son prep\n",
      "Chinese NNP veteran amod\n",
      "Communist NNP veteran amod\n",
      "veteran NN of pobj\n",
      "Xi NNP Zhongxun compound\n",
      "Zhongxun NNP son appos\n",
      ", , was punct\n",
      "he PRP was nsubj\n",
      "was VBD was ROOT\n",
      "exiled VBN was acomp\n",
      "to IN exiled prep\n",
      "rural JJ County amod\n",
      "Yanchuan NNP County compound\n",
      "County NNP to pobj\n",
      "as IN exiled prep\n",
      "a DT teenager det\n",
      "teenager NN as pobj\n",
      "following VBG teenager prep\n",
      "his PRP$ father poss\n",
      "father NN purge poss\n",
      "'s POS father case\n",
      "purge NN following pobj\n",
      "during IN following prep\n",
      "the DT Revolutionandlived det\n",
      "Cultural NNP Revolutionandlived compound\n",
      "Revolutionandlived VBN during pobj\n",
      "in IN Revolutionandlived prep\n",
      "a DT cave det\n",
      "cave NN in pobj\n",
      "in IN cave prep\n",
      "the DT village det\n",
      "village NN in pobj\n",
      "of IN village prep\n",
      "Liangjiahe NNP of pobj\n",
      ", , Liangjiahe punct\n",
      "where WRB joined advmod\n",
      "he PRP joined nsubj\n",
      "joined VBD Liangjiahe relcl\n",
      "the DT CCP det\n",
      "CCP NNP joined dobj\n",
      "and CC joined cc\n",
      "worked VBD joined conj\n",
      "as IN worked prep\n",
      "the DT secretary det\n",
      "party NN secretary compound\n",
      "secretary NN as pobj\n",
      ". . was punct\n",
      "’ '' was punct\n"
     ]
    }
   ],
   "source": [
    "doc=nlp(text)\n",
    "for token in doc:\n",
    "     print(token.text, token.tag_, token.head.text, token.dep_)"
   ]
  },
  {
   "cell_type": "markdown",
   "metadata": {},
   "source": [
    "### Shallow Parsing"
   ]
  },
  {
   "cell_type": "code",
   "execution_count": 17,
   "metadata": {},
   "outputs": [
    {
     "name": "stdout",
     "output_type": "stream",
     "text": [
      "Xi Jinping\n",
      "a Chinese politician\n",
      "who\n",
      "General Secretary\n",
      "the Chinese Communist Party\n",
      "CCP\n",
      "Chairman\n",
      "the Central Military Commission\n",
      "CMC\n",
      "President\n",
      "the People's Republic\n",
      "China\n",
      "PRC\n",
      "He\n",
      "the paramount leader\n",
      "China\n",
      "the most prominent political leader\n",
      "the country\n",
      "Chinese Communist veteran\n",
      "Xi Zhongxun\n",
      "he\n",
      "rural Yanchuan County\n",
      "a teenager\n",
      "his father's purge\n",
      "a cave\n",
      "the village\n",
      "Liangjiahe\n",
      "he\n",
      "the CCP\n",
      "the party secretary\n"
     ]
    }
   ],
   "source": [
    "for chunk in doc.noun_chunks:\n",
    "     print (chunk)"
   ]
  }
 ],
 "metadata": {
  "colab": {
   "name": "KDM_ICP_2a.ipynb",
   "provenance": []
  },
  "kernelspec": {
   "display_name": "Python 3",
   "language": "python",
   "name": "python3"
  },
  "language_info": {
   "codemirror_mode": {
    "name": "ipython",
    "version": 3
   },
   "file_extension": ".py",
   "mimetype": "text/x-python",
   "name": "python",
   "nbconvert_exporter": "python",
   "pygments_lexer": "ipython3",
   "version": "3.8.3"
  }
 },
 "nbformat": 4,
 "nbformat_minor": 1
}
