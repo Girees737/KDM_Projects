{
  "nbformat": 4,
  "nbformat_minor": 0,
  "metadata": {
    "colab": {
      "name": "KDM_ICP_2a.ipynb",
      "provenance": []
    },
    "kernelspec": {
      "name": "python3",
      "display_name": "Python 3"
    }
  },
  "cells": [
    {
      "cell_type": "code",
      "metadata": {
        "id": "zthUYMey80GW"
      },
      "source": [
        "import nltk\r\n",
        "nltk.download('punkt')\r\n",
        "nltk.download('averaged_perceptron_tagger')\r\n",
        "nltk.download('maxent_ne_chunker')\r\n",
        "nltk.download('words')"
      ],
      "execution_count": null,
      "outputs": []
    },
    {
      "cell_type": "code",
      "metadata": {
        "id": "PaS4zBmG82Ch"
      },
      "source": [
        "text=\"Xi Jinping is a Chinese politician who has served as General Secretary of the Chinese Communist Party (CCP) and Chairman of the Central Military Commission (CMC) since 2012, and President of the People's Republic of China (PRC) since 2013. He has been the paramount leader of China, the most prominent political leader in the country, since 2012. The son of Chinese Communist veteran Xi Zhongxun, he was exiled to rural Yanchuan County as a teenager following his father's purge during the Cultural Revolutionandlived in a cave in the village of Liangjiahe, where he joined the CCP and worked as the party secretary.’\""
      ],
      "execution_count": null,
      "outputs": []
    },
    {
      "cell_type": "code",
      "metadata": {
        "id": "RVfxGfRn9V3W"
      },
      "source": [
        "#@title Part-of-speech (POS) tagger\n"
      ],
      "execution_count": null,
      "outputs": []
    },
    {
      "cell_type": "code",
      "metadata": {
        "colab": {
          "base_uri": "https://localhost:8080/"
        },
        "id": "WF8YLPQ49neV",
        "outputId": "ef2f52ef-beb6-4113-db33-11f5758635bc"
      },
      "source": [
        "text1 = nltk.word_tokenize(text)\r\n",
        "sent=nltk.pos_tag(text1)\r\n",
        "print(sent)"
      ],
      "execution_count": null,
      "outputs": [
        {
          "output_type": "stream",
          "text": [
            "[('Xi', 'NN'), ('Jinping', 'NNP'), ('is', 'VBZ'), ('a', 'DT'), ('Chinese', 'JJ'), ('politician', 'NN'), ('who', 'WP'), ('has', 'VBZ'), ('served', 'VBN'), ('as', 'IN'), ('General', 'NNP'), ('Secretary', 'NNP'), ('of', 'IN'), ('the', 'DT'), ('Chinese', 'NNP'), ('Communist', 'NNP'), ('Party', 'NNP'), ('(', '('), ('CCP', 'NNP'), (')', ')'), ('and', 'CC'), ('Chairman', 'NNP'), ('of', 'IN'), ('the', 'DT'), ('Central', 'NNP'), ('Military', 'NNP'), ('Commission', 'NNP'), ('(', '('), ('CMC', 'NNP'), (')', ')'), ('since', 'IN'), ('2012', 'CD'), (',', ','), ('and', 'CC'), ('President', 'NNP'), ('of', 'IN'), ('the', 'DT'), ('People', 'NNP'), (\"'s\", 'POS'), ('Republic', 'NNP'), ('of', 'IN'), ('China', 'NNP'), ('(', '('), ('PRC', 'NNP'), (')', ')'), ('since', 'IN'), ('2013', 'CD'), ('.', '.'), ('He', 'PRP'), ('has', 'VBZ'), ('been', 'VBN'), ('the', 'DT'), ('paramount', 'JJ'), ('leader', 'NN'), ('of', 'IN'), ('China', 'NNP'), (',', ','), ('the', 'DT'), ('most', 'RBS'), ('prominent', 'JJ'), ('political', 'JJ'), ('leader', 'NN'), ('in', 'IN'), ('the', 'DT'), ('country', 'NN'), (',', ','), ('since', 'IN'), ('2012', 'CD'), ('.', '.'), ('The', 'DT'), ('son', 'NN'), ('of', 'IN'), ('Chinese', 'JJ'), ('Communist', 'NNP'), ('veteran', 'NN'), ('Xi', 'NNP'), ('Zhongxun', 'NNP'), (',', ','), ('he', 'PRP'), ('was', 'VBD'), ('exiled', 'VBN'), ('to', 'TO'), ('rural', 'JJ'), ('Yanchuan', 'NNP'), ('County', 'NNP'), ('as', 'IN'), ('a', 'DT'), ('teenager', 'NN'), ('following', 'VBG'), ('his', 'PRP$'), ('father', 'NN'), (\"'s\", 'POS'), ('purge', 'NN'), ('during', 'IN'), ('the', 'DT'), ('Cultural', 'NNP'), ('Revolutionandlived', 'NNP'), ('in', 'IN'), ('a', 'DT'), ('cave', 'NN'), ('in', 'IN'), ('the', 'DT'), ('village', 'NN'), ('of', 'IN'), ('Liangjiahe', 'NNP'), (',', ','), ('where', 'WRB'), ('he', 'PRP'), ('joined', 'VBD'), ('the', 'DT'), ('CCP', 'NNP'), ('and', 'CC'), ('worked', 'VBD'), ('as', 'IN'), ('the', 'DT'), ('party', 'NN'), ('secretary', 'NN'), ('.', '.'), ('’', 'NN')]\n"
          ],
          "name": "stdout"
        }
      ]
    },
    {
      "cell_type": "code",
      "metadata": {
        "id": "SOG15Y4p-aN7"
      },
      "source": [
        "#@title Named Entity Recognition\n"
      ],
      "execution_count": null,
      "outputs": []
    },
    {
      "cell_type": "code",
      "metadata": {
        "colab": {
          "base_uri": "https://localhost:8080/"
        },
        "id": "emmdbCFf-Mv_",
        "outputId": "2caade74-d18f-4322-a072-baf74799e159"
      },
      "source": [
        "# NER using NLTK\r\n",
        "pattern = 'NP: {<DT>?<JJ>*<NN>}'\r\n",
        "cp = nltk.RegexpParser(pattern)\r\n",
        "cs = cp.parse(sent)\r\n",
        "print(cs)\r\n"
      ],
      "execution_count": null,
      "outputs": [
        {
          "output_type": "stream",
          "text": [
            "(S\n",
            "  (NP Xi/NN)\n",
            "  Jinping/NNP\n",
            "  is/VBZ\n",
            "  (NP a/DT Chinese/JJ politician/NN)\n",
            "  who/WP\n",
            "  has/VBZ\n",
            "  served/VBN\n",
            "  as/IN\n",
            "  General/NNP\n",
            "  Secretary/NNP\n",
            "  of/IN\n",
            "  the/DT\n",
            "  Chinese/NNP\n",
            "  Communist/NNP\n",
            "  Party/NNP\n",
            "  (/(\n",
            "  CCP/NNP\n",
            "  )/)\n",
            "  and/CC\n",
            "  Chairman/NNP\n",
            "  of/IN\n",
            "  the/DT\n",
            "  Central/NNP\n",
            "  Military/NNP\n",
            "  Commission/NNP\n",
            "  (/(\n",
            "  CMC/NNP\n",
            "  )/)\n",
            "  since/IN\n",
            "  2012/CD\n",
            "  ,/,\n",
            "  and/CC\n",
            "  President/NNP\n",
            "  of/IN\n",
            "  the/DT\n",
            "  People/NNP\n",
            "  's/POS\n",
            "  Republic/NNP\n",
            "  of/IN\n",
            "  China/NNP\n",
            "  (/(\n",
            "  PRC/NNP\n",
            "  )/)\n",
            "  since/IN\n",
            "  2013/CD\n",
            "  ./.\n",
            "  He/PRP\n",
            "  has/VBZ\n",
            "  been/VBN\n",
            "  (NP the/DT paramount/JJ leader/NN)\n",
            "  of/IN\n",
            "  China/NNP\n",
            "  ,/,\n",
            "  the/DT\n",
            "  most/RBS\n",
            "  (NP prominent/JJ political/JJ leader/NN)\n",
            "  in/IN\n",
            "  (NP the/DT country/NN)\n",
            "  ,/,\n",
            "  since/IN\n",
            "  2012/CD\n",
            "  ./.\n",
            "  (NP The/DT son/NN)\n",
            "  of/IN\n",
            "  Chinese/JJ\n",
            "  Communist/NNP\n",
            "  (NP veteran/NN)\n",
            "  Xi/NNP\n",
            "  Zhongxun/NNP\n",
            "  ,/,\n",
            "  he/PRP\n",
            "  was/VBD\n",
            "  exiled/VBN\n",
            "  to/TO\n",
            "  rural/JJ\n",
            "  Yanchuan/NNP\n",
            "  County/NNP\n",
            "  as/IN\n",
            "  (NP a/DT teenager/NN)\n",
            "  following/VBG\n",
            "  his/PRP$\n",
            "  (NP father/NN)\n",
            "  's/POS\n",
            "  (NP purge/NN)\n",
            "  during/IN\n",
            "  the/DT\n",
            "  Cultural/NNP\n",
            "  Revolutionandlived/NNP\n",
            "  in/IN\n",
            "  (NP a/DT cave/NN)\n",
            "  in/IN\n",
            "  (NP the/DT village/NN)\n",
            "  of/IN\n",
            "  Liangjiahe/NNP\n",
            "  ,/,\n",
            "  where/WRB\n",
            "  he/PRP\n",
            "  joined/VBD\n",
            "  the/DT\n",
            "  CCP/NNP\n",
            "  and/CC\n",
            "  worked/VBD\n",
            "  as/IN\n",
            "  (NP the/DT party/NN)\n",
            "  (NP secretary/NN)\n",
            "  ./.\n",
            "  (NP ’/NN))\n"
          ],
          "name": "stdout"
        }
      ]
    },
    {
      "cell_type": "code",
      "metadata": {
        "colab": {
          "base_uri": "https://localhost:8080/"
        },
        "id": "OgUlOvZVC4eJ",
        "outputId": "2306d4b5-7bc0-4426-d036-22652b0baa14"
      },
      "source": [
        "from nltk.chunk import conlltags2tree, tree2conlltags\r\n",
        "from pprint import pprint\r\n",
        "iob_tagged = tree2conlltags(cs)\r\n",
        "pprint(iob_tagged)"
      ],
      "execution_count": null,
      "outputs": [
        {
          "output_type": "stream",
          "text": [
            "[('Xi', 'NN', 'B-NP'),\n",
            " ('Jinping', 'NNP', 'O'),\n",
            " ('is', 'VBZ', 'O'),\n",
            " ('a', 'DT', 'B-NP'),\n",
            " ('Chinese', 'JJ', 'I-NP'),\n",
            " ('politician', 'NN', 'I-NP'),\n",
            " ('who', 'WP', 'O'),\n",
            " ('has', 'VBZ', 'O'),\n",
            " ('served', 'VBN', 'O'),\n",
            " ('as', 'IN', 'O'),\n",
            " ('General', 'NNP', 'O'),\n",
            " ('Secretary', 'NNP', 'O'),\n",
            " ('of', 'IN', 'O'),\n",
            " ('the', 'DT', 'O'),\n",
            " ('Chinese', 'NNP', 'O'),\n",
            " ('Communist', 'NNP', 'O'),\n",
            " ('Party', 'NNP', 'O'),\n",
            " ('(', '(', 'O'),\n",
            " ('CCP', 'NNP', 'O'),\n",
            " (')', ')', 'O'),\n",
            " ('and', 'CC', 'O'),\n",
            " ('Chairman', 'NNP', 'O'),\n",
            " ('of', 'IN', 'O'),\n",
            " ('the', 'DT', 'O'),\n",
            " ('Central', 'NNP', 'O'),\n",
            " ('Military', 'NNP', 'O'),\n",
            " ('Commission', 'NNP', 'O'),\n",
            " ('(', '(', 'O'),\n",
            " ('CMC', 'NNP', 'O'),\n",
            " (')', ')', 'O'),\n",
            " ('since', 'IN', 'O'),\n",
            " ('2012', 'CD', 'O'),\n",
            " (',', ',', 'O'),\n",
            " ('and', 'CC', 'O'),\n",
            " ('President', 'NNP', 'O'),\n",
            " ('of', 'IN', 'O'),\n",
            " ('the', 'DT', 'O'),\n",
            " ('People', 'NNP', 'O'),\n",
            " (\"'s\", 'POS', 'O'),\n",
            " ('Republic', 'NNP', 'O'),\n",
            " ('of', 'IN', 'O'),\n",
            " ('China', 'NNP', 'O'),\n",
            " ('(', '(', 'O'),\n",
            " ('PRC', 'NNP', 'O'),\n",
            " (')', ')', 'O'),\n",
            " ('since', 'IN', 'O'),\n",
            " ('2013', 'CD', 'O'),\n",
            " ('.', '.', 'O'),\n",
            " ('He', 'PRP', 'O'),\n",
            " ('has', 'VBZ', 'O'),\n",
            " ('been', 'VBN', 'O'),\n",
            " ('the', 'DT', 'B-NP'),\n",
            " ('paramount', 'JJ', 'I-NP'),\n",
            " ('leader', 'NN', 'I-NP'),\n",
            " ('of', 'IN', 'O'),\n",
            " ('China', 'NNP', 'O'),\n",
            " (',', ',', 'O'),\n",
            " ('the', 'DT', 'O'),\n",
            " ('most', 'RBS', 'O'),\n",
            " ('prominent', 'JJ', 'B-NP'),\n",
            " ('political', 'JJ', 'I-NP'),\n",
            " ('leader', 'NN', 'I-NP'),\n",
            " ('in', 'IN', 'O'),\n",
            " ('the', 'DT', 'B-NP'),\n",
            " ('country', 'NN', 'I-NP'),\n",
            " (',', ',', 'O'),\n",
            " ('since', 'IN', 'O'),\n",
            " ('2012', 'CD', 'O'),\n",
            " ('.', '.', 'O'),\n",
            " ('The', 'DT', 'B-NP'),\n",
            " ('son', 'NN', 'I-NP'),\n",
            " ('of', 'IN', 'O'),\n",
            " ('Chinese', 'JJ', 'O'),\n",
            " ('Communist', 'NNP', 'O'),\n",
            " ('veteran', 'NN', 'B-NP'),\n",
            " ('Xi', 'NNP', 'O'),\n",
            " ('Zhongxun', 'NNP', 'O'),\n",
            " (',', ',', 'O'),\n",
            " ('he', 'PRP', 'O'),\n",
            " ('was', 'VBD', 'O'),\n",
            " ('exiled', 'VBN', 'O'),\n",
            " ('to', 'TO', 'O'),\n",
            " ('rural', 'JJ', 'O'),\n",
            " ('Yanchuan', 'NNP', 'O'),\n",
            " ('County', 'NNP', 'O'),\n",
            " ('as', 'IN', 'O'),\n",
            " ('a', 'DT', 'B-NP'),\n",
            " ('teenager', 'NN', 'I-NP'),\n",
            " ('following', 'VBG', 'O'),\n",
            " ('his', 'PRP$', 'O'),\n",
            " ('father', 'NN', 'B-NP'),\n",
            " (\"'s\", 'POS', 'O'),\n",
            " ('purge', 'NN', 'B-NP'),\n",
            " ('during', 'IN', 'O'),\n",
            " ('the', 'DT', 'O'),\n",
            " ('Cultural', 'NNP', 'O'),\n",
            " ('Revolutionandlived', 'NNP', 'O'),\n",
            " ('in', 'IN', 'O'),\n",
            " ('a', 'DT', 'B-NP'),\n",
            " ('cave', 'NN', 'I-NP'),\n",
            " ('in', 'IN', 'O'),\n",
            " ('the', 'DT', 'B-NP'),\n",
            " ('village', 'NN', 'I-NP'),\n",
            " ('of', 'IN', 'O'),\n",
            " ('Liangjiahe', 'NNP', 'O'),\n",
            " (',', ',', 'O'),\n",
            " ('where', 'WRB', 'O'),\n",
            " ('he', 'PRP', 'O'),\n",
            " ('joined', 'VBD', 'O'),\n",
            " ('the', 'DT', 'O'),\n",
            " ('CCP', 'NNP', 'O'),\n",
            " ('and', 'CC', 'O'),\n",
            " ('worked', 'VBD', 'O'),\n",
            " ('as', 'IN', 'O'),\n",
            " ('the', 'DT', 'B-NP'),\n",
            " ('party', 'NN', 'I-NP'),\n",
            " ('secretary', 'NN', 'B-NP'),\n",
            " ('.', '.', 'O'),\n",
            " ('’', 'NN', 'B-NP')]\n"
          ],
          "name": "stdout"
        }
      ]
    },
    {
      "cell_type": "code",
      "metadata": {
        "colab": {
          "base_uri": "https://localhost:8080/"
        },
        "id": "v0jjsAfoDNco",
        "outputId": "83c9c10f-d7fd-45dd-d32e-16712561f486"
      },
      "source": [
        "ne_tree = nltk.ne_chunk(nltk.pos_tag(nltk.word_tokenize(text)))\r\n",
        "print(ne_tree)"
      ],
      "execution_count": null,
      "outputs": [
        {
          "output_type": "stream",
          "text": [
            "(S\n",
            "  Xi/NN\n",
            "  Jinping/NNP\n",
            "  is/VBZ\n",
            "  a/DT\n",
            "  (GPE Chinese/JJ)\n",
            "  politician/NN\n",
            "  who/WP\n",
            "  has/VBZ\n",
            "  served/VBN\n",
            "  as/IN\n",
            "  (ORGANIZATION General/NNP)\n",
            "  Secretary/NNP\n",
            "  of/IN\n",
            "  the/DT\n",
            "  (ORGANIZATION Chinese/NNP)\n",
            "  (ORGANIZATION Communist/NNP Party/NNP)\n",
            "  (/(\n",
            "  (ORGANIZATION CCP/NNP)\n",
            "  )/)\n",
            "  and/CC\n",
            "  Chairman/NNP\n",
            "  of/IN\n",
            "  the/DT\n",
            "  (ORGANIZATION Central/NNP)\n",
            "  Military/NNP\n",
            "  Commission/NNP\n",
            "  (/(\n",
            "  (ORGANIZATION CMC/NNP)\n",
            "  )/)\n",
            "  since/IN\n",
            "  2012/CD\n",
            "  ,/,\n",
            "  and/CC\n",
            "  President/NNP\n",
            "  of/IN\n",
            "  the/DT\n",
            "  (ORGANIZATION People/NNP)\n",
            "  's/POS\n",
            "  (ORGANIZATION Republic/NNP)\n",
            "  of/IN\n",
            "  (GPE China/NNP)\n",
            "  (/(\n",
            "  (ORGANIZATION PRC/NNP)\n",
            "  )/)\n",
            "  since/IN\n",
            "  2013/CD\n",
            "  ./.\n",
            "  He/PRP\n",
            "  has/VBZ\n",
            "  been/VBN\n",
            "  the/DT\n",
            "  paramount/JJ\n",
            "  leader/NN\n",
            "  of/IN\n",
            "  (GPE China/NNP)\n",
            "  ,/,\n",
            "  the/DT\n",
            "  most/RBS\n",
            "  prominent/JJ\n",
            "  political/JJ\n",
            "  leader/NN\n",
            "  in/IN\n",
            "  the/DT\n",
            "  country/NN\n",
            "  ,/,\n",
            "  since/IN\n",
            "  2012/CD\n",
            "  ./.\n",
            "  The/DT\n",
            "  son/NN\n",
            "  of/IN\n",
            "  (GPE Chinese/JJ)\n",
            "  (ORGANIZATION Communist/NNP)\n",
            "  veteran/NN\n",
            "  Xi/NNP\n",
            "  Zhongxun/NNP\n",
            "  ,/,\n",
            "  he/PRP\n",
            "  was/VBD\n",
            "  exiled/VBN\n",
            "  to/TO\n",
            "  rural/JJ\n",
            "  (ORGANIZATION Yanchuan/NNP County/NNP)\n",
            "  as/IN\n",
            "  a/DT\n",
            "  teenager/NN\n",
            "  following/VBG\n",
            "  his/PRP$\n",
            "  father/NN\n",
            "  's/POS\n",
            "  purge/NN\n",
            "  during/IN\n",
            "  the/DT\n",
            "  Cultural/NNP\n",
            "  Revolutionandlived/NNP\n",
            "  in/IN\n",
            "  a/DT\n",
            "  cave/NN\n",
            "  in/IN\n",
            "  the/DT\n",
            "  village/NN\n",
            "  of/IN\n",
            "  (GPE Liangjiahe/NNP)\n",
            "  ,/,\n",
            "  where/WRB\n",
            "  he/PRP\n",
            "  joined/VBD\n",
            "  the/DT\n",
            "  (ORGANIZATION CCP/NNP)\n",
            "  and/CC\n",
            "  worked/VBD\n",
            "  as/IN\n",
            "  the/DT\n",
            "  party/NN\n",
            "  secretary/NN\n",
            "  ./.\n",
            "  ’/NN)\n"
          ],
          "name": "stdout"
        }
      ]
    },
    {
      "cell_type": "code",
      "metadata": {
        "id": "zKfi6KS9HGAk"
      },
      "source": [
        "#@title NER using Spacy\n"
      ],
      "execution_count": null,
      "outputs": []
    },
    {
      "cell_type": "code",
      "metadata": {
        "id": "vY6A4DrAGzC9"
      },
      "source": [
        "import spacy\r\n",
        "from spacy import displacy\r\n",
        "from collections import Counter\r\n",
        "from pprint import pprint\r\n",
        "import en_core_web_sm\r\n",
        "nlp = en_core_web_sm.load()"
      ],
      "execution_count": null,
      "outputs": []
    },
    {
      "cell_type": "code",
      "metadata": {
        "colab": {
          "base_uri": "https://localhost:8080/"
        },
        "id": "JrVC_NbTG1eQ",
        "outputId": "4f109cc0-995c-4297-b8ac-d007e3930fb9"
      },
      "source": [
        "doc = nlp(text)\r\n",
        "pprint([(X.text, X.label_) for X in doc.ents])"
      ],
      "execution_count": null,
      "outputs": [
        {
          "output_type": "stream",
          "text": [
            "[('Xi Jinping', 'PERSON'),\n",
            " ('Chinese', 'NORP'),\n",
            " ('the Chinese Communist Party', 'ORG'),\n",
            " ('CCP', 'ORG'),\n",
            " ('the Central Military Commission', 'ORG'),\n",
            " ('2012', 'DATE'),\n",
            " (\"the People's Republic of China\", 'GPE'),\n",
            " ('PRC', 'GPE'),\n",
            " ('2013', 'DATE'),\n",
            " ('China', 'GPE'),\n",
            " ('2012', 'DATE'),\n",
            " ('Chinese', 'NORP'),\n",
            " ('Communist', 'NORP'),\n",
            " ('Xi Zhongxun', 'PERSON'),\n",
            " ('Yanchuan County', 'GPE'),\n",
            " ('the Cultural Revolutionandlived', 'EVENT'),\n",
            " ('Liangjiahe', 'GPE'),\n",
            " ('CCP', 'ORG')]\n"
          ],
          "name": "stdout"
        }
      ]
    },
    {
      "cell_type": "code",
      "metadata": {
        "id": "FaF3zTlEoqNA"
      },
      "source": [
        "#@title Lemmetization\n"
      ],
      "execution_count": 22,
      "outputs": []
    },
    {
      "cell_type": "code",
      "metadata": {
        "id": "7G-AZLmBQOoo"
      },
      "source": [
        "text=\"Xi Jinping is a Chinese politician who has served as General Secretary of the Chinese Communist Party (CCP) and Chairman of the Central Military Commission (CMC) since 2012, and President of the People's Republic of China (PRC) since 2013. He has been the paramount leader of China, the most prominent political leader in the country, since 2012. The son of Chinese Communist veteran Xi Zhongxun, he was exiled to rural Yanchuan County as a teenager following his father's purge during the Cultural Revolutionandlived in a cave in the village of Liangjiahe, where he joined the CCP and worked as the party secretary.’\""
      ],
      "execution_count": null,
      "outputs": []
    },
    {
      "cell_type": "code",
      "metadata": {
        "id": "Kpn_XrZkPnIy"
      },
      "source": [
        "from textblob import Word \r\n",
        "import nltk\r\n",
        "\r\n",
        "text1 = nltk.word_tokenize(text)\r\n",
        "  \r\n",
        "lemme_words=[]\r\n",
        "\r\n",
        "# apply lemmatization.\r\n",
        "for word in text1:\r\n",
        "   lemme_words.append(Word(word).lemmatize())\r\n",
        "  "
      ],
      "execution_count": 20,
      "outputs": []
    },
    {
      "cell_type": "code",
      "metadata": {
        "colab": {
          "base_uri": "https://localhost:8080/"
        },
        "id": "fJG7Q9sGoeFd",
        "outputId": "a5cf43fd-1904-4104-ef48-a364521d728e"
      },
      "source": [
        "print(lemme_words)"
      ],
      "execution_count": 21,
      "outputs": [
        {
          "output_type": "stream",
          "text": [
            "['Xi', 'Jinping', 'is', 'a', 'Chinese', 'politician', 'who', 'ha', 'served', 'a', 'General', 'Secretary', 'of', 'the', 'Chinese', 'Communist', 'Party', '(', 'CCP', ')', 'and', 'Chairman', 'of', 'the', 'Central', 'Military', 'Commission', '(', 'CMC', ')', 'since', '2012', ',', 'and', 'President', 'of', 'the', 'People', \"'s\", 'Republic', 'of', 'China', '(', 'PRC', ')', 'since', '2013', '.', 'He', 'ha', 'been', 'the', 'paramount', 'leader', 'of', 'China', ',', 'the', 'most', 'prominent', 'political', 'leader', 'in', 'the', 'country', ',', 'since', '2012', '.', 'The', 'son', 'of', 'Chinese', 'Communist', 'veteran', 'Xi', 'Zhongxun', ',', 'he', 'wa', 'exiled', 'to', 'rural', 'Yanchuan', 'County', 'a', 'a', 'teenager', 'following', 'his', 'father', \"'s\", 'purge', 'during', 'the', 'Cultural', 'Revolutionandlived', 'in', 'a', 'cave', 'in', 'the', 'village', 'of', 'Liangjiahe', ',', 'where', 'he', 'joined', 'the', 'CCP', 'and', 'worked', 'a', 'the', 'party', 'secretary', '.', '’']\n"
          ],
          "name": "stdout"
        }
      ]
    },
    {
      "cell_type": "code",
      "metadata": {
        "id": "XvywbCxtQNzC"
      },
      "source": [
        ""
      ],
      "execution_count": null,
      "outputs": []
    }
  ]
}