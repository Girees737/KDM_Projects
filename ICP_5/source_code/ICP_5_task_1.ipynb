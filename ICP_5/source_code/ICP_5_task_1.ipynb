{
  "nbformat": 4,
  "nbformat_minor": 0,
  "metadata": {
    "colab": {
      "name": "Untitled0.ipynb",
      "provenance": []
    },
    "kernelspec": {
      "name": "python3",
      "display_name": "Python 3"
    }
  },
  "cells": [
    {
      "cell_type": "code",
      "metadata": {
        "id": "7cA5k-NCsBmB"
      },
      "source": [
        "import pandas as pd"
      ],
      "execution_count": 1,
      "outputs": []
    },
    {
      "cell_type": "code",
      "metadata": {
        "id": "WaiwgvbgsQl0"
      },
      "source": [
        "f = open(\"./sample_data/Sports.txt\", \"r\",encoding=\"utf8\")\r\n",
        "sports=f.read()\r\n",
        "f = open(\"./sample_data/Sciencu_Tech.txt\", \"r\",encoding=\"utf8\")\r\n",
        "Science_Tech=f.read()\r\n",
        "f = open(\"./sample_data/shopping.txt\", \"r\",encoding=\"utf8\")\r\n",
        "Shopping=f.read()\r\n",
        "f = open(\"./sample_data/Covid.txt\", \"r\",encoding=\"utf8\")\r\n",
        "covid=f.read()\r\n",
        "f = open(\"./sample_data/Entertainment.txt\", \"r\",encoding=\"utf8\")\r\n",
        "Entertainment=f.read()"
      ],
      "execution_count": 3,
      "outputs": []
    },
    {
      "cell_type": "code",
      "metadata": {
        "id": "PBYfaubUsOOZ"
      },
      "source": [
        "df=pd.DataFrame([sports,Science_Tech,Shopping,covid,Entertainment],['sports','Science_Tech','shopping','covid','entertainment']).reset_index()"
      ],
      "execution_count": 4,
      "outputs": []
    },
    {
      "cell_type": "code",
      "metadata": {
        "id": "yw6OiZumspQo"
      },
      "source": [
        "df.columns=[\"Document_Category\",'Documents']"
      ],
      "execution_count": 5,
      "outputs": []
    },
    {
      "cell_type": "code",
      "metadata": {
        "colab": {
          "base_uri": "https://localhost:8080/"
        },
        "id": "WrkSLM6atbX_",
        "outputId": "5349f481-f919-45bd-e58a-7b756df19eae"
      },
      "source": [
        "df['Documents'].to_list()"
      ],
      "execution_count": 6,
      "outputs": [
        {
          "output_type": "execute_result",
          "data": {
            "text/plain": [
              "['The former two-time UFC bantamweight champion is looking to pick up right where he left off and face the winner of the title fight between champion Petr Yan and Aljamain Sterling, which takes place at UFC 259 on March 6.\\n\\nDillashaw (16-4 MMA, 12-4 UFC), who was stripped of his bantamweight title, is coming off a two-year USADA suspension for EPO and has been eligible to compete since January. Though he doesn’t have a fight booked yet, he’s happy to jump straight into a title fight on his return.\\n\\n“I’m ready to go straight for the belt, if that’s the opportunity that comes at me because I know Yan wants it.” Dillashaw told Mike Swick on the “Real Quick with Mike Swick” podcast. “He’s already been vocally talking about it and we’ll see what happens on March 6 when he fights Sterling. He’s got a tough test ahead of him, but that’s the fight he wants. I didn’t leave this sport by losing my belt. He knows there’s a lot of speculation if he’s the real champ because he hasn’t beaten the champion to get that belt, so he wants it. As well as that, I’m the biggest draw for him right now to try to fight.”\\n\\nAetna\\nAffordable access to care\\nSEE MORE\\nAd by AETNA\\n\\nDillashaw said he hopes the fact he’s been out of action for so long will actually play in his favor and, if Yan retains his title on March 6, the former champion is hopeful that Yan will want to face him next.\\n\\n\\nVideo: Curtis Blaydes OK with Jon Jones taking heavyweight title shot _ UFC Fight Night 185.mp4 (SMG)\\n\\nPause\\nCurrent Time 3:32\\n/\\nDuration 10:22\\nUnmute\\n0\\nHQ\\nCaptionsFullscreen\\nCurtis Blaydes OK with Jon Jones taking heavyweight title shot _ UFC Fight Night 185.mp4\\nClick to expand\\n“Maybe he’s thinking me coming back for my first fight might be the best time to catch me as well, too. To try and catch me slipping. But I mean, that’s what I want. The ultimate goal for me is to be the champion. The greatest things come to you when you’re champion, the goal is to be champion, so why not get out there and get it done.”\\n\\nIf Dillashaw doesn’t get the title fight, he’s not short of options. With the likes of Cory Sandhagen and Rob Font both calling him out, the former champion said he’s willing to take out any top-ranked opponent to regain his throne.\\n\\n“I’m in a good situation,” Dillashaw said. “I think everyone in the top five has called me out. I want to come back and fight the best. I’m 35 years old now, I’ve got a lot of things in life going on, so I want to come back and prove that I’m the best bantamweight of all time, and I want to come back and fight the best. If that’s for the belt right away then so be it. If that’s fighting someone else in the top five, awesome.\\n\\n“Every person that’s called me out, I’ve said yes to the UFC, so that’s just showing them that I’m eager to get back in there. So it doesn’t really matter as long as it’s someone that’s at the top of the game, because I’m gonna climb up and get that belt back fast.”',\n",
              " 'After safely landing on the surface of Mars Thursday, NASA\\'s Perseverance rover has sent back a never-before-seen view: what it looks like to land on Mars.\\n\\na close up of an engine: This shot from a camera on Perservance\\'s \"jetpack\" captures the rover in midair, just before its wheels touched down.© JPL-Caltech/NASA This shot from a camera on Perservance\\'s \"jetpack\" captures the rover in midair, just before its wheels touched down.\\nThe rover also returned some beautiful postcards of its landing site.\\n\\nThe first image shared during a NASA press conference Friday was \"exhilarating\" for the team when they received it. It shows the rover nearing the Martian surface during entry, descent and landing. A camera on the descent stage of the spacecraft captured the perspective, something that wasn\\'t possible on previous missions.\\n\\nRocks spotted by the rover have holes in them -- which has the scientists curious to see what would cause them.© JPL-Caltech/NASA Rocks spotted by the rover have holes in them -- which has the scientists curious to see what would cause them.\\n\"This shot from a camera on my \\'jetpack\\' captures me in midair, just before my wheels touched down,\" according to a tweet from the Perseverance Twitter account. \"The moment that my team dreamed of for years, now a reality. Dare mighty things.\"\\n\\na view of a snow covered mountain: This is the first color image released from Perseverance on the Martian surface.© JPL-Caltech/NASA This is the first color image released from Perseverance on the Martian surface.\\nLittle dust plumes can be seen kicking up from the Martian surface, stirred by the engines landing the rover when it was just 6.5 feet above the surface.\\n\\n\"The team is overwhelmed with excitement and joy to have successfully landed another rover on the surface of Mars,\" said Adam Steltzner, the rover\\'s chief engineer. \"When we do such investments, we do them for humanity, and we do them as a gesture of our humanity.\"\\n\\nHiRISE captured this image of Perseverance on its way to the landing site.© JPL-Caltech/NASA HiRISE captured this image of Perseverance on its way to the landing site.\\nSteltzner cited iconic space images from the Apollo mission, like Buzz Aldrin on the surface of the moon, Voyager\\'s first image of Saturn and the Hubble Space Telescope\\'s awe-inspiring \"Pillars of Creation\" photo.\\n\\n\"We can only hope, in our efforts to engineer spacecraft and explore our solar system, that we might be able contribute yet another iconic image to this collection, and I\\'m happy to say that I\\'m hopeful that today we can with this.\"\\n\\nWhile the first images returned by the rover Thursday evening were black and white glimpses showing it safely landed on Mars, color images made available Friday show the characteristic red color of the Martian surface.\\n\\n\"An open horizon, with so much to explore. Can\\'t wait to get going,\" the Perseverance account tweeted.\\n\\nRocks are also seen scattered across the flat surface of the landing site in Jezero Crater, but they\\'re small when compared to the large rover wheels.\\n\\nAnother tweet with the image read, \"I love rocks. Look at these right next to my wheel. Are they volcanic or sedimentary? What story do they tell? Can\\'t wait to find out.\"\\n\\n\\nVideo: NASA shows new images from Mars rover (CNN)\\n\\nPause\\nCurrent Time 0:07\\n/\\nDuration 1:48\\nUnmute\\n0\\nHQ\\nCaptionsFullscreen\\nNASA shows new images from Mars rover\\nClick to expand\\nThe Mars Reconnaissance Orbiter\\'s HiRISE camera, which flew over the landing site as Perseverance was coming in for a landing, captured an incredible view as the spacecraft\\'s parachutes opened.\\n\\n\"The Beauty of Flight! HiRISE captured this image of @NASAPersevere on its way to the landing site from over 700 km (435 mi) away!\" the HiRISE account tweeted.\\n\\n\"If you look below to the little circle, this was our eventual touchdown point,\" said Aaron Stehura, deputy phase lead for entry, descent and landing. \"You can see it\\'s near the river delta that we\\'ve talked about.\"\\n\\nStehura also reflected on the moment the team saw the image of the rover from the perspective of the descent stage.\\n\\n\"This is something that we\\'ve never seen before. It was stunning and the team was awestruck. And, you know, there\\'s just a feeling of victory that we\\'re able to capture these and share them with the world.\"\\n\\nThe teams also shared a little insight about how they celebrated after the landing. Some members of the team enjoyed some ice cream at safe social distances outside, many virtual parties were enjoyed and team members slept the best they have in a long time, knowing Perseverance was safe.\\n\\nWhat\\'s next for the rover\\n\"The rover is doing great and is healthy on the surface of Mars and continues to be highly functional and awesome,\" said Pauline Hwang, strategic mission manager for the rover.\\n\\nThis weekend, the rover will go through some hardware checkouts to make sure everything is working properly, she said. The head, or mast, will unfold and cameras on the mast will capture more images of the rover\\'s surroundings to provide a panorama, as well as a \"selfie\" panorama of the rover.\\n\\nIngenuity, the little helicopter tucked up under the rover, will also go through a checkup. Before the helicopter can begin its series of test flights over a 30-day period, a lot has to happen and it will take time, Hwang said.\\n\\nThe rover will need to drive to a location, called the helipad location, where it can drop the helicopter on the surface of Mars and roll back away from the helicopter. Perseverance will be able to watch and record images and video of these historic flights. Ingenuity also carries two cameras and will be able to share its aerial views.\\n\\nNow that the rover has landed, it can switch over to the software it will need to use while driving on the Martian surface.\\n\\nThe images sent back by the rover will inform the science team \"so that we can actually begin to really start the mission,\" said Hallie Gengl Abarca, the rover\\'s imaging and data processing team lead for surface operations.\\n\\nKatie Stack Morgan, deputy project scientist for the rover, has been helping to lead a team of 450 scientists around the world as they prepare to explore Jezero Crater. Now, they\\'re ready to study these images and plot out a path for the rover to use as it navigates intriguing features of the crater. \\n\\nPerseverance landed about 1.2 miles away from the river delta feature within Jezero Crater, which hosted a lake 3.9 billion years ago. The rover will spend the next two years investigating the crater and delta in the search for evidence of ancient life that may have existed when Mars was a more habitable place.\\n\\nThe rover will explore nearby rocks on the crater floor to determine if they are volcanic basalt or sedimentary rocks and investigate the presence of a mineral called olivine, Morgan said.\\n\\n\"That\\'s a mineral that is very interesting to us, and thoughts are that this could be an explosive ash deposit deposit into Jezero Crater,\" she said. \"On the other hand, we are in a lake basin and these could be lake sediments that we\\'re seeing.\"\\n\\nHoles present in some the rocks visible in images taken by the rover could suggest either gas that escaped the rocks if they were formed from lava, or fluids that dissolved part of the rock if they\\'re sedimentary.\\n\\n\"Between us and the delta, we have a lot of interesting science to do,\" she said. \"As soon as we got that color image from the surface of Mars, our chats lit up with the science team saying \\'look over here\\' and\\' look over here.\\' And that\\'s exactly what we were hoping for it and we can\\'t believe that we\\'re really doing science now on the surface of Mars.\"',\n",
              " 'Down But Not Quite Out\\nThese days, it\\'s hard to scan the headlines without reading about another store that\\'s on the financial ropes. The pandemic has accelerated bankruptcies among retailers, and even before that, many big names were hurting. But that doesn\\'t mean your favorite stores and brands are out of the game forever. Many, like New York\\'s Century 21, are attempting a comeback with new stores. Others sell only online, and still others cling to life as bricks-and-mortar retailers, even if they\\'re a far cry from their former selves. Here are several notable stores and brands that aren\\'t waving a white flag just yet.\\n\\n\\n\\nRelated: 13 Restaurant Chains We Miss\\n\\nCentury 212 / 22\\nwdstock/istockphoto\\nCentury 21\\nTurns out New Yorkers\\' favorite place to score discounted designer duds may not be dead quite yet. Though the chain declared bankruptcy and closed all of its stores in September 2020, the family-run company recently announced it will re-open in South Korea. It\\'s also hoping to relaunch bricks-and-mortar stores in the U.S. \\n\\n\\n\\nRelated: How to Score at Going-Out-of-Business Sales\\n\\n\\nFreestar\\nToys \"R\" Us3 / 22\\nValeStock/shutterstock\\nToys \"R\" Us\\nThis iconic toy store broke the hearts of young and old alike when it filed for bankruptcy in 2017 and liquidated in early 2018. The next year, it announced a comeback attempt and opened two smaller-format U.S. stores, in Texas and New Jersey, but they\\'ve also shut down after not quite a year and a half. Still, the chain is alive and well in Canada, which claims roughly 80 Toys \"R\" Us stores, as well as overseas. It also still sells online.\\n\\n\\n\\nRelated: These Catalogs Defined Shopping for Generations — and Now They\\'re Mostly Gone\\n\\n\\n\\nFor more smart retail coverage, please sign up for our free newsletters. \\n\\nRecommended videosPowered by AnyClip\\n2\\n/\\n5\\n10 Useful Car Features You Probably Didn’t Notice Before\\nRead More\\n\\n\\nAd: (14)\\nSears Closing4 / 22\\nAutumnSkyPhotography/istockphoto\\nSears\\nSears is still around, but if you thought it was already a goner, we can\\'t blame you. The iconic chain is on what can only be described as life support, having endured yet another round of closures in 2021. It\\'s left with around 30 stores, according to Forbes, a stunning number for an American icon that used to dominate every facet of retail and had close to 4,000 locations at its peak. Perhaps the only thing keeping the chain alive: A slow market for commercial real estate that makes the stores tough sell. \\n\\n\\n\\nRelated: Companies That Changed American Culture for Better or Worse\\n\\nPier 1 Imports5 / 22\\nRiverNorthPhotography/istockphoto\\nPier 1 Imports\\nOne of the first major retailer bankruptcies of 2020, Pier 1 was forced to liquidate and close all of its more than 500 stores after it failed to find a buyer willing to keep any of its physical locations open. However, the home-goods brand did eventually attract a buyer, Retail Economic Ventures, willing to fork over millions to give it a go with e-commerce. That means you can still shop Pier 1 online (though those iconic papasans were sadly out of stock when we last checked). \\n\\n\\n\\nRelated: Stores We\\'ll Miss Shopping at This Holiday Season\\n\\nKmart: Extra 10% to 15% Off6 / 22\\nRiverNorthPhotography/istockphoto\\nKmart\\nThe story of this once-proud discounter mirrors that of Sears, which is unsurprising since the chains share an owner. Mostly in the news these days because many of its shuttered locations are hosting COVID-19 vaccination clinics, Kmart is also down to around 30 open stores, according to Retail Dive. \\n\\n\\nFreestar\\nPayless ShoeSource7 / 22\\nTupungato/shutterstock\\nPayless ShoeSource\\nPayless made big waves in early 2019 when it filed for bankruptcy and said it would pull the plug on all of its roughly 2,500 U.S. locations. It was Payless\\' second bankruptcy in two years — but the brand is still operating online and overseas. Its website launched in August 2020, and there are still 700 stores elsewhere, many of them in Central and Latin America. Payless also hopes to relaunch physical stores in the U.S. over the next several years, though it\\'s possible the pandemic may have impacted those plans.\\n\\n\\n\\nRelated: Beloved Businesses We Said Goodbye to This Decade\\n\\nGymboree8 / 22\\nEric Broder Van Dyke/shutterstock\\nGymboree\\nKnown for all things cutesy, classic, and matchy-matchy, this beloved children\\'s apparel retailer filed for bankruptcy at the beginning of 2019 and announced it would close all of its stores. However, one of its major competitors, The Children\\'s Place, soon snapped up the brand, which can still be found online. The Children\\'s Place also sells Gymboree-branded apparel at about 200 of its stores for those still seeking an in-store experience.\\n\\nBrookstone9 / 22\\nanouchka/istockphoto\\nBrookstone\\nThis much-loved purveyor of gadgets and gizmos filed for bankruptcy in 2018, a decision that ultimately led about 100 mall-based stores to close. But you still have options if you really must have that latest neck and back massager: A buyer purchased the brand\\'s more than 30 airport-based stores, and they remain open. Brookstone also maintains a storefront online, and sells select products through Macy\\'s and other retailers.\\n\\nRadioshack10 / 22\\nWolterk/istockphoto\\nRadioShack\\nIt used to be that even in the smallest towns, you could count on a nearby RadioShack for an obscure cable or some cheap headphones. But in 2017, it shut down more than 1,000 remaining company-owned stores and mostly faded into obscurity. Or did it? The brand still has hundreds of authorized dealers across the country, and its products are sold in \"RadioShack Express\" shops inside most HobbyTown stores. Its website is also alive and kicking, selling pocket radios, batteries, and even retro RadioShack T-shirts.\\n\\n\\n\\nRelated: 20 Famous Brands That Refused to Die\\n\\nFao Schwarz Toys11 / 22\\nTennesseePhotographer/istockphoto\\nF.A.O. Schwarz\\nThe tonier counterpart of Toys \"R\" Us, F.A.O. Schwarz declared bankruptcy in 2003 and was actually sold to its rival in 2009. Its famous Fifth Avenue store (where Tom Hanks traipsed across a toy piano in the movie \"Big\") shut down in 2015, but new owners opened another location at Rockefeller Plaza a few years later. F.A.O. Schwarz has also struck lucrative deals with retailers like Target, which carried an exclusive 70-piece line from the brand over the holidays, and its website remains open for business.\\n\\nBarneys, New York City12 / 22\\nMario Tama/Getty Images CC\\nBarneys\\nIn a blow to the Big Apple\\'s well-heeled fashionistas, Barneys filed for bankruptcy in 2019, shortly after announcing that it would liquidate and close its famously luxurious Madison Avenue flagship. But the Barneys name actually lives on — in a store within a store at rival Saks Fifth Avenue. New owner Authentic Brands licensed the Barneys name to Saks, and shoppers can peruse Barneys-branded wares both in person and online.\\n\\n\\n\\nRelated: Iconic Department Stores We Miss\\n\\n\\nFreestar\\nThe Limited13 / 22\\nAlec M./Yelp\\nThe Limited\\nOnce a mall stalwart, this well-known fashion retailer went bankrupt at the beginning of 2017 and closed all of its roughly 250 stores. Though it initially planned to become an e-commerce brand in its own right, that plan was short-lived. Instead, southern department-store chain Belk purchased the brand and re-launched it as a private label. \\n\\n\\n\\nRelated: Dead Fashion Brands We Miss\\n\\nCircuit City14 / 22\\nJustin Sullivan/Getty Images CC\\nCircuit City\\nOnce a formidable competitor with the likes of Best Buy, electronics and appliance brand Circuit City declared bankruptcy in 2008 and closed all of its stores within a year. However, a new owner has re-launched the brand online, and the chain\\'s Canadian relative, The Source (formerly The Source by Circuit City) continues to operate more than 400 stores.\\n\\nLinens N\\' Things15 / 22\\nDavid McNew/Getty Images CC\\nLinens \\'N Things\\nOnce a worthy rival to Bed, Bath & Beyond, Linens \\'N Things filed for bankruptcy back in 2008 and shut down its hundreds of stores through the end of the year. But the company has lived on as an e-commerce retailer, and its latest owner, Retail Economic Ventures, is the same company that resuscitated Pier 1 and RadioShack online. More known brands now in REV\\'s portfolio include Modell\\'s Sporting Goods, Dressbarn, and The Franklin Mint. The company also just acquired Stein Mart.\\n\\nSkymall Magazine16 / 22\\nSkymall Magazine by kelly taylor (CC BY-SA)\\nSkyMall\\nThese zany catalogs used to be as much a part of the in-flight experience as packs of peanuts. Each edition guaranteed at least a half-hour of head-scratching entertainment as airline passengers perused the bafflingly niche items, from floating poker tables to half-scale suits of armor. Sadly, the company went bankrupt in 2015, and while you\\'ll no longer find that familiar flight companion in your seat-back pocket, it continues to hawk plenty of weird items online.\\n\\n\\n\\nThe Sharper Image17 / 22\\nJustin Sullivan/Getty Images CC\\nThe Sharper Image\\nSharper Image stores disappeared after the chain filed for bankruptcy in 2008, and we certainly miss marveling at all the kooky products we never knew we needed, from coin sorters to levitating plants to a golf club drink dispenser. But if you do any shopping at department stores, you might have noticed the brand is still alive and well under new ownership. You can pick up Sharper Image merchandise at the brand\\'s own website, or at stores including Kohl\\'s, JCPenney, and Bed Bath & Beyond.\\n\\n\\n\\nRelated: 25 Most Ridiculous Items Sold at Luxury Retailers\\n\\nBon Ton18 / 22\\nBon Ton by Mike Mozart (CC BY)\\nBon-Ton\\nDepartment stores have had a rough go of it these days, and no chain knows that better than Bon-Ton and its subsidiaries. But Bon-Ton may yet have some life left in it. The iconic brand that operated stores including Carson\\'s, Boston Store, Herberger\\'s and Elder-Beerman declared bankruptcy in 2018 and quickly liquidated, but its new owner re-opened Bon-Ton online. Plans have been in the works for new bricks-and-mortar locations, but the first such store, a Carson\\'s in Illinois, did not last long. \\n\\n\\nFreestar\\nAmerican Apparel19 / 22\\ntupungato/istockphoto\\nAmerican Apparel\\nThis sexy store that \"made domestically produced clothing cool again\" is a shadow of its former self. As Glossy notes, it continues to hang on as an online retailer, but very little appears to be made in the U.S., marking a major shift from the brand\\'s heyday. Gildan, Canadian maker of utilitarian T-shirts and sweatshirts, bought the company in early 2017 after American Apparel\\'s second bankruptcy in little more than a year. Its stores were shut down soon thereafter.\\n\\n\\n\\nRelated: Clothing Brands That are Still Made in America\\n\\nCharlotte Russe20 / 22\\nCharlotte Russe by Phillip Pessar (CC BY)\\nCharlotte Russe\\nLiquidation is often the last stop on the long road of decline for any retailer, but not Charlotte Russe. The trendy women\\'s clothing retailer was a victim of malls\\' increasing unpopularity, filing for bankruptcy in 2019 and liquidating shortly thereafter. But a new owner quickly purchased the brand, relaunched its website, and has since opened more than 100 new locations.\\n\\nCharming Charlie21 / 22\\nCharming Charlie by Mike Mozart (CC BY)\\nCharming Charlie\\nThis popular jewelry and accessories chain was no longer living a charmed life as of mid-2019, when it announced its second bankruptcy filing in two years and said it would close all remaining shops. But the company\\'s founder bought what remained of the company and is giving it another go: The store\\'s website is up and running, and there are now at least seven new stores across the country.\\n\\nCatherine\\'s Plus Sizes22 / 22\\nJoe C./Yelp\\nCatherine\\'s\\nOne of the nation\\'s most well-known plus-size retailers, Catherine\\'s was dealt a major blow when parent company Ascena filed for bankruptcy in 2020. Ascena closed all Catherine\\'s stores as part of its reorganization, choosing to focus on Lane Bryant, Loft, and Ann Taylor instead. All is not lost for Catherine\\'s fans, however. FullBeauty, a company that owns several other plus-size brands, purchased Catherine\\'s and is now operating the store online.',\n",
              " 'Scotland’s vaccination program substantially reduced Covid-19 hospital admissions, according to the results of study released on Monday, offering the strongest real-world signal of the effectiveness of the AstraZeneca-Oxford vaccine that much of the world is relying on to end the pandemic.\\n\\na close up of a woman in glasses looking at the camera: Preparing a dose of the AstraZeneca-Oxford vaccine in Edinburgh this month.© Pool Photo by Jane Barlow, via AFP--Getty Images Preparing a dose of the AstraZeneca-Oxford vaccine in Edinburgh this month.\\nThe study, encompassing both the AstraZeneca and Pfizer-BioNTech vaccines, examined the number of people who were hospitalized after receiving a single dose of the vaccine. Britain has delayed administering the second dose for up to three months after the first, opting to offer more people the partial protection of a single shot.\\n\\n\\nBut the study sounded a cautionary note about how long high protection levels from a single dose would last. The risk of hospitalization dropped starting a week after people received their first shot, reaching a low point four to five weeks after they were vaccinated. But then it appeared to rise again.\\n\\nThe scientists who conducted the study said it was too early to know whether the protection offered by a single dose waned after a month, cautioning that more evidence was needed.\\n\\nThe findings in Scotland bolstered earlier results from Israel showing that the vaccines offered significant protection from the virus. The Israeli studies have focused on the Pfizer vaccine, but the Scottish study extended to the AstraZeneca shot, which has been administered in Britain since early January. The AstraZeneca shot is the backbone of many nations’ inoculation plans: It is far cheaper to produce, and can be shipped and stored in normal refrigerators rather than the ultracold freezers used for other vaccines.\\n\\n“Both of these are working spectacularly well,” Aziz Sheikh, a professor at the University of Edinburgh who was involved in the study, said at a news conference on Monday.\\n\\nThe researchers in Scotland examined roughly 8,000 coronavirus-related hospital admissions, and studied how the risk of hospitalization differed among people who had and had not received a shot. Over all, more than 1.1 million people were vaccinated in the period the researchers were studying.\\n\\nThe numbers of vaccinated people who sought care in hospitals was too small to compare the AstraZeneca and Pfizer vaccines, or to give precise figures for their effectiveness, the researchers said.\\n\\nBut from 28 to 34 days after the first shot, the AstraZeneca vaccine reduced the risk of Covid-19 hospital admissions by roughly 94 percent. In that same time period, the Pfizer vaccine reduced the risk of hospitalizations by roughly 85 percent. In both cases, those figures fit within a broad range of possible effects.\\n\\nBecause the Pfizer vaccine was authorized in Britain before the AstraZeneca shot, the researchers had more data on the Pfizer vaccine, and found that the protection against hospital admissions was somewhat reduced at longer periods after the first shot.\\n\\n“The peak protection is at four weeks, and then it starts to drop away,” said Simon Clarke, a professor in cellular microbiology at the University of Reading who was not involved in the study.\\n\\nThe AstraZeneca vaccine has faced skepticism in parts of Europe after many countries chose not to give it to older people, citing a lack of clinical trial data in that group. The Scottish study could not offer precise figures on that vaccine’s effectiveness in older people. But the combined effect of the AstraZeneca and Pfizer vaccines substantially reduced hospital admissions in people over 80. Many older people were given the AstraZeneca vaccine.',\n",
              " 'Roll out the (virtual) red carpet! The 78th annual Golden Globe Awards might look a little different than previous years due to the coronavirus pandemic, but the night won’t be short of major stars.\\n\\nNBC Entertainment announced in January 2020 that Amy Poehler and Tina Fey would be returning to host the awards show in 2021 after previously teaming up for the gig in 2013, 2014 and 2015.\\n\\n“NBC has long been the home to two of the funniest people on the planet — Tina Fey and Amy Poehler — and we didn’t want to wait any longer to share the great news that they’ll be hosting the Globes once again,” NBC Entertainment Chairman Paul Telegdy said in a statement to Us Weekly at the time, praising the former Saturday Night Live costars, who “have provided Golden Globes viewers with some of the most memorable moments the show has ever seen.”\\n\\nTwo months later, the COVID-19 crisis caused Hollywood to press pause. While the entertainment industry was forced to adapt to a new normal of face masks and social distancing, the global pandemic didn’t keep the Hollywood Foreign Press Association from honoring some of the year’s best performances.\\n\\nNominations were officially announced on February 3, with Netflix’s Mank and The Crown tied for the most nods in film and TV categories, respectively. While some nominees were total shoo-ins — like Hugh Grant in The Undoing and Viola Davis in Ma Rainey’s Black Bottom — others took fans by surprise. When Michaela Coel’s I May Destroy You was overlooked in favor of Lily Collins’ Emily in Paris, awards show devotees weren’t afraid to call out the major snub on social media.\\n\\nDespite facing backlash from TV lovers, Collins was proud of the Netflix series’ big achievements. Along with her Best Television Actress – Musical/Comedy Series nomination, the Darren Star-created show earned a nod for Best Musical/Comedy Series.\\n\\n“Words cannot express how extremely grateful and excited I am to be nominated for my role in Emily in Paris and for the show’s nomination,” the To the Bone actress said in a statement to Us after earning the second Golden Globe nomination of her career. “I’m beyond thrilled the series was recognized and I feel so lucky to be in a category including such incredible women who have kept me laughing and smiling all year long. The greatest gift of playing Emily has been providing a sense of escapism and fun during a time when we all needed it most.”\\n\\nScroll down for all the details on this year’s Golden Globes, from how to watch to who’s being honored']"
            ]
          },
          "metadata": {
            "tags": []
          },
          "execution_count": 6
        }
      ]
    },
    {
      "cell_type": "code",
      "metadata": {
        "id": "aurPp5Ggss0c"
      },
      "source": [
        "from sklearn.feature_extraction.text import TfidfTransformer\r\n",
        "cvec = TfidfTransformer()"
      ],
      "execution_count": 7,
      "outputs": []
    },
    {
      "cell_type": "code",
      "metadata": {
        "id": "hH0_1-kOvo30"
      },
      "source": [
        ">>> from sklearn.feature_extraction.text import TfidfVectorizer\r\n",
        ">>> corpus = [\r\n",
        "...     'The former two-time UFC bantamweight champion is looking to pick up right where he left off and face the winner of the title fight between champion Petr Yan and Aljamain Sterling, which takes place at UFC 259 on March 6.\\n\\nDillashaw (16-4 MMA, 12-4 UFC), who was stripped of his bantamweight title, is coming off a two-year USADA suspension for EPO and has been eligible to compete since January. Though he doesn’t have a fight booked yet, he’s happy to jump straight into a title fight on his return.\\n\\n“I’m ready to go straight for the belt, if that’s the opportunity that comes at me because I know Yan wants it.” Dillashaw told Mike Swick on the “Real Quick with Mike Swick” podcast. “He’s already been vocally talking about it and we’ll see what happens on March 6 when he fights Sterling. He’s got a tough test ahead of him, but that’s the fight he wants.',\r\n",
        "...     \"\"\"After safely landing on the surface of Mars Thursday, NASA's Perseverance rover has sent back a never-before-seen view: what it looks like to land on Mars.\r\n",
        "\r\n",
        "a close up of an engine: This shot from a camera on Perservance's \"jetpack\" captures the rover in midair, just before its wheels touched down.© JPL-Caltech/NASA This shot from a camera on Perservance's \"jetpack\" captures the rover in midair, just before its wheels touched down.\r\n",
        "The rover also returned some beautiful postcards of its landing site.\r\n",
        "\r\n",
        "The first image shared during a NASA press conference Friday was \"exhilarating\" for the team when they received it. It shows the rover nearing the Martian surface during entry, descent and landing. A camera on the descent stage of the spacecraft captured the perspective, something that wasn't possible on previous missions.\r\n",
        "\r\n",
        "Rocks spotted by the rover have holes in them -- which has the scientists curious to see what would cause them.© JPL-Caltech/NASA Rocks spotted by the rover have holes in them -- which has the scientists curious to see what would cause them.\r\n",
        "\"This shot from a camera on my 'jetpack' captures me in midair, just before my wheels touched down,\" according to a tweet from the Perseverance Twitter account. \"The moment that my team dreamed of for years, now a reality. Dare mighty things.\"\r\n",
        "\r\n",
        "a view of a snow covered mountain: This is the first color image released from Perseverance on the Martian surface.© JPL-Caltech/NASA This is the first color image released from Perseverance on the Martian surface.\r\n",
        "Little dust plumes can be seen kicking up from the Martian surface, stirred by the engines landing the rover when it was just 6.5 feet above the surface.\"\"\",\r\n",
        "...     \"\"\"Down But Not Quite Out\r\n",
        "These days, it's hard to scan the headlines without reading about another store that's on the financial ropes. The pandemic has accelerated bankruptcies among retailers, and even before that, many big names were hurting. But that doesn't mean your favorite stores and brands are out of the game forever. Many, like New York's Century 21, are attempting a comeback with new stores. Others sell only online, and still others cling to life as bricks-and-mortar retailers, even if they're a far cry from their former selves. Here are several notable stores and brands that aren't waving a white flag just yet.Related: 13 Restaurant Chains We Miss\r\n",
        "\r\n",
        "Century 212 / 22\r\n",
        "wdstock/istockphoto\r\n",
        "Century 21\r\n",
        "Turns out New Yorkers' favorite place to score discounted designer duds may not be dead quite yet. Though the chain declared bankruptcy and closed all of its stores in September 2020, the family-run company recently announced it will re-open in South Korea. It's also hoping to relaunch bricks-and-mortar stores in the U.S. \r\n",
        "\r\n",
        "\r\n",
        "\r\n",
        "Related: How to Score at Going-Out-of-Business Sales\r\n",
        "\r\n",
        "\r\n",
        "Freestar\r\n",
        "Toys \"R\" Us3 / 22\r\n",
        "ValeStock/shutterstock\r\n",
        "Toys \"R\" Us\r\n",
        "This iconic toy store broke the hearts of young and old alike when it filed for bankruptcy in 2017 and liquidated in early 2018. The next year, it announced a comeback attempt and opened two smaller-format U.S. stores, in Texas and New Jersey, but they've also shut down after not quite a year and a half. Still, the chain is alive and well in Canada, which claims roughly 80 Toys \"R\" Us stores, as well as overseas. It also still sells online.\r\n",
        "\r\n",
        "\r\n",
        "\r\n",
        "Related: These Catalogs Defined Shopping for Generations — and Now They're Mostly Gone\r\n",
        "\r\n",
        "\r\n",
        "\r\n",
        "For more smart retail coverage, please sign up for our free newsletters. \r\n",
        "\r\n",
        "Recommended videosPowered by AnyClip\r\n",
        "2\r\n",
        "/\r\n",
        "5\r\n",
        "10 Useful Car Features You Probably Didn’t Notice Before\r\n",
        "Read More\r\n",
        "\r\n",
        "\r\n",
        "Ad: (14)\r\n",
        "Sears Closing4 / 22\r\n",
        "AutumnSkyPhotography/istockphoto\r\n",
        "Sears\r\n",
        "Sears is still around, but if you thought it was already a goner, we can't blame you. The iconic chain is on what can only be described as life support, having endured yet another round of closures in 2021. It's left with around 30 stores, according to Forbes, a stunning number for an American icon that used to dominate every facet of retail and had close to 4,000 locations at its peak. Perhaps the only thing keeping the chain alive: A slow market for commercial real estate that makes the stores tough sell. \r\n",
        "\r\n",
        "\r\n",
        "\r\n",
        "Related: Companies That Changed American Culture for Better or Worse\r\n",
        "\r\n",
        "Pier 1 Imports5 / 22\r\n",
        "RiverNorthPhotography/istockphoto\r\n",
        "Pier 1 Imports\r\n",
        "One of the first major retailer bankruptcies of 2020, Pier 1 was forced to liquidate and close all of its more than 500 stores after it failed to find a buyer willing to keep any of its physical locations open. However, the home-goods brand did eventually attract a buyer, Retail Economic Ventures, willing to fork over millions to give it a go with e-commerce. That means you can still shop Pier 1 online (though those iconic papasans were sadly out of stock when we last checked). \r\n",
        "\r\n",
        "\r\n",
        "\r\n",
        "Related: Stores We'll Miss Shopping at This Holiday Season\r\n",
        "\r\n",
        "Kmart: Extra 10% to 15% Off6 / 22\r\n",
        "RiverNorthPhotography/istockphoto\r\n",
        "Kmart\r\n",
        "The story of this once-proud discounter mirrors that of Sears, which is unsurprising since the chains share an owner. Mostly in the news these days because many of its shuttered locations are hosting COVID-19 vaccination clinics, Kmart is also down to around 30 open stores, according to Retail Dive. \r\n",
        "\r\n",
        "\r\n",
        "Freestar\r\n",
        "Payless ShoeSource7 / 22\r\n",
        "Tupungato/shutterstock\r\n",
        "Payless ShoeSource\r\n",
        "Payless made big waves in early 2019 when it filed for bankruptcy and said it would pull the plug on all of its roughly 2,500 U.S. locations. It was Payless' second bankruptcy in two years — but the brand is still operating online and overseas. Its website launched in August 2020, and there are still 700 stores elsewhere, many of them in Central and Latin America. Payless also hopes to relaunch physical stores in the U.S. over the next several years, though it's possible the pandemic may have impacted those plans.\r\n",
        "\r\n",
        "\r\n",
        "\r\n",
        "Related: Beloved Businesses We Said Goodbye to This Decade\r\n",
        "\r\n",
        "Gymboree8 / 22\r\n",
        "Eric Broder Van Dyke/shutterstock\r\n",
        "Gymboree\r\n",
        "Known for all things cutesy, classic, and matchy-matchy, this beloved children's apparel retailer filed for bankruptcy at the beginning of 2019 and announced it would close all of its stores. However, one of its major competitors, The Children's Place, soon snapped up the brand, which can still be found online. The Children's Place also sells Gymboree-branded apparel at about 200 of its stores for those still seeking an in-store experience.\r\n",
        "\r\n",
        "Brookstone9 / 22\r\n",
        "anouchka/istockphoto\r\n",
        "Brookstone\r\n",
        "This much-loved purveyor of gadgets and gizmos filed for bankruptcy in 2018, a decision that ultimately led about 100 mall-based stores to close. But you still have options if you really must have that latest neck and back massager: A buyer purchased the brand's more than 30 airport-based stores, and they remain open. Brookstone also maintains a storefront online, and sells select products through Macy's and other retailers.\r\n",
        "\r\n",
        "Radioshack10 / 22\r\n",
        "Wolterk/istockphoto\r\n",
        "RadioShack\r\n",
        "It used to be that even in the smallest towns, you could count on a nearby RadioShack for an obscure cable or some cheap headphones. But in 2017, it shut down more than 1,000 remaining company-owned stores and mostly faded into obscurity. Or did it? The brand still has hundreds of authorized dealers across the country, and its products are sold in \"RadioShack Express\" shops inside most HobbyTown stores. Its website is also alive and kicking, selling pocket radios, batteries, and even retro RadioShack T-shirts.\r\n",
        "\r\n",
        "\r\n",
        "\r\n",
        "Related: 20 Famous Brands That Refused to Die\r\n",
        "\r\n",
        "Fao Schwarz Toys11 / 22\r\n",
        "TennesseePhotographer/istockphoto\r\n",
        "F.A.O. Schwarz\r\n",
        "The tonier counterpart of Toys \"R\" Us, F.A.O. Schwarz declared bankruptcy in 2003 and was actually sold to its rival in 2009. Its famous Fifth Avenue store (where Tom Hanks traipsed across a toy piano in the movie \"Big\") shut down in 2015, but new owners opened another location at Rockefeller Plaza a few years later. F.A.O. Schwarz has also struck lucrative deals with retailers like Target, which carried an exclusive 70-piece line from the brand over the holidays, and its website remains open for business.\r\n",
        "\r\n",
        "Barneys, New York City12 / 22\r\n",
        "Mario Tama/Getty Images CC\r\n",
        "Barneys\r\n",
        "In a blow to the Big Apple's well-heeled fashionistas, Barneys filed for bankruptcy in 2019, shortly after announcing that it would liquidate and close its famously luxurious Madison Avenue flagship. But the Barneys name actually lives on — in a store within a store at rival Saks Fifth Avenue. New owner Authentic Brands licensed the Barneys name to Saks, and shoppers can peruse Barneys-branded wares both in person and online.\r\n",
        "\r\n",
        "\r\n",
        "\r\n",
        "Related: Iconic Department Stores We Miss\r\n",
        "\r\n",
        "\r\n",
        "Freestar\r\n",
        "The Limited13 / 22\r\n",
        "Alec M./Yelp\r\n",
        "The Limited\r\n",
        "Once a mall stalwart, this well-known fashion retailer went bankrupt at the beginning of 2017 and closed all of its roughly 250 stores. Though it initially planned to become an e-commerce brand in its own right, that plan was short-lived. Instead, southern department-store chain Belk purchased the brand and re-launched it as a private label. \r\n",
        "\r\n",
        "\r\n",
        "\r\n",
        "Related: Dead Fashion Brands We Miss\r\n",
        "\r\n",
        "Circuit City14 / 22\r\n",
        "Justin Sullivan/Getty Images CC\r\n",
        "Circuit City\r\n",
        "Once a formidable competitor with the likes of Best Buy, electronics and appliance brand Circuit City declared bankruptcy in 2008 and closed all of its stores within a year. However, a new owner has re-launched the brand online, and the chain's Canadian relative, The Source (formerly The Source by Circuit City) continues to operate more than 400 stores.\r\n",
        "\r\n",
        "Linens N' Things15 / 22\r\n",
        "David McNew/Getty Images CC\r\n",
        "Linens 'N Things\r\n",
        "Once a worthy rival to Bed, Bath & Beyond, Linens 'N Things filed for bankruptcy back in 2008 and shut down its hundreds of stores through the end of the year. But the company has lived on as an e-commerce retailer, and its latest owner, Retail Economic Ventures, is the same company that resuscitated Pier 1 and RadioShack online. More known brands now in REV's portfolio include Modell's Sporting Goods, Dressbarn, and The Franklin Mint. The company also just acquired Stein Mart.\r\n",
        "\r\n",
        "Skymall Magazine16 / 22\r\n",
        "Skymall Magazine by kelly taylor (CC BY-SA)\r\n",
        "SkyMall\r\n",
        "These zany catalogs used to be as much a part of the in-flight experience as packs of peanuts. Each edition guaranteed at least a half-hour of head-scratching entertainment as airline passengers perused the bafflingly niche items, from floating poker tables to half-scale suits of armor. Sadly, the company went bankrupt in 2015, and while you'll no longer find that familiar flight companion in your seat-back pocket, it continues to hawk plenty of weird items online.\r\n",
        "\r\n",
        "\r\n",
        "\r\n",
        "The Sharper Image17 / 22\r\n",
        "Justin Sullivan/Getty Images CC\r\n",
        "The Sharper Image\r\n",
        "Sharper Image stores disappeared after the chain filed for bankruptcy in 2008, and we certainly miss marveling at all the kooky products we never knew we needed, from coin sorters to levitating plants to a golf club drink dispenser. But if you do any shopping at department stores, you might have noticed the brand is still alive and well under new ownership. You can pick up Sharper Image merchandise at the brand's own website, or at stores including Kohl's, JCPenney, and Bed Bath & Beyond.\r\n",
        "\r\n",
        "\r\n",
        "\r\n",
        "Related: 25 Most Ridiculous Items Sold at Luxury Retailers\r\n",
        "\r\n",
        "Bon Ton18 / 22\r\n",
        "Bon Ton by Mike Mozart (CC BY)\r\n",
        "Bon-Ton\r\n",
        "Department stores have had a rough go of it these days, and no chain knows that better than Bon-Ton and its subsidiaries. But Bon-Ton may yet have some life left in it. The iconic brand that operated stores including Carson's, Boston Store, Herberger's and Elder-Beerman declared bankruptcy in 2018 and quickly liquidated, but its new owner re-opened Bon-Ton online. Plans have been in the works for new bricks-and-mortar locations, but the first such store, a Carson's in Illinois, did not last long. \r\n",
        "\r\n",
        "\r\n",
        "Freestar\r\n",
        "American Apparel19 / 22\r\n",
        "tupungato/istockphoto\r\n",
        "American Apparel\r\n",
        "This sexy store that \"made domestically produced clothing cool again\" is a shadow of its former self. As Glossy notes, it continues to hang on as an online retailer, but very little appears to be made in the U.S., marking a major shift from the brand's heyday. Gildan, Canadian maker of utilitarian T-shirts and sweatshirts, bought the company in early 2017 after American Apparel's second bankruptcy in little more than a year. Its stores were shut down soon thereafter.\r\n",
        "\r\n",
        "\r\n",
        "\r\n",
        "Related: Clothing Brands That are Still Made in America\r\n",
        "\r\n",
        "Charlotte Russe20 / 22\r\n",
        "Charlotte Russe by Phillip Pessar (CC BY)\r\n",
        "Charlotte Russe\r\n",
        "Liquidation is often the last stop on the long road of decline for any retailer, but not Charlotte Russe. The trendy women's clothing retailer was a victim of malls' increasing unpopularity, filing for bankruptcy in 2019 and liquidating shortly thereafter. But a new owner quickly purchased the brand, relaunched its website, and has since opened more than 100 new locations.\r\n",
        "\r\n",
        "Charming Charlie21 / 22\r\n",
        "Charming Charlie by Mike Mozart (CC BY)\r\n",
        "Charming Charlie\r\n",
        "This popular jewelry and accessories chain was no longer living a charmed life as of mid-2019, when it announced its second bankruptcy filing in two years and said it would close all remaining shops. But the company's founder bought what remained of the company and is giving it another go: The store's website is up and running, and there are now at least seven new stores across the country.\r\n",
        "\r\n",
        "Catherine's Plus Sizes22 / 22\r\n",
        "Joe C./Yelp\r\n",
        "Catherine's\r\n",
        "One of the nation's most well-known plus-size retailers, Catherine's was dealt a major blow when parent company Ascena filed for bankruptcy in 2020. Ascena closed all Catherine's stores as part of its reorganization, choosing to focus on Lane Bryant, Loft, and Ann Taylor instead. All is not lost for Catherine's fans, however. FullBeauty, a company that owns several other plus-size brands, purchased Catherine's and is now operating the store online.\"\"\",\r\n",
        "... \"\"\"Roll out the (virtual) red carpet! The 78th annual Golden Globe Awards might look a little different than previous years due to the coronavirus pandemic, but the night won’t be short of major stars.\r\n",
        "\r\n",
        "NBC Entertainment announced in January 2020 that Amy Poehler and Tina Fey would be returning to host the awards show in 2021 after previously teaming up for the gig in 2013, 2014 and 2015.\r\n",
        "\r\n",
        "“NBC has long been the home to two of the funniest people on the planet — Tina Fey and Amy Poehler — and we didn’t want to wait any longer to share the great news that they’ll be hosting the Globes once again,” NBC Entertainment Chairman Paul Telegdy said in a statement to Us Weekly at the time, praising the former Saturday Night Live costars, who “have provided Golden Globes viewers with some of the most memorable moments the show has ever seen.”\r\n",
        "\r\n",
        "Two months later, the COVID-19 crisis caused Hollywood to press pause. While the entertainment industry was forced to adapt to a new normal of face masks and social distancing, the global pandemic didn’t keep the Hollywood Foreign Press Association from honoring some of the year’s best performances.\r\n",
        "\r\n",
        "Nominations were officially announced on February 3, with Netflix’s Mank and The Crown tied for the most nods in film and TV categories, respectively. While some nominees were total shoo-ins — like Hugh Grant in The Undoing and Viola Davis in Ma Rainey’s Black Bottom — others took fans by surprise. When Michaela Coel’s I May Destroy You was overlooked in favor of Lily Collins’ Emily in Paris, awards show devotees weren’t afraid to call out the major snub on social media.\r\n",
        "\r\n",
        "Despite facing backlash from TV lovers, Collins was proud of the Netflix series’ big achievements. Along with her Best Television Actress – Musical/Comedy Series nomination, the Darren Star-created show earned a nod for Best Musical/Comedy Series.\r\n",
        "\r\n",
        "“Words cannot express how extremely grateful and excited I am to be nominated for my role in Emily in Paris and for the show’s nomination,” the To the Bone actress said in a statement to Us after earning the second Golden Globe nomination of her career. “I’m beyond thrilled the series was recognized and I feel so lucky to be in a category including such incredible women who have kept me laughing and smiling all year long. The greatest gift of playing Emily has been providing a sense of escapism and fun during a time when we all needed it most.”\r\n",
        "\r\n",
        "Scroll down for all the details on this year’s Golden Globes, from how to watch to who’s being honored\"\"\",\r\n",
        "... ]\r\n",
        ">>> vectorizer = TfidfVectorizer(stop_words='english')\r\n",
        ">>> X = vectorizer.fit_transform(corpus)"
      ],
      "execution_count": 8,
      "outputs": []
    },
    {
      "cell_type": "code",
      "metadata": {
        "colab": {
          "base_uri": "https://localhost:8080/"
        },
        "id": "6wi7iGRls8fp",
        "outputId": "61f0918f-7685-40a3-be91-fcb0b633d8ed"
      },
      "source": [
        "print(vectorizer.get_feature_names())"
      ],
      "execution_count": 9,
      "outputs": [
        {
          "output_type": "stream",
          "text": [
            "['000', '10', '100', '12', '13', '14', '15', '16', '19', '20', '200', '2003', '2008', '2009', '2013', '2014', '2015', '2017', '2018', '2019', '2020', '2021', '21', '212', '22', '25', '250', '259', '30', '400', '500', '70', '700', '78th', '80', 'accelerated', 'accessories', 'according', 'account', 'achievements', 'acquired', 'actress', 'actually', 'ad', 'adapt', 'afraid', 'ahead', 'airline', 'airport', 'alec', 'alike', 'alive', 'aljamain', 'america', 'american', 'amy', 'ann', 'announced', 'announcing', 'annual', 'anouchka', 'anyclip', 'apparel', 'apparel19', 'appears', 'apple', 'appliance', 'aren', 'armor', 'ascena', 'association', 'attempt', 'attempting', 'attract', 'august', 'authentic', 'authorized', 'autumnskyphotography', 'avenue', 'awards', 'backlash', 'bafflingly', 'bankrupt', 'bankruptcies', 'bankruptcy', 'bantamweight', 'barneys', 'based', 'bath', 'batteries', 'beautiful', 'bed', 'beerman', 'beginning', 'belk', 'beloved', 'belt', 'best', 'better', 'big', 'black', 'blame', 'blow', 'bon', 'bone', 'booked', 'boston', 'bought', 'brand', 'branded', 'brands', 'bricks', 'broder', 'broke', 'brookstone', 'brookstone9', 'bryant', 'business', 'businesses', 'buy', 'buyer', 'cable', 'caltech', 'camera', 'canada', 'canadian', 'captured', 'captures', 'car', 'career', 'carpet', 'carried', 'carson', 'catalogs', 'categories', 'category', 'catherine', 'cause', 'caused', 'cc', 'central', 'century', 'certainly', 'chain', 'chains', 'chairman', 'champion', 'changed', 'charlie', 'charlie21', 'charlotte', 'charmed', 'charming', 'cheap', 'checked', 'children', 'choosing', 'circuit', 'city', 'city12', 'city14', 'claims', 'classic', 'cling', 'clinics', 'close', 'closed', 'closing4', 'closures', 'clothing', 'club', 'coel', 'coin', 'collins', 'color', 'comeback', 'comedy', 'comes', 'coming', 'commerce', 'commercial', 'companies', 'companion', 'company', 'compete', 'competitor', 'competitors', 'conference', 'continues', 'cool', 'coronavirus', 'costars', 'count', 'counterpart', 'country', 'coverage', 'covered', 'covid', 'created', 'crisis', 'crown', 'culture', 'curious', 'cutesy', 'dare', 'darren', 'david', 'davis', 'days', 'dead', 'dealers', 'deals', 'dealt', 'decade', 'decision', 'declared', 'decline', 'defined', 'department', 'descent', 'described', 'designer', 'despite', 'destroy', 'details', 'devotees', 'did', 'didn', 'die', 'different', 'dillashaw', 'disappeared', 'discounted', 'discounter', 'dispenser', 'distancing', 'dive', 'doesn', 'domestically', 'dominate', 'dreamed', 'dressbarn', 'drink', 'duds', 'dust', 'dyke', 'early', 'earned', 'earning', 'economic', 'edition', 'elder', 'electronics', 'eligible', 'emily', 'end', 'endured', 'engine', 'engines', 'entertainment', 'entry', 'epo', 'eric', 'escapism', 'estate', 'eventually', 'excited', 'exclusive', 'exhilarating', 'experience', 'express', 'extra', 'extremely', 'face', 'facet', 'facing', 'faded', 'failed', 'familiar', 'family', 'famous', 'famously', 'fans', 'fao', 'far', 'fashion', 'fashionistas', 'favor', 'favorite', 'features', 'february', 'feel', 'feet', 'fey', 'fifth', 'fight', 'fights', 'filed', 'filing', 'film', 'financial', 'flag', 'flagship', 'flight', 'floating', 'focus', 'forbes', 'forced', 'foreign', 'forever', 'fork', 'format', 'formidable', 'founder', 'franklin', 'free', 'freestar', 'friday', 'fullbeauty', 'fun', 'funniest', 'gadgets', 'game', 'generations', 'getty', 'gift', 'gig', 'gildan', 'giving', 'gizmos', 'global', 'globe', 'globes', 'glossy', 'going', 'golden', 'golf', 'gone', 'goner', 'goodbye', 'goods', 'got', 'grant', 'grateful', 'great', 'greatest', 'guaranteed', 'gymboree', 'gymboree8', 'half', 'hang', 'hanks', 'happens', 'happy', 'hard', 'having', 'hawk', 'head', 'headlines', 'headphones', 'hearts', 'heeled', 'herberger', 'heyday', 'hobbytown', 'holes', 'holiday', 'holidays', 'hollywood', 'home', 'honored', 'honoring', 'hopes', 'hoping', 'host', 'hosting', 'hour', 'hugh', 'hundreds', 'hurting', 'icon', 'iconic', 'illinois', 'image', 'image17', 'images', 'impacted', 'imports', 'imports5', 'include', 'including', 'increasing', 'incredible', 'industry', 'initially', 'ins', 'inside', 'instead', 'istockphoto', 'items', 'january', 'jcpenney', 'jersey', 'jetpack', 'jewelry', 'joe', 'jpl', 'jump', 'just', 'justin', 'keeping', 'kelly', 'kept', 'kicking', 'kmart', 'knew', 'know', 'known', 'knows', 'kohl', 'kooky', 'korea', 'label', 'land', 'landing', 'lane', 'later', 'latest', 'latin', 'laughing', 'launched', 'led', 'left', 'levitating', 'licensed', 'life', 'like', 'likes', 'lily', 'limited', 'limited13', 'line', 'linens', 'liquidate', 'liquidated', 'liquidating', 'liquidation', 'little', 'live', 'lived', 'lives', 'living', 'll', 'location', 'locations', 'loft', 'long', 'longer', 'look', 'looking', 'looks', 'lost', 'loved', 'lovers', 'lucky', 'lucrative', 'luxurious', 'luxury', 'ma', 'macy', 'madison', 'magazine', 'magazine16', 'maintains', 'major', 'maker', 'makes', 'mall', 'malls', 'mank', 'march', 'mario', 'market', 'marking', 'mars', 'mart', 'martian', 'marveling', 'masks', 'massager', 'matchy', 'mcnew', 'mean', 'means', 'media', 'memorable', 'merchandise', 'michaela', 'mid', 'midair', 'mighty', 'mike', 'millions', 'mint', 'mirrors', 'miss', 'missions', 'mma', 'modell', 'moment', 'moments', 'months', 'mortar', 'mountain', 'movie', 'mozart', 'musical', 'names', 'nasa', 'nation', 'nbc', 'nearby', 'nearing', 'neck', 'needed', 'netflix', 'new', 'news', 'newsletters', 'niche', 'night', 'nod', 'nods', 'nominated', 'nomination', 'nominations', 'nominees', 'normal', 'notable', 'notes', 'notice', 'noticed', 'number', 'obscure', 'obscurity', 'off6', 'officially', 'old', 'online', 'open', 'opened', 'operate', 'operated', 'operating', 'opportunity', 'options', 'overlooked', 'overseas', 'owned', 'owner', 'owners', 'ownership', 'owns', 'packs', 'pandemic', 'papasans', 'parent', 'paris', 'passengers', 'paul', 'pause', 'payless', 'peak', 'peanuts', 'people', 'performances', 'perservance', 'perseverance', 'person', 'perspective', 'peruse', 'perused', 'pessar', 'petr', 'phillip', 'physical', 'piano', 'pick', 'piece', 'pier', 'place', 'plan', 'planet', 'planned', 'plans', 'plants', 'playing', 'plaza', 'plenty', 'plug', 'plumes', 'plus', 'pocket', 'podcast', 'poehler', 'poker', 'popular', 'portfolio', 'possible', 'postcards', 'praising', 'press', 'previous', 'previously', 'private', 'probably', 'produced', 'products', 'proud', 'provided', 'providing', 'pull', 'purchased', 'purveyor', 'quick', 'quickly', 'quite', 'radios', 'radioshack', 'radioshack10', 'rainey', 'read', 'reading', 'ready', 'real', 'reality', 'really', 'received', 'recently', 'recognized', 'recommended', 'red', 'refused', 'related', 'relative', 'relaunch', 'relaunched', 'released', 'remain', 'remained', 'remaining', 'remains', 'reorganization', 'respectively', 'restaurant', 'resuscitated', 'retail', 'retailer', 'retailers', 'retro', 'return', 'returned', 'returning', 'rev', 'ridiculous', 'right', 'rival', 'rivernorthphotography', 'road', 'rockefeller', 'rocks', 'role', 'roll', 'ropes', 'rough', 'roughly', 'round', 'rover', 'run', 'running', 'russe', 'russe20', 'sa', 'sadly', 'safely', 'said', 'saks', 'sales', 'saturday', 'scale', 'scan', 'schwarz', 'scientists', 'score', 'scratching', 'scroll', 'sears', 'season', 'seat', 'second', 'seeking', 'seen', 'select', 'self', 'sell', 'selling', 'sells', 'selves', 'sense', 'sent', 'september', 'series', 'seven', 'sexy', 'shadow', 'share', 'shared', 'sharper', 'shift', 'shirts', 'shoesource', 'shoesource7', 'shoo', 'shop', 'shoppers', 'shopping', 'shops', 'short', 'shortly', 'shot', 'shows', 'shut', 'shuttered', 'shutterstock', 'sign', 'site', 'size', 'sizes22', 'skymall', 'slow', 'smaller', 'smallest', 'smart', 'smiling', 'snapped', 'snow', 'snub', 'social', 'sold', 'soon', 'sorters', 'source', 'south', 'southern', 'spacecraft', 'sporting', 'spotted', 'stage', 'stalwart', 'star', 'stars', 'statement', 'stein', 'sterling', 'stirred', 'stock', 'stop', 'store', 'storefront', 'stores', 'story', 'straight', 'stripped', 'struck', 'stunning', 'subsidiaries', 'suits', 'sullivan', 'support', 'surface', 'surprise', 'suspension', 'sweatshirts', 'swick', 'tables', 'takes', 'talking', 'tama', 'target', 'taylor', 'team', 'teaming', 'telegdy', 'television', 'tennesseephotographer', 'test', 'texas', 'thing', 'things', 'things15', 'thought', 'thrilled', 'thursday', 'tied', 'time', 'tina', 'title', 'told', 'tom', 'ton', 'ton18', 'tonier', 'took', 'total', 'touched', 'tough', 'towns', 'toy', 'toys', 'toys11', 'traipsed', 'trendy', 'tupungato', 'turns', 'tv', 'tweet', 'twitter', 'ufc', 'ultimately', 'undoing', 'unpopularity', 'unsurprising', 'us3', 'usada', 'used', 'useful', 'utilitarian', 'vaccination', 'valestock', 'van', 've', 'ventures', 'victim', 'videospowered', 'view', 'viewers', 'viola', 'virtual', 'vocally', 'wait', 'want', 'wants', 'wares', 'wasn', 'watch', 'waves', 'waving', 'wdstock', 'website', 'weekly', 'weird', 'went', 'weren', 'wheels', 'white', 'willing', 'winner', 'wolterk', 'women', 'won', 'words', 'works', 'worse', 'worthy', 'yan', 'year', 'years', 'yelp', 'york', 'yorkers', 'young', 'zany']\n"
          ],
          "name": "stdout"
        }
      ]
    },
    {
      "cell_type": "code",
      "metadata": {
        "id": "iL7DenHW0b6k"
      },
      "source": [
        "col=vectorizer.get_feature_names()"
      ],
      "execution_count": 10,
      "outputs": []
    },
    {
      "cell_type": "code",
      "metadata": {
        "id": "bHhIWvhSz7O0"
      },
      "source": [
        "TFIDF=pd.DataFrame(X.toarray(),columns=col)"
      ],
      "execution_count": 11,
      "outputs": []
    },
    {
      "cell_type": "code",
      "metadata": {
        "colab": {
          "base_uri": "https://localhost:8080/",
          "height": 402
        },
        "id": "alhqHtdA1MFd",
        "outputId": "8fd292aa-39d6-44cf-eb92-76226c2c0ab0"
      },
      "source": [
        "TFIDF.transpose()"
      ],
      "execution_count": 13,
      "outputs": [
        {
          "output_type": "execute_result",
          "data": {
            "text/html": [
              "<div>\n",
              "<style scoped>\n",
              "    .dataframe tbody tr th:only-of-type {\n",
              "        vertical-align: middle;\n",
              "    }\n",
              "\n",
              "    .dataframe tbody tr th {\n",
              "        vertical-align: top;\n",
              "    }\n",
              "\n",
              "    .dataframe thead th {\n",
              "        text-align: right;\n",
              "    }\n",
              "</style>\n",
              "<table border=\"1\" class=\"dataframe\">\n",
              "  <thead>\n",
              "    <tr style=\"text-align: right;\">\n",
              "      <th></th>\n",
              "      <th>0</th>\n",
              "      <th>1</th>\n",
              "      <th>2</th>\n",
              "      <th>3</th>\n",
              "    </tr>\n",
              "  </thead>\n",
              "  <tbody>\n",
              "    <tr>\n",
              "      <th>000</th>\n",
              "      <td>0.000000</td>\n",
              "      <td>0.0</td>\n",
              "      <td>0.028090</td>\n",
              "      <td>0.0</td>\n",
              "    </tr>\n",
              "    <tr>\n",
              "      <th>10</th>\n",
              "      <td>0.000000</td>\n",
              "      <td>0.0</td>\n",
              "      <td>0.028090</td>\n",
              "      <td>0.0</td>\n",
              "    </tr>\n",
              "    <tr>\n",
              "      <th>100</th>\n",
              "      <td>0.000000</td>\n",
              "      <td>0.0</td>\n",
              "      <td>0.028090</td>\n",
              "      <td>0.0</td>\n",
              "    </tr>\n",
              "    <tr>\n",
              "      <th>12</th>\n",
              "      <td>0.093447</td>\n",
              "      <td>0.0</td>\n",
              "      <td>0.000000</td>\n",
              "      <td>0.0</td>\n",
              "    </tr>\n",
              "    <tr>\n",
              "      <th>13</th>\n",
              "      <td>0.000000</td>\n",
              "      <td>0.0</td>\n",
              "      <td>0.014045</td>\n",
              "      <td>0.0</td>\n",
              "    </tr>\n",
              "    <tr>\n",
              "      <th>...</th>\n",
              "      <td>...</td>\n",
              "      <td>...</td>\n",
              "      <td>...</td>\n",
              "      <td>...</td>\n",
              "    </tr>\n",
              "    <tr>\n",
              "      <th>yelp</th>\n",
              "      <td>0.000000</td>\n",
              "      <td>0.0</td>\n",
              "      <td>0.028090</td>\n",
              "      <td>0.0</td>\n",
              "    </tr>\n",
              "    <tr>\n",
              "      <th>york</th>\n",
              "      <td>0.000000</td>\n",
              "      <td>0.0</td>\n",
              "      <td>0.028090</td>\n",
              "      <td>0.0</td>\n",
              "    </tr>\n",
              "    <tr>\n",
              "      <th>yorkers</th>\n",
              "      <td>0.000000</td>\n",
              "      <td>0.0</td>\n",
              "      <td>0.014045</td>\n",
              "      <td>0.0</td>\n",
              "    </tr>\n",
              "    <tr>\n",
              "      <th>young</th>\n",
              "      <td>0.000000</td>\n",
              "      <td>0.0</td>\n",
              "      <td>0.014045</td>\n",
              "      <td>0.0</td>\n",
              "    </tr>\n",
              "    <tr>\n",
              "      <th>zany</th>\n",
              "      <td>0.000000</td>\n",
              "      <td>0.0</td>\n",
              "      <td>0.014045</td>\n",
              "      <td>0.0</td>\n",
              "    </tr>\n",
              "  </tbody>\n",
              "</table>\n",
              "<p>882 rows × 4 columns</p>\n",
              "</div>"
            ],
            "text/plain": [
              "                0    1         2    3\n",
              "000      0.000000  0.0  0.028090  0.0\n",
              "10       0.000000  0.0  0.028090  0.0\n",
              "100      0.000000  0.0  0.028090  0.0\n",
              "12       0.093447  0.0  0.000000  0.0\n",
              "13       0.000000  0.0  0.014045  0.0\n",
              "...           ...  ...       ...  ...\n",
              "yelp     0.000000  0.0  0.028090  0.0\n",
              "york     0.000000  0.0  0.028090  0.0\n",
              "yorkers  0.000000  0.0  0.014045  0.0\n",
              "young    0.000000  0.0  0.014045  0.0\n",
              "zany     0.000000  0.0  0.014045  0.0\n",
              "\n",
              "[882 rows x 4 columns]"
            ]
          },
          "metadata": {
            "tags": []
          },
          "execution_count": 13
        }
      ]
    },
    {
      "cell_type": "code",
      "metadata": {
        "id": "wjXGvpXx21Hu"
      },
      "source": [
        "### TOP TFIDF Values of Sports"
      ],
      "execution_count": 58,
      "outputs": []
    },
    {
      "cell_type": "code",
      "metadata": {
        "colab": {
          "base_uri": "https://localhost:8080/"
        },
        "id": "69dQP2OTzrHK",
        "outputId": "f4eeea14-1c0c-485e-9a5d-229a929b712f"
      },
      "source": [
        "TFIDF.transpose().sort_values(by=0,ascending=False)[0][0:11]"
      ],
      "execution_count": 14,
      "outputs": [
        {
          "output_type": "execute_result",
          "data": {
            "text/plain": [
              "fight           0.373788\n",
              "ufc             0.280341\n",
              "title           0.280341\n",
              "swick           0.186894\n",
              "champion        0.186894\n",
              "dillashaw       0.186894\n",
              "wants           0.186894\n",
              "sterling        0.186894\n",
              "bantamweight    0.186894\n",
              "straight        0.186894\n",
              "march           0.186894\n",
              "Name: 0, dtype: float64"
            ]
          },
          "metadata": {
            "tags": []
          },
          "execution_count": 14
        }
      ]
    },
    {
      "cell_type": "markdown",
      "metadata": {
        "id": "SnoPC83ObayV"
      },
      "source": [
        "### TOP 10 TFIDF Values of Science_Tech"
      ]
    },
    {
      "cell_type": "code",
      "metadata": {
        "colab": {
          "base_uri": "https://localhost:8080/"
        },
        "id": "i07JlXud3Jv2",
        "outputId": "d2932f40-3613-456f-bb49-f0b09f4ceb95"
      },
      "source": [
        "TFIDF.transpose().sort_values(by=1,ascending=False)[1][0:11]"
      ],
      "execution_count": 16,
      "outputs": [
        {
          "output_type": "execute_result",
          "data": {
            "text/plain": [
              "rover           0.412240\n",
              "surface         0.309180\n",
              "nasa            0.257650\n",
              "martian         0.206120\n",
              "landing         0.206120\n",
              "perseverance    0.206120\n",
              "camera          0.206120\n",
              "just            0.162507\n",
              "touched         0.154590\n",
              "midair          0.154590\n",
              "shot            0.154590\n",
              "Name: 1, dtype: float64"
            ]
          },
          "metadata": {
            "tags": []
          },
          "execution_count": 16
        }
      ]
    },
    {
      "cell_type": "markdown",
      "metadata": {
        "id": "VIXBbNOKbUpW"
      },
      "source": [
        "### TOP 10 TFIDF Values of shopping"
      ]
    },
    {
      "cell_type": "code",
      "metadata": {
        "colab": {
          "base_uri": "https://localhost:8080/"
        },
        "id": "qN9o8-Qs3Rtg",
        "outputId": "968f2932-5818-43b1-e747-37932ac40922"
      },
      "source": [
        "TFIDF.transpose().sort_values(by=2,ascending=False)[2][0:11]"
      ],
      "execution_count": 18,
      "outputs": [
        {
          "output_type": "execute_result",
          "data": {
            "text/plain": [
              "stores        0.463482\n",
              "22            0.294943\n",
              "bankruptcy    0.224718\n",
              "brand         0.210673\n",
              "online        0.182584\n",
              "store         0.168539\n",
              "new           0.155024\n",
              "company       0.154494\n",
              "related       0.154494\n",
              "chain         0.126404\n",
              "cc            0.112359\n",
              "Name: 2, dtype: float64"
            ]
          },
          "metadata": {
            "tags": []
          },
          "execution_count": 18
        }
      ]
    },
    {
      "cell_type": "markdown",
      "metadata": {
        "id": "jBvWVmjubKsZ"
      },
      "source": [
        "### TOP 10 TFIDF Values of Entertainment"
      ]
    },
    {
      "cell_type": "markdown",
      "metadata": {
        "id": "1a3gV92lbOjH"
      },
      "source": [
        ""
      ]
    },
    {
      "cell_type": "code",
      "metadata": {
        "colab": {
          "base_uri": "https://localhost:8080/"
        },
        "id": "BOVqY2zs3faS",
        "outputId": "9e95ec4b-b0f5-46df-f384-0a464ef58611"
      },
      "source": [
        "TFIDF.transpose().sort_values(by=3,ascending=False)[3][0:11]"
      ],
      "execution_count": 20,
      "outputs": [
        {
          "output_type": "execute_result",
          "data": {
            "text/plain": [
              "golden           0.224120\n",
              "series           0.224120\n",
              "nbc              0.168090\n",
              "globes           0.168090\n",
              "nomination       0.168090\n",
              "emily            0.168090\n",
              "awards           0.168090\n",
              "best             0.132524\n",
              "entertainment    0.132524\n",
              "globe            0.112060\n",
              "social           0.112060\n",
              "Name: 3, dtype: float64"
            ]
          },
          "metadata": {
            "tags": []
          },
          "execution_count": 20
        }
      ]
    },
    {
      "cell_type": "markdown",
      "metadata": {
        "id": "kalPbHpZbk2j"
      },
      "source": [
        "## b. TFIDF with Lemmetization"
      ]
    },
    {
      "cell_type": "code",
      "metadata": {
        "id": "jXYMlTQRvWGw"
      },
      "source": [
        "from nltk.stem import WordNetLemmatizer\r\n",
        "from nltk.corpus import stopwords\r\n",
        "from nltk.tokenize import sent_tokenize, word_tokenize\r\n",
        "import re\r\n"
      ],
      "execution_count": 47,
      "outputs": []
    },
    {
      "cell_type": "code",
      "metadata": {
        "id": "ZiX0KHsN4Ae7"
      },
      "source": [
        "def lemm(sentences):\r\n",
        "  print(len(sentences))\r\n",
        "  from nltk.tokenize import sent_tokenize, word_tokenize\r\n",
        "  sentences = re.sub('[^a-zA-Z]', ' ',sentences)\r\n",
        "  sentences=sentences.split('/n')\r\n",
        "  #Create obj of Lemmatizer\r\n",
        "  lemmmatizer=WordNetLemmatizer()\r\n",
        "\r\n",
        "  for i in range(len(sentences)):\r\n",
        "      # re.sub('[a-zA-Z]+','')\r\n",
        "      words=word_tokenize(sentences[i])\r\n",
        "      print(2,words)\r\n",
        "      #List comprehension\r\n",
        "      words = [lemmmatizer.lemmatize(word.lower()) for word in words if word!='' and word not in set(stopwords.words('english'))]\r\n",
        "      print(type(sentences))\r\n",
        "      sentences[i]=' '.join(words)\r\n",
        "\r\n",
        "  return sentences"
      ],
      "execution_count": 71,
      "outputs": []
    },
    {
      "cell_type": "code",
      "metadata": {
        "colab": {
          "base_uri": "https://localhost:8080/"
        },
        "id": "0njXak225B4G",
        "outputId": "192d2298-cbfc-4a53-8b43-95ab473a377d"
      },
      "source": [
        "import nltk\r\n",
        "nltk.download('wordnet')\r\n",
        "nltk.download('stopwords')\r\n",
        "nltk.download('punkt')"
      ],
      "execution_count": 27,
      "outputs": [
        {
          "output_type": "stream",
          "text": [
            "[nltk_data] Downloading package wordnet to /root/nltk_data...\n",
            "[nltk_data]   Package wordnet is already up-to-date!\n",
            "[nltk_data] Downloading package stopwords to /root/nltk_data...\n",
            "[nltk_data]   Package stopwords is already up-to-date!\n",
            "[nltk_data] Downloading package punkt to /root/nltk_data...\n",
            "[nltk_data]   Unzipping tokenizers/punkt.zip.\n"
          ],
          "name": "stdout"
        },
        {
          "output_type": "execute_result",
          "data": {
            "text/plain": [
              "True"
            ]
          },
          "metadata": {
            "tags": []
          },
          "execution_count": 27
        }
      ]
    },
    {
      "cell_type": "code",
      "metadata": {
        "colab": {
          "base_uri": "https://localhost:8080/"
        },
        "id": "aLiIEpXlXIfb",
        "outputId": "d3b133c7-b462-43c6-c341-ac32669afc97"
      },
      "source": [
        "map_object = map(lemm, corpus)\r\n",
        "cleaned_text = list(map_object)"
      ],
      "execution_count": 72,
      "outputs": [
        {
          "output_type": "stream",
          "text": [
            "859\n",
            "2 ['The', 'former', 'two', 'time', 'UFC', 'bantamweight', 'champion', 'is', 'looking', 'to', 'pick', 'up', 'right', 'where', 'he', 'left', 'off', 'and', 'face', 'the', 'winner', 'of', 'the', 'title', 'fight', 'between', 'champion', 'Petr', 'Yan', 'and', 'Aljamain', 'Sterling', 'which', 'takes', 'place', 'at', 'UFC', 'on', 'March', 'Dillashaw', 'MMA', 'UFC', 'who', 'was', 'stripped', 'of', 'his', 'bantamweight', 'title', 'is', 'coming', 'off', 'a', 'two', 'year', 'USADA', 'suspension', 'for', 'EPO', 'and', 'has', 'been', 'eligible', 'to', 'compete', 'since', 'January', 'Though', 'he', 'doesn', 't', 'have', 'a', 'fight', 'booked', 'yet', 'he', 's', 'happy', 'to', 'jump', 'straight', 'into', 'a', 'title', 'fight', 'on', 'his', 'return', 'I', 'm', 'ready', 'to', 'go', 'straight', 'for', 'the', 'belt', 'if', 'that', 's', 'the', 'opportunity', 'that', 'comes', 'at', 'me', 'because', 'I', 'know', 'Yan', 'wants', 'it', 'Dillashaw', 'told', 'Mike', 'Swick', 'on', 'the', 'Real', 'Quick', 'with', 'Mike', 'Swick', 'podcast', 'He', 's', 'already', 'been', 'vocally', 'talking', 'about', 'it', 'and', 'we', 'll', 'see', 'what', 'happens', 'on', 'March', 'when', 'he', 'fights', 'Sterling', 'He', 's', 'got', 'a', 'tough', 'test', 'ahead', 'of', 'him', 'but', 'that', 's', 'the', 'fight', 'he', 'wants']\n",
            "<class 'list'>\n",
            "1688\n",
            "2 ['After', 'safely', 'landing', 'on', 'the', 'surface', 'of', 'Mars', 'Thursday', 'NASA', 's', 'Perseverance', 'rover', 'has', 'sent', 'back', 'a', 'never', 'before', 'seen', 'view', 'what', 'it', 'looks', 'like', 'to', 'land', 'on', 'Mars', 'a', 'close', 'up', 'of', 'an', 'engine', 'This', 'shot', 'from', 'a', 'camera', 'on', 'Perservance', 's', 'jetpack', 'captures', 'the', 'rover', 'in', 'midair', 'just', 'before', 'its', 'wheels', 'touched', 'down', 'JPL', 'Caltech', 'NASA', 'This', 'shot', 'from', 'a', 'camera', 'on', 'Perservance', 's', 'jetpack', 'captures', 'the', 'rover', 'in', 'midair', 'just', 'before', 'its', 'wheels', 'touched', 'down', 'The', 'rover', 'also', 'returned', 'some', 'beautiful', 'postcards', 'of', 'its', 'landing', 'site', 'The', 'first', 'image', 'shared', 'during', 'a', 'NASA', 'press', 'conference', 'Friday', 'was', 'exhilarating', 'for', 'the', 'team', 'when', 'they', 'received', 'it', 'It', 'shows', 'the', 'rover', 'nearing', 'the', 'Martian', 'surface', 'during', 'entry', 'descent', 'and', 'landing', 'A', 'camera', 'on', 'the', 'descent', 'stage', 'of', 'the', 'spacecraft', 'captured', 'the', 'perspective', 'something', 'that', 'wasn', 't', 'possible', 'on', 'previous', 'missions', 'Rocks', 'spotted', 'by', 'the', 'rover', 'have', 'holes', 'in', 'them', 'which', 'has', 'the', 'scientists', 'curious', 'to', 'see', 'what', 'would', 'cause', 'them', 'JPL', 'Caltech', 'NASA', 'Rocks', 'spotted', 'by', 'the', 'rover', 'have', 'holes', 'in', 'them', 'which', 'has', 'the', 'scientists', 'curious', 'to', 'see', 'what', 'would', 'cause', 'them', 'This', 'shot', 'from', 'a', 'camera', 'on', 'my', 'jetpack', 'captures', 'me', 'in', 'midair', 'just', 'before', 'my', 'wheels', 'touched', 'down', 'according', 'to', 'a', 'tweet', 'from', 'the', 'Perseverance', 'Twitter', 'account', 'The', 'moment', 'that', 'my', 'team', 'dreamed', 'of', 'for', 'years', 'now', 'a', 'reality', 'Dare', 'mighty', 'things', 'a', 'view', 'of', 'a', 'snow', 'covered', 'mountain', 'This', 'is', 'the', 'first', 'color', 'image', 'released', 'from', 'Perseverance', 'on', 'the', 'Martian', 'surface', 'JPL', 'Caltech', 'NASA', 'This', 'is', 'the', 'first', 'color', 'image', 'released', 'from', 'Perseverance', 'on', 'the', 'Martian', 'surface', 'Little', 'dust', 'plumes', 'can', 'be', 'seen', 'kicking', 'up', 'from', 'the', 'Martian', 'surface', 'stirred', 'by', 'the', 'engines', 'landing', 'the', 'rover', 'when', 'it', 'was', 'just', 'feet', 'above', 'the', 'surface']\n",
            "<class 'list'>\n",
            "12118\n",
            "2 ['Down', 'But', 'Not', 'Quite', 'Out', 'These', 'days', 'it', 's', 'hard', 'to', 'scan', 'the', 'headlines', 'without', 'reading', 'about', 'another', 'store', 'that', 's', 'on', 'the', 'financial', 'ropes', 'The', 'pandemic', 'has', 'accelerated', 'bankruptcies', 'among', 'retailers', 'and', 'even', 'before', 'that', 'many', 'big', 'names', 'were', 'hurting', 'But', 'that', 'doesn', 't', 'mean', 'your', 'favorite', 'stores', 'and', 'brands', 'are', 'out', 'of', 'the', 'game', 'forever', 'Many', 'like', 'New', 'York', 's', 'Century', 'are', 'attempting', 'a', 'comeback', 'with', 'new', 'stores', 'Others', 'sell', 'only', 'online', 'and', 'still', 'others', 'cling', 'to', 'life', 'as', 'bricks', 'and', 'mortar', 'retailers', 'even', 'if', 'they', 're', 'a', 'far', 'cry', 'from', 'their', 'former', 'selves', 'Here', 'are', 'several', 'notable', 'stores', 'and', 'brands', 'that', 'aren', 't', 'waving', 'a', 'white', 'flag', 'just', 'yet', 'Related', 'Restaurant', 'Chains', 'We', 'Miss', 'Century', 'wdstock', 'istockphoto', 'Century', 'Turns', 'out', 'New', 'Yorkers', 'favorite', 'place', 'to', 'score', 'discounted', 'designer', 'duds', 'may', 'not', 'be', 'dead', 'quite', 'yet', 'Though', 'the', 'chain', 'declared', 'bankruptcy', 'and', 'closed', 'all', 'of', 'its', 'stores', 'in', 'September', 'the', 'family', 'run', 'company', 'recently', 'announced', 'it', 'will', 're', 'open', 'in', 'South', 'Korea', 'It', 's', 'also', 'hoping', 'to', 'relaunch', 'bricks', 'and', 'mortar', 'stores', 'in', 'the', 'U', 'S', 'Related', 'How', 'to', 'Score', 'at', 'Going', 'Out', 'of', 'Business', 'Sales', 'Freestar', 'Toys', 'R', 'Us', 'ValeStock', 'shutterstock', 'Toys', 'R', 'Us', 'This', 'iconic', 'toy', 'store', 'broke', 'the', 'hearts', 'of', 'young', 'and', 'old', 'alike', 'when', 'it', 'filed', 'for', 'bankruptcy', 'in', 'and', 'liquidated', 'in', 'early', 'The', 'next', 'year', 'it', 'announced', 'a', 'comeback', 'attempt', 'and', 'opened', 'two', 'smaller', 'format', 'U', 'S', 'stores', 'in', 'Texas', 'and', 'New', 'Jersey', 'but', 'they', 've', 'also', 'shut', 'down', 'after', 'not', 'quite', 'a', 'year', 'and', 'a', 'half', 'Still', 'the', 'chain', 'is', 'alive', 'and', 'well', 'in', 'Canada', 'which', 'claims', 'roughly', 'Toys', 'R', 'Us', 'stores', 'as', 'well', 'as', 'overseas', 'It', 'also', 'still', 'sells', 'online', 'Related', 'These', 'Catalogs', 'Defined', 'Shopping', 'for', 'Generations', 'and', 'Now', 'They', 're', 'Mostly', 'Gone', 'For', 'more', 'smart', 'retail', 'coverage', 'please', 'sign', 'up', 'for', 'our', 'free', 'newsletters', 'Recommended', 'videosPowered', 'by', 'AnyClip', 'Useful', 'Car', 'Features', 'You', 'Probably', 'Didn', 't', 'Notice', 'Before', 'Read', 'More', 'Ad', 'Sears', 'Closing', 'AutumnSkyPhotography', 'istockphoto', 'Sears', 'Sears', 'is', 'still', 'around', 'but', 'if', 'you', 'thought', 'it', 'was', 'already', 'a', 'goner', 'we', 'can', 't', 'blame', 'you', 'The', 'iconic', 'chain', 'is', 'on', 'what', 'can', 'only', 'be', 'described', 'as', 'life', 'support', 'having', 'endured', 'yet', 'another', 'round', 'of', 'closures', 'in', 'It', 's', 'left', 'with', 'around', 'stores', 'according', 'to', 'Forbes', 'a', 'stunning', 'number', 'for', 'an', 'American', 'icon', 'that', 'used', 'to', 'dominate', 'every', 'facet', 'of', 'retail', 'and', 'had', 'close', 'to', 'locations', 'at', 'its', 'peak', 'Perhaps', 'the', 'only', 'thing', 'keeping', 'the', 'chain', 'alive', 'A', 'slow', 'market', 'for', 'commercial', 'real', 'estate', 'that', 'makes', 'the', 'stores', 'tough', 'sell', 'Related', 'Companies', 'That', 'Changed', 'American', 'Culture', 'for', 'Better', 'or', 'Worse', 'Pier', 'Imports', 'RiverNorthPhotography', 'istockphoto', 'Pier', 'Imports', 'One', 'of', 'the', 'first', 'major', 'retailer', 'bankruptcies', 'of', 'Pier', 'was', 'forced', 'to', 'liquidate', 'and', 'close', 'all', 'of', 'its', 'more', 'than', 'stores', 'after', 'it', 'failed', 'to', 'find', 'a', 'buyer', 'willing', 'to', 'keep', 'any', 'of', 'its', 'physical', 'locations', 'open', 'However', 'the', 'home', 'goods', 'brand', 'did', 'eventually', 'attract', 'a', 'buyer', 'Retail', 'Economic', 'Ventures', 'willing', 'to', 'fork', 'over', 'millions', 'to', 'give', 'it', 'a', 'go', 'with', 'e', 'commerce', 'That', 'means', 'you', 'can', 'still', 'shop', 'Pier', 'online', 'though', 'those', 'iconic', 'papasans', 'were', 'sadly', 'out', 'of', 'stock', 'when', 'we', 'last', 'checked', 'Related', 'Stores', 'We', 'll', 'Miss', 'Shopping', 'at', 'This', 'Holiday', 'Season', 'Kmart', 'Extra', 'to', 'Off', 'RiverNorthPhotography', 'istockphoto', 'Kmart', 'The', 'story', 'of', 'this', 'once', 'proud', 'discounter', 'mirrors', 'that', 'of', 'Sears', 'which', 'is', 'unsurprising', 'since', 'the', 'chains', 'share', 'an', 'owner', 'Mostly', 'in', 'the', 'news', 'these', 'days', 'because', 'many', 'of', 'its', 'shuttered', 'locations', 'are', 'hosting', 'COVID', 'vaccination', 'clinics', 'Kmart', 'is', 'also', 'down', 'to', 'around', 'open', 'stores', 'according', 'to', 'Retail', 'Dive', 'Freestar', 'Payless', 'ShoeSource', 'Tupungato', 'shutterstock', 'Payless', 'ShoeSource', 'Payless', 'made', 'big', 'waves', 'in', 'early', 'when', 'it', 'filed', 'for', 'bankruptcy', 'and', 'said', 'it', 'would', 'pull', 'the', 'plug', 'on', 'all', 'of', 'its', 'roughly', 'U', 'S', 'locations', 'It', 'was', 'Payless', 'second', 'bankruptcy', 'in', 'two', 'years', 'but', 'the', 'brand', 'is', 'still', 'operating', 'online', 'and', 'overseas', 'Its', 'website', 'launched', 'in', 'August', 'and', 'there', 'are', 'still', 'stores', 'elsewhere', 'many', 'of', 'them', 'in', 'Central', 'and', 'Latin', 'America', 'Payless', 'also', 'hopes', 'to', 'relaunch', 'physical', 'stores', 'in', 'the', 'U', 'S', 'over', 'the', 'next', 'several', 'years', 'though', 'it', 's', 'possible', 'the', 'pandemic', 'may', 'have', 'impacted', 'those', 'plans', 'Related', 'Beloved', 'Businesses', 'We', 'Said', 'Goodbye', 'to', 'This', 'Decade', 'Gymboree', 'Eric', 'Broder', 'Van', 'Dyke', 'shutterstock', 'Gymboree', 'Known', 'for', 'all', 'things', 'cutesy', 'classic', 'and', 'matchy', 'matchy', 'this', 'beloved', 'children', 's', 'apparel', 'retailer', 'filed', 'for', 'bankruptcy', 'at', 'the', 'beginning', 'of', 'and', 'announced', 'it', 'would', 'close', 'all', 'of', 'its', 'stores', 'However', 'one', 'of', 'its', 'major', 'competitors', 'The', 'Children', 's', 'Place', 'soon', 'snapped', 'up', 'the', 'brand', 'which', 'can', 'still', 'be', 'found', 'online', 'The', 'Children', 's', 'Place', 'also', 'sells', 'Gymboree', 'branded', 'apparel', 'at', 'about', 'of', 'its', 'stores', 'for', 'those', 'still', 'seeking', 'an', 'in', 'store', 'experience', 'Brookstone', 'anouchka', 'istockphoto', 'Brookstone', 'This', 'much', 'loved', 'purveyor', 'of', 'gadgets', 'and', 'gizmos', 'filed', 'for', 'bankruptcy', 'in', 'a', 'decision', 'that', 'ultimately', 'led', 'about', 'mall', 'based', 'stores', 'to', 'close', 'But', 'you', 'still', 'have', 'options', 'if', 'you', 'really', 'must', 'have', 'that', 'latest', 'neck', 'and', 'back', 'massager', 'A', 'buyer', 'purchased', 'the', 'brand', 's', 'more', 'than', 'airport', 'based', 'stores', 'and', 'they', 'remain', 'open', 'Brookstone', 'also', 'maintains', 'a', 'storefront', 'online', 'and', 'sells', 'select', 'products', 'through', 'Macy', 's', 'and', 'other', 'retailers', 'Radioshack', 'Wolterk', 'istockphoto', 'RadioShack', 'It', 'used', 'to', 'be', 'that', 'even', 'in', 'the', 'smallest', 'towns', 'you', 'could', 'count', 'on', 'a', 'nearby', 'RadioShack', 'for', 'an', 'obscure', 'cable', 'or', 'some', 'cheap', 'headphones', 'But', 'in', 'it', 'shut', 'down', 'more', 'than', 'remaining', 'company', 'owned', 'stores', 'and', 'mostly', 'faded', 'into', 'obscurity', 'Or', 'did', 'it', 'The', 'brand', 'still', 'has', 'hundreds', 'of', 'authorized', 'dealers', 'across', 'the', 'country', 'and', 'its', 'products', 'are', 'sold', 'in', 'RadioShack', 'Express', 'shops', 'inside', 'most', 'HobbyTown', 'stores', 'Its', 'website', 'is', 'also', 'alive', 'and', 'kicking', 'selling', 'pocket', 'radios', 'batteries', 'and', 'even', 'retro', 'RadioShack', 'T', 'shirts', 'Related', 'Famous', 'Brands', 'That', 'Refused', 'to', 'Die', 'Fao', 'Schwarz', 'Toys', 'TennesseePhotographer', 'istockphoto', 'F', 'A', 'O', 'Schwarz', 'The', 'tonier', 'counterpart', 'of', 'Toys', 'R', 'Us', 'F', 'A', 'O', 'Schwarz', 'declared', 'bankruptcy', 'in', 'and', 'was', 'actually', 'sold', 'to', 'its', 'rival', 'in', 'Its', 'famous', 'Fifth', 'Avenue', 'store', 'where', 'Tom', 'Hanks', 'traipsed', 'across', 'a', 'toy', 'piano', 'in', 'the', 'movie', 'Big', 'shut', 'down', 'in', 'but', 'new', 'owners', 'opened', 'another', 'location', 'at', 'Rockefeller', 'Plaza', 'a', 'few', 'years', 'later', 'F', 'A', 'O', 'Schwarz', 'has', 'also', 'struck', 'lucrative', 'deals', 'with', 'retailers', 'like', 'Target', 'which', 'carried', 'an', 'exclusive', 'piece', 'line', 'from', 'the', 'brand', 'over', 'the', 'holidays', 'and', 'its', 'website', 'remains', 'open', 'for', 'business', 'Barneys', 'New', 'York', 'City', 'Mario', 'Tama', 'Getty', 'Images', 'CC', 'Barneys', 'In', 'a', 'blow', 'to', 'the', 'Big', 'Apple', 's', 'well', 'heeled', 'fashionistas', 'Barneys', 'filed', 'for', 'bankruptcy', 'in', 'shortly', 'after', 'announcing', 'that', 'it', 'would', 'liquidate', 'and', 'close', 'its', 'famously', 'luxurious', 'Madison', 'Avenue', 'flagship', 'But', 'the', 'Barneys', 'name', 'actually', 'lives', 'on', 'in', 'a', 'store', 'within', 'a', 'store', 'at', 'rival', 'Saks', 'Fifth', 'Avenue', 'New', 'owner', 'Authentic', 'Brands', 'licensed', 'the', 'Barneys', 'name', 'to', 'Saks', 'and', 'shoppers', 'can', 'peruse', 'Barneys', 'branded', 'wares', 'both', 'in', 'person', 'and', 'online', 'Related', 'Iconic', 'Department', 'Stores', 'We', 'Miss', 'Freestar', 'The', 'Limited', 'Alec', 'M', 'Yelp', 'The', 'Limited', 'Once', 'a', 'mall', 'stalwart', 'this', 'well', 'known', 'fashion', 'retailer', 'went', 'bankrupt', 'at', 'the', 'beginning', 'of', 'and', 'closed', 'all', 'of', 'its', 'roughly', 'stores', 'Though', 'it', 'initially', 'planned', 'to', 'become', 'an', 'e', 'commerce', 'brand', 'in', 'its', 'own', 'right', 'that', 'plan', 'was', 'short', 'lived', 'Instead', 'southern', 'department', 'store', 'chain', 'Belk', 'purchased', 'the', 'brand', 'and', 're', 'launched', 'it', 'as', 'a', 'private', 'label', 'Related', 'Dead', 'Fashion', 'Brands', 'We', 'Miss', 'Circuit', 'City', 'Justin', 'Sullivan', 'Getty', 'Images', 'CC', 'Circuit', 'City', 'Once', 'a', 'formidable', 'competitor', 'with', 'the', 'likes', 'of', 'Best', 'Buy', 'electronics', 'and', 'appliance', 'brand', 'Circuit', 'City', 'declared', 'bankruptcy', 'in', 'and', 'closed', 'all', 'of', 'its', 'stores', 'within', 'a', 'year', 'However', 'a', 'new', 'owner', 'has', 're', 'launched', 'the', 'brand', 'online', 'and', 'the', 'chain', 's', 'Canadian', 'relative', 'The', 'Source', 'formerly', 'The', 'Source', 'by', 'Circuit', 'City', 'continues', 'to', 'operate', 'more', 'than', 'stores', 'Linens', 'N', 'Things', 'David', 'McNew', 'Getty', 'Images', 'CC', 'Linens', 'N', 'Things', 'Once', 'a', 'worthy', 'rival', 'to', 'Bed', 'Bath', 'Beyond', 'Linens', 'N', 'Things', 'filed', 'for', 'bankruptcy', 'back', 'in', 'and', 'shut', 'down', 'its', 'hundreds', 'of', 'stores', 'through', 'the', 'end', 'of', 'the', 'year', 'But', 'the', 'company', 'has', 'lived', 'on', 'as', 'an', 'e', 'commerce', 'retailer', 'and', 'its', 'latest', 'owner', 'Retail', 'Economic', 'Ventures', 'is', 'the', 'same', 'company', 'that', 'resuscitated', 'Pier', 'and', 'RadioShack', 'online', 'More', 'known', 'brands', 'now', 'in', 'REV', 's', 'portfolio', 'include', 'Modell', 's', 'Sporting', 'Goods', 'Dressbarn', 'and', 'The', 'Franklin', 'Mint', 'The', 'company', 'also', 'just', 'acquired', 'Stein', 'Mart', 'Skymall', 'Magazine', 'Skymall', 'Magazine', 'by', 'kelly', 'taylor', 'CC', 'BY', 'SA', 'SkyMall', 'These', 'zany', 'catalogs', 'used', 'to', 'be', 'as', 'much', 'a', 'part', 'of', 'the', 'in', 'flight', 'experience', 'as', 'packs', 'of', 'peanuts', 'Each', 'edition', 'guaranteed', 'at', 'least', 'a', 'half', 'hour', 'of', 'head', 'scratching', 'entertainment', 'as', 'airline', 'passengers', 'perused', 'the', 'bafflingly', 'niche', 'items', 'from', 'floating', 'poker', 'tables', 'to', 'half', 'scale', 'suits', 'of', 'armor', 'Sadly', 'the', 'company', 'went', 'bankrupt', 'in', 'and', 'while', 'you', 'll', 'no', 'longer', 'find', 'that', 'familiar', 'flight', 'companion', 'in', 'your', 'seat', 'back', 'pocket', 'it', 'continues', 'to', 'hawk', 'plenty', 'of', 'weird', 'items', 'online', 'The', 'Sharper', 'Image', 'Justin', 'Sullivan', 'Getty', 'Images', 'CC', 'The', 'Sharper', 'Image', 'Sharper', 'Image', 'stores', 'disappeared', 'after', 'the', 'chain', 'filed', 'for', 'bankruptcy', 'in', 'and', 'we', 'certainly', 'miss', 'marveling', 'at', 'all', 'the', 'kooky', 'products', 'we', 'never', 'knew', 'we', 'needed', 'from', 'coin', 'sorters', 'to', 'levitating', 'plants', 'to', 'a', 'golf', 'club', 'drink', 'dispenser', 'But', 'if', 'you', 'do', 'any', 'shopping', 'at', 'department', 'stores', 'you', 'might', 'have', 'noticed', 'the', 'brand', 'is', 'still', 'alive', 'and', 'well', 'under', 'new', 'ownership', 'You', 'can', 'pick', 'up', 'Sharper', 'Image', 'merchandise', 'at', 'the', 'brand', 's', 'own', 'website', 'or', 'at', 'stores', 'including', 'Kohl', 's', 'JCPenney', 'and', 'Bed', 'Bath', 'Beyond', 'Related', 'Most', 'Ridiculous', 'Items', 'Sold', 'at', 'Luxury', 'Retailers', 'Bon', 'Ton', 'Bon', 'Ton', 'by', 'Mike', 'Mozart', 'CC', 'BY', 'Bon', 'Ton', 'Department', 'stores', 'have', 'had', 'a', 'rough', 'go', 'of', 'it', 'these', 'days', 'and', 'no', 'chain', 'knows', 'that', 'better', 'than', 'Bon', 'Ton', 'and', 'its', 'subsidiaries', 'But', 'Bon', 'Ton', 'may', 'yet', 'have', 'some', 'life', 'left', 'in', 'it', 'The', 'iconic', 'brand', 'that', 'operated', 'stores', 'including', 'Carson', 's', 'Boston', 'Store', 'Herberger', 's', 'and', 'Elder', 'Beerman', 'declared', 'bankruptcy', 'in', 'and', 'quickly', 'liquidated', 'but', 'its', 'new', 'owner', 're', 'opened', 'Bon', 'Ton', 'online', 'Plans', 'have', 'been', 'in', 'the', 'works', 'for', 'new', 'bricks', 'and', 'mortar', 'locations', 'but', 'the', 'first', 'such', 'store', 'a', 'Carson', 's', 'in', 'Illinois', 'did', 'not', 'last', 'long', 'Freestar', 'American', 'Apparel', 'tupungato', 'istockphoto', 'American', 'Apparel', 'This', 'sexy', 'store', 'that', 'made', 'domestically', 'produced', 'clothing', 'cool', 'again', 'is', 'a', 'shadow', 'of', 'its', 'former', 'self', 'As', 'Glossy', 'notes', 'it', 'continues', 'to', 'hang', 'on', 'as', 'an', 'online', 'retailer', 'but', 'very', 'little', 'appears', 'to', 'be', 'made', 'in', 'the', 'U', 'S', 'marking', 'a', 'major', 'shift', 'from', 'the', 'brand', 's', 'heyday', 'Gildan', 'Canadian', 'maker', 'of', 'utilitarian', 'T', 'shirts', 'and', 'sweatshirts', 'bought', 'the', 'company', 'in', 'early', 'after', 'American', 'Apparel', 's', 'second', 'bankruptcy', 'in', 'little', 'more', 'than', 'a', 'year', 'Its', 'stores', 'were', 'shut', 'down', 'soon', 'thereafter', 'Related', 'Clothing', 'Brands', 'That', 'are', 'Still', 'Made', 'in', 'America', 'Charlotte', 'Russe', 'Charlotte', 'Russe', 'by', 'Phillip', 'Pessar', 'CC', 'BY', 'Charlotte', 'Russe', 'Liquidation', 'is', 'often', 'the', 'last', 'stop', 'on', 'the', 'long', 'road', 'of', 'decline', 'for', 'any', 'retailer', 'but', 'not', 'Charlotte', 'Russe', 'The', 'trendy', 'women', 's', 'clothing', 'retailer', 'was', 'a', 'victim', 'of', 'malls', 'increasing', 'unpopularity', 'filing', 'for', 'bankruptcy', 'in', 'and', 'liquidating', 'shortly', 'thereafter', 'But', 'a', 'new', 'owner', 'quickly', 'purchased', 'the', 'brand', 'relaunched', 'its', 'website', 'and', 'has', 'since', 'opened', 'more', 'than', 'new', 'locations', 'Charming', 'Charlie', 'Charming', 'Charlie', 'by', 'Mike', 'Mozart', 'CC', 'BY', 'Charming', 'Charlie', 'This', 'popular', 'jewelry', 'and', 'accessories', 'chain', 'was', 'no', 'longer', 'living', 'a', 'charmed', 'life', 'as', 'of', 'mid', 'when', 'it', 'announced', 'its', 'second', 'bankruptcy', 'filing', 'in', 'two', 'years', 'and', 'said', 'it', 'would', 'close', 'all', 'remaining', 'shops', 'But', 'the', 'company', 's', 'founder', 'bought', 'what', 'remained', 'of', 'the', 'company', 'and', 'is', 'giving', 'it', 'another', 'go', 'The', 'store', 's', 'website', 'is', 'up', 'and', 'running', 'and', 'there', 'are', 'now', 'at', 'least', 'seven', 'new', 'stores', 'across', 'the', 'country', 'Catherine', 's', 'Plus', 'Sizes', 'Joe', 'C', 'Yelp', 'Catherine', 's', 'One', 'of', 'the', 'nation', 's', 'most', 'well', 'known', 'plus', 'size', 'retailers', 'Catherine', 's', 'was', 'dealt', 'a', 'major', 'blow', 'when', 'parent', 'company', 'Ascena', 'filed', 'for', 'bankruptcy', 'in', 'Ascena', 'closed', 'all', 'Catherine', 's', 'stores', 'as', 'part', 'of', 'its', 'reorganization', 'choosing', 'to', 'focus', 'on', 'Lane', 'Bryant', 'Loft', 'and', 'Ann', 'Taylor', 'instead', 'All', 'is', 'not', 'lost', 'for', 'Catherine', 's', 'fans', 'however', 'FullBeauty', 'a', 'company', 'that', 'owns', 'several', 'other', 'plus', 'size', 'brands', 'purchased', 'Catherine', 's', 'and', 'is', 'now', 'operating', 'the', 'store', 'online']\n",
            "<class 'list'>\n",
            "2525\n",
            "2 ['Roll', 'out', 'the', 'virtual', 'red', 'carpet', 'The', 'th', 'annual', 'Golden', 'Globe', 'Awards', 'might', 'look', 'a', 'little', 'different', 'than', 'previous', 'years', 'due', 'to', 'the', 'coronavirus', 'pandemic', 'but', 'the', 'night', 'won', 't', 'be', 'short', 'of', 'major', 'stars', 'NBC', 'Entertainment', 'announced', 'in', 'January', 'that', 'Amy', 'Poehler', 'and', 'Tina', 'Fey', 'would', 'be', 'returning', 'to', 'host', 'the', 'awards', 'show', 'in', 'after', 'previously', 'teaming', 'up', 'for', 'the', 'gig', 'in', 'and', 'NBC', 'has', 'long', 'been', 'the', 'home', 'to', 'two', 'of', 'the', 'funniest', 'people', 'on', 'the', 'planet', 'Tina', 'Fey', 'and', 'Amy', 'Poehler', 'and', 'we', 'didn', 't', 'want', 'to', 'wait', 'any', 'longer', 'to', 'share', 'the', 'great', 'news', 'that', 'they', 'll', 'be', 'hosting', 'the', 'Globes', 'once', 'again', 'NBC', 'Entertainment', 'Chairman', 'Paul', 'Telegdy', 'said', 'in', 'a', 'statement', 'to', 'Us', 'Weekly', 'at', 'the', 'time', 'praising', 'the', 'former', 'Saturday', 'Night', 'Live', 'costars', 'who', 'have', 'provided', 'Golden', 'Globes', 'viewers', 'with', 'some', 'of', 'the', 'most', 'memorable', 'moments', 'the', 'show', 'has', 'ever', 'seen', 'Two', 'months', 'later', 'the', 'COVID', 'crisis', 'caused', 'Hollywood', 'to', 'press', 'pause', 'While', 'the', 'entertainment', 'industry', 'was', 'forced', 'to', 'adapt', 'to', 'a', 'new', 'normal', 'of', 'face', 'masks', 'and', 'social', 'distancing', 'the', 'global', 'pandemic', 'didn', 't', 'keep', 'the', 'Hollywood', 'Foreign', 'Press', 'Association', 'from', 'honoring', 'some', 'of', 'the', 'year', 's', 'best', 'performances', 'Nominations', 'were', 'officially', 'announced', 'on', 'February', 'with', 'Netflix', 's', 'Mank', 'and', 'The', 'Crown', 'tied', 'for', 'the', 'most', 'nods', 'in', 'film', 'and', 'TV', 'categories', 'respectively', 'While', 'some', 'nominees', 'were', 'total', 'shoo', 'ins', 'like', 'Hugh', 'Grant', 'in', 'The', 'Undoing', 'and', 'Viola', 'Davis', 'in', 'Ma', 'Rainey', 's', 'Black', 'Bottom', 'others', 'took', 'fans', 'by', 'surprise', 'When', 'Michaela', 'Coel', 's', 'I', 'May', 'Destroy', 'You', 'was', 'overlooked', 'in', 'favor', 'of', 'Lily', 'Collins', 'Emily', 'in', 'Paris', 'awards', 'show', 'devotees', 'weren', 't', 'afraid', 'to', 'call', 'out', 'the', 'major', 'snub', 'on', 'social', 'media', 'Despite', 'facing', 'backlash', 'from', 'TV', 'lovers', 'Collins', 'was', 'proud', 'of', 'the', 'Netflix', 'series', 'big', 'achievements', 'Along', 'with', 'her', 'Best', 'Television', 'Actress', 'Musical', 'Comedy', 'Series', 'nomination', 'the', 'Darren', 'Star', 'created', 'show', 'earned', 'a', 'nod', 'for', 'Best', 'Musical', 'Comedy', 'Series', 'Words', 'can', 'not', 'express', 'how', 'extremely', 'grateful', 'and', 'excited', 'I', 'am', 'to', 'be', 'nominated', 'for', 'my', 'role', 'in', 'Emily', 'in', 'Paris', 'and', 'for', 'the', 'show', 's', 'nomination', 'the', 'To', 'the', 'Bone', 'actress', 'said', 'in', 'a', 'statement', 'to', 'Us', 'after', 'earning', 'the', 'second', 'Golden', 'Globe', 'nomination', 'of', 'her', 'career', 'I', 'm', 'beyond', 'thrilled', 'the', 'series', 'was', 'recognized', 'and', 'I', 'feel', 'so', 'lucky', 'to', 'be', 'in', 'a', 'category', 'including', 'such', 'incredible', 'women', 'who', 'have', 'kept', 'me', 'laughing', 'and', 'smiling', 'all', 'year', 'long', 'The', 'greatest', 'gift', 'of', 'playing', 'Emily', 'has', 'been', 'providing', 'a', 'sense', 'of', 'escapism', 'and', 'fun', 'during', 'a', 'time', 'when', 'we', 'all', 'needed', 'it', 'most', 'Scroll', 'down', 'for', 'all', 'the', 'details', 'on', 'this', 'year', 's', 'Golden', 'Globes', 'from', 'how', 'to', 'watch', 'to', 'who', 's', 'being', 'honored']\n",
            "<class 'list'>\n"
          ],
          "name": "stdout"
        }
      ]
    },
    {
      "cell_type": "code",
      "metadata": {
        "id": "60q6ebXdYXOk"
      },
      "source": [
        "lemme_text=[]\r\n",
        "for i in cleaned_text:\r\n",
        "  lemme_text.append(i[0])"
      ],
      "execution_count": 74,
      "outputs": []
    },
    {
      "cell_type": "code",
      "metadata": {
        "colab": {
          "base_uri": "https://localhost:8080/"
        },
        "id": "UcJ9wOypXwed",
        "outputId": "173e4640-f46f-4160-9e0d-c5ee69cdd55c"
      },
      "source": [
        "cleaned_text"
      ],
      "execution_count": 73,
      "outputs": [
        {
          "output_type": "execute_result",
          "data": {
            "text/plain": [
              "[['the former two time ufc bantamweight champion looking pick right left face winner title fight champion petr yan aljamain sterling take place ufc march dillashaw mma ufc stripped bantamweight title coming two year usada suspension epo eligible compete since january though fight booked yet happy jump straight title fight return i ready go straight belt opportunity come i know yan want dillashaw told mike swick real quick mike swick podcast he already vocally talking see happens march fight sterling he got tough test ahead fight want'],\n",
              " ['after safely landing surface mar thursday nasa perseverance rover sent back never seen view look like land mar close engine this shot camera perservance jetpack capture rover midair wheel touched jpl caltech nasa this shot camera perservance jetpack capture rover midair wheel touched the rover also returned beautiful postcard landing site the first image shared nasa press conference friday exhilarating team received it show rover nearing martian surface entry descent landing a camera descent stage spacecraft captured perspective something possible previous mission rock spotted rover hole scientist curious see would cause jpl caltech nasa rock spotted rover hole scientist curious see would cause this shot camera jetpack capture midair wheel touched according tweet perseverance twitter account the moment team dreamed year reality dare mighty thing view snow covered mountain this first color image released perseverance martian surface jpl caltech nasa this first color image released perseverance martian surface little dust plume seen kicking martian surface stirred engine landing rover foot surface'],\n",
              " ['down but not quite out these day hard scan headline without reading another store financial rope the pandemic accelerated bankruptcy among retailer even many big name hurting but mean favorite store brand game forever many like new york century attempting comeback new store others sell online still others cling life brick mortar retailer even far cry former self here several notable store brand waving white flag yet related restaurant chain we miss century wdstock istockphoto century turn new yorkers favorite place score discounted designer dud may dead quite yet though chain declared bankruptcy closed store september family run company recently announced open south korea it also hoping relaunch brick mortar store u s related how score going out business sale freestar toy r u valestock shutterstock toy r u this iconic toy store broke heart young old alike filed bankruptcy liquidated early the next year announced comeback attempt opened two smaller format u s store texas new jersey also shut quite year half still chain alive well canada claim roughly toy r u store well overseas it also still sell online related these catalog defined shopping generation now they mostly gone for smart retail coverage please sign free newsletter recommended videospowered anyclip useful car feature you probably didn notice before read more ad sears closing autumnskyphotography istockphoto sears sears still around thought already goner blame the iconic chain described life support endured yet another round closure it left around store according forbes stunning number american icon used dominate every facet retail close location peak perhaps thing keeping chain alive a slow market commercial real estate make store tough sell related company that changed american culture better worse pier import rivernorthphotography istockphoto pier import one first major retailer bankruptcy pier forced liquidate close store failed find buyer willing keep physical location open however home good brand eventually attract buyer retail economic venture willing fork million give go e commerce that mean still shop pier online though iconic papasans sadly stock last checked related store we miss shopping this holiday season kmart extra off rivernorthphotography istockphoto kmart the story proud discounter mirror sears unsurprising since chain share owner mostly news day many shuttered location hosting covid vaccination clinic kmart also around open store according retail dive freestar payless shoesource tupungato shutterstock payless shoesource payless made big wave early filed bankruptcy said would pull plug roughly u s location it payless second bankruptcy two year brand still operating online overseas it website launched august still store elsewhere many central latin america payless also hope relaunch physical store u s next several year though possible pandemic may impacted plan related beloved business we said goodbye this decade gymboree eric broder van dyke shutterstock gymboree known thing cutesy classic matchy matchy beloved child apparel retailer filed bankruptcy beginning announced would close store however one major competitor the child place soon snapped brand still found online the child place also sell gymboree branded apparel store still seeking store experience brookstone anouchka istockphoto brookstone this much loved purveyor gadget gizmo filed bankruptcy decision ultimately led mall based store close but still option really must latest neck back massager a buyer purchased brand airport based store remain open brookstone also maintains storefront online sell select product macy retailer radioshack wolterk istockphoto radioshack it used even smallest town could count nearby radioshack obscure cable cheap headphone but shut remaining company owned store mostly faded obscurity or the brand still hundred authorized dealer across country product sold radioshack express shop inside hobbytown store it website also alive kicking selling pocket radio battery even retro radioshack t shirt related famous brand that refused die fao schwarz toy tennesseephotographer istockphoto f a o schwarz the tonier counterpart toy r u f a o schwarz declared bankruptcy actually sold rival it famous fifth avenue store tom hank traipsed across toy piano movie big shut new owner opened another location rockefeller plaza year later f a o schwarz also struck lucrative deal retailer like target carried exclusive piece line brand holiday website remains open business barneys new york city mario tama getty image cc barneys in blow big apple well heeled fashionistas barneys filed bankruptcy shortly announcing would liquidate close famously luxurious madison avenue flagship but barneys name actually life store within store rival saks fifth avenue new owner authentic brand licensed barneys name saks shopper peruse barneys branded ware person online related iconic department store we miss freestar the limited alec m yelp the limited once mall stalwart well known fashion retailer went bankrupt beginning closed roughly store though initially planned become e commerce brand right plan short lived instead southern department store chain belk purchased brand launched private label related dead fashion brand we miss circuit city justin sullivan getty image cc circuit city once formidable competitor like best buy electronics appliance brand circuit city declared bankruptcy closed store within year however new owner launched brand online chain canadian relative the source formerly the source circuit city continues operate store linen n thing david mcnew getty image cc linen n thing once worthy rival bed bath beyond linen n thing filed bankruptcy back shut hundred store end year but company lived e commerce retailer latest owner retail economic venture company resuscitated pier radioshack online more known brand rev portfolio include modell sporting good dressbarn the franklin mint the company also acquired stein mart skymall magazine skymall magazine kelly taylor cc by sa skymall these zany catalog used much part flight experience pack peanut each edition guaranteed least half hour head scratching entertainment airline passenger perused bafflingly niche item floating poker table half scale suit armor sadly company went bankrupt longer find familiar flight companion seat back pocket continues hawk plenty weird item online the sharper image justin sullivan getty image cc the sharper image sharper image store disappeared chain filed bankruptcy certainly miss marveling kooky product never knew needed coin sorter levitating plant golf club drink dispenser but shopping department store might noticed brand still alive well new ownership you pick sharper image merchandise brand website store including kohl jcpenney bed bath beyond related most ridiculous item sold luxury retailer bon ton bon ton mike mozart cc by bon ton department store rough go day chain know better bon ton subsidiary but bon ton may yet life left the iconic brand operated store including carson boston store herberger elder beerman declared bankruptcy quickly liquidated new owner opened bon ton online plan work new brick mortar location first store carson illinois last long freestar american apparel tupungato istockphoto american apparel this sexy store made domestically produced clothing cool shadow former self a glossy note continues hang online retailer little appears made u s marking major shift brand heyday gildan canadian maker utilitarian t shirt sweatshirt bought company early american apparel second bankruptcy little year it store shut soon thereafter related clothing brand that still made america charlotte russe charlotte russe phillip pessar cc by charlotte russe liquidation often last stop long road decline retailer charlotte russe the trendy woman clothing retailer victim mall increasing unpopularity filing bankruptcy liquidating shortly thereafter but new owner quickly purchased brand relaunched website since opened new location charming charlie charming charlie mike mozart cc by charming charlie this popular jewelry accessory chain longer living charmed life mid announced second bankruptcy filing two year said would close remaining shop but company founder bought remained company giving another go the store website running least seven new store across country catherine plus size joe c yelp catherine one nation well known plus size retailer catherine dealt major blow parent company ascena filed bankruptcy ascena closed catherine store part reorganization choosing focus lane bryant loft ann taylor instead all lost catherine fan however fullbeauty company owns several plus size brand purchased catherine operating store online'],\n",
              " ['roll virtual red carpet the th annual golden globe award might look little different previous year due coronavirus pandemic night short major star nbc entertainment announced january amy poehler tina fey would returning host award show previously teaming gig nbc long home two funniest people planet tina fey amy poehler want wait longer share great news hosting globe nbc entertainment chairman paul telegdy said statement u weekly time praising former saturday night live costars provided golden globe viewer memorable moment show ever seen two month later covid crisis caused hollywood press pause while entertainment industry forced adapt new normal face mask social distancing global pandemic keep hollywood foreign press association honoring year best performance nomination officially announced february netflix mank the crown tied nod film tv category respectively while nominee total shoo in like hugh grant the undoing viola davis ma rainey black bottom others took fan surprise when michaela coel i may destroy you overlooked favor lily collins emily paris award show devotee afraid call major snub social medium despite facing backlash tv lover collins proud netflix series big achievement along best television actress musical comedy series nomination darren star created show earned nod best musical comedy series word express extremely grateful excited i nominated role emily paris show nomination to bone actress said statement u earning second golden globe nomination career i beyond thrilled series recognized i feel lucky category including incredible woman kept laughing smiling year long the greatest gift playing emily providing sense escapism fun time needed scroll detail year golden globe watch honored']]"
            ]
          },
          "metadata": {
            "tags": []
          },
          "execution_count": 73
        }
      ]
    },
    {
      "cell_type": "code",
      "metadata": {
        "colab": {
          "base_uri": "https://localhost:8080/"
        },
        "id": "dmwVqZ3bYqaz",
        "outputId": "b282e883-3bc6-44a5-aa64-8adb5d1d5038"
      },
      "source": [
        "lemme_text"
      ],
      "execution_count": 75,
      "outputs": [
        {
          "output_type": "execute_result",
          "data": {
            "text/plain": [
              "['the former two time ufc bantamweight champion looking pick right left face winner title fight champion petr yan aljamain sterling take place ufc march dillashaw mma ufc stripped bantamweight title coming two year usada suspension epo eligible compete since january though fight booked yet happy jump straight title fight return i ready go straight belt opportunity come i know yan want dillashaw told mike swick real quick mike swick podcast he already vocally talking see happens march fight sterling he got tough test ahead fight want',\n",
              " 'after safely landing surface mar thursday nasa perseverance rover sent back never seen view look like land mar close engine this shot camera perservance jetpack capture rover midair wheel touched jpl caltech nasa this shot camera perservance jetpack capture rover midair wheel touched the rover also returned beautiful postcard landing site the first image shared nasa press conference friday exhilarating team received it show rover nearing martian surface entry descent landing a camera descent stage spacecraft captured perspective something possible previous mission rock spotted rover hole scientist curious see would cause jpl caltech nasa rock spotted rover hole scientist curious see would cause this shot camera jetpack capture midair wheel touched according tweet perseverance twitter account the moment team dreamed year reality dare mighty thing view snow covered mountain this first color image released perseverance martian surface jpl caltech nasa this first color image released perseverance martian surface little dust plume seen kicking martian surface stirred engine landing rover foot surface',\n",
              " 'down but not quite out these day hard scan headline without reading another store financial rope the pandemic accelerated bankruptcy among retailer even many big name hurting but mean favorite store brand game forever many like new york century attempting comeback new store others sell online still others cling life brick mortar retailer even far cry former self here several notable store brand waving white flag yet related restaurant chain we miss century wdstock istockphoto century turn new yorkers favorite place score discounted designer dud may dead quite yet though chain declared bankruptcy closed store september family run company recently announced open south korea it also hoping relaunch brick mortar store u s related how score going out business sale freestar toy r u valestock shutterstock toy r u this iconic toy store broke heart young old alike filed bankruptcy liquidated early the next year announced comeback attempt opened two smaller format u s store texas new jersey also shut quite year half still chain alive well canada claim roughly toy r u store well overseas it also still sell online related these catalog defined shopping generation now they mostly gone for smart retail coverage please sign free newsletter recommended videospowered anyclip useful car feature you probably didn notice before read more ad sears closing autumnskyphotography istockphoto sears sears still around thought already goner blame the iconic chain described life support endured yet another round closure it left around store according forbes stunning number american icon used dominate every facet retail close location peak perhaps thing keeping chain alive a slow market commercial real estate make store tough sell related company that changed american culture better worse pier import rivernorthphotography istockphoto pier import one first major retailer bankruptcy pier forced liquidate close store failed find buyer willing keep physical location open however home good brand eventually attract buyer retail economic venture willing fork million give go e commerce that mean still shop pier online though iconic papasans sadly stock last checked related store we miss shopping this holiday season kmart extra off rivernorthphotography istockphoto kmart the story proud discounter mirror sears unsurprising since chain share owner mostly news day many shuttered location hosting covid vaccination clinic kmart also around open store according retail dive freestar payless shoesource tupungato shutterstock payless shoesource payless made big wave early filed bankruptcy said would pull plug roughly u s location it payless second bankruptcy two year brand still operating online overseas it website launched august still store elsewhere many central latin america payless also hope relaunch physical store u s next several year though possible pandemic may impacted plan related beloved business we said goodbye this decade gymboree eric broder van dyke shutterstock gymboree known thing cutesy classic matchy matchy beloved child apparel retailer filed bankruptcy beginning announced would close store however one major competitor the child place soon snapped brand still found online the child place also sell gymboree branded apparel store still seeking store experience brookstone anouchka istockphoto brookstone this much loved purveyor gadget gizmo filed bankruptcy decision ultimately led mall based store close but still option really must latest neck back massager a buyer purchased brand airport based store remain open brookstone also maintains storefront online sell select product macy retailer radioshack wolterk istockphoto radioshack it used even smallest town could count nearby radioshack obscure cable cheap headphone but shut remaining company owned store mostly faded obscurity or the brand still hundred authorized dealer across country product sold radioshack express shop inside hobbytown store it website also alive kicking selling pocket radio battery even retro radioshack t shirt related famous brand that refused die fao schwarz toy tennesseephotographer istockphoto f a o schwarz the tonier counterpart toy r u f a o schwarz declared bankruptcy actually sold rival it famous fifth avenue store tom hank traipsed across toy piano movie big shut new owner opened another location rockefeller plaza year later f a o schwarz also struck lucrative deal retailer like target carried exclusive piece line brand holiday website remains open business barneys new york city mario tama getty image cc barneys in blow big apple well heeled fashionistas barneys filed bankruptcy shortly announcing would liquidate close famously luxurious madison avenue flagship but barneys name actually life store within store rival saks fifth avenue new owner authentic brand licensed barneys name saks shopper peruse barneys branded ware person online related iconic department store we miss freestar the limited alec m yelp the limited once mall stalwart well known fashion retailer went bankrupt beginning closed roughly store though initially planned become e commerce brand right plan short lived instead southern department store chain belk purchased brand launched private label related dead fashion brand we miss circuit city justin sullivan getty image cc circuit city once formidable competitor like best buy electronics appliance brand circuit city declared bankruptcy closed store within year however new owner launched brand online chain canadian relative the source formerly the source circuit city continues operate store linen n thing david mcnew getty image cc linen n thing once worthy rival bed bath beyond linen n thing filed bankruptcy back shut hundred store end year but company lived e commerce retailer latest owner retail economic venture company resuscitated pier radioshack online more known brand rev portfolio include modell sporting good dressbarn the franklin mint the company also acquired stein mart skymall magazine skymall magazine kelly taylor cc by sa skymall these zany catalog used much part flight experience pack peanut each edition guaranteed least half hour head scratching entertainment airline passenger perused bafflingly niche item floating poker table half scale suit armor sadly company went bankrupt longer find familiar flight companion seat back pocket continues hawk plenty weird item online the sharper image justin sullivan getty image cc the sharper image sharper image store disappeared chain filed bankruptcy certainly miss marveling kooky product never knew needed coin sorter levitating plant golf club drink dispenser but shopping department store might noticed brand still alive well new ownership you pick sharper image merchandise brand website store including kohl jcpenney bed bath beyond related most ridiculous item sold luxury retailer bon ton bon ton mike mozart cc by bon ton department store rough go day chain know better bon ton subsidiary but bon ton may yet life left the iconic brand operated store including carson boston store herberger elder beerman declared bankruptcy quickly liquidated new owner opened bon ton online plan work new brick mortar location first store carson illinois last long freestar american apparel tupungato istockphoto american apparel this sexy store made domestically produced clothing cool shadow former self a glossy note continues hang online retailer little appears made u s marking major shift brand heyday gildan canadian maker utilitarian t shirt sweatshirt bought company early american apparel second bankruptcy little year it store shut soon thereafter related clothing brand that still made america charlotte russe charlotte russe phillip pessar cc by charlotte russe liquidation often last stop long road decline retailer charlotte russe the trendy woman clothing retailer victim mall increasing unpopularity filing bankruptcy liquidating shortly thereafter but new owner quickly purchased brand relaunched website since opened new location charming charlie charming charlie mike mozart cc by charming charlie this popular jewelry accessory chain longer living charmed life mid announced second bankruptcy filing two year said would close remaining shop but company founder bought remained company giving another go the store website running least seven new store across country catherine plus size joe c yelp catherine one nation well known plus size retailer catherine dealt major blow parent company ascena filed bankruptcy ascena closed catherine store part reorganization choosing focus lane bryant loft ann taylor instead all lost catherine fan however fullbeauty company owns several plus size brand purchased catherine operating store online',\n",
              " 'roll virtual red carpet the th annual golden globe award might look little different previous year due coronavirus pandemic night short major star nbc entertainment announced january amy poehler tina fey would returning host award show previously teaming gig nbc long home two funniest people planet tina fey amy poehler want wait longer share great news hosting globe nbc entertainment chairman paul telegdy said statement u weekly time praising former saturday night live costars provided golden globe viewer memorable moment show ever seen two month later covid crisis caused hollywood press pause while entertainment industry forced adapt new normal face mask social distancing global pandemic keep hollywood foreign press association honoring year best performance nomination officially announced february netflix mank the crown tied nod film tv category respectively while nominee total shoo in like hugh grant the undoing viola davis ma rainey black bottom others took fan surprise when michaela coel i may destroy you overlooked favor lily collins emily paris award show devotee afraid call major snub social medium despite facing backlash tv lover collins proud netflix series big achievement along best television actress musical comedy series nomination darren star created show earned nod best musical comedy series word express extremely grateful excited i nominated role emily paris show nomination to bone actress said statement u earning second golden globe nomination career i beyond thrilled series recognized i feel lucky category including incredible woman kept laughing smiling year long the greatest gift playing emily providing sense escapism fun time needed scroll detail year golden globe watch honored']"
            ]
          },
          "metadata": {
            "tags": []
          },
          "execution_count": 75
        }
      ]
    },
    {
      "cell_type": "code",
      "metadata": {
        "id": "DvsUl9Pt4SMY"
      },
      "source": [
        ">>> vectorizer = TfidfVectorizer(stop_words='english')\r\n",
        ">>> X = vectorizer.fit_transform(lemme_text)\r\n"
      ],
      "execution_count": 77,
      "outputs": []
    },
    {
      "cell_type": "code",
      "metadata": {
        "id": "2dD3MJURY30h"
      },
      "source": [
        "col=vectorizer.get_feature_names()"
      ],
      "execution_count": 78,
      "outputs": []
    },
    {
      "cell_type": "code",
      "metadata": {
        "id": "IWXSec27aHqS"
      },
      "source": [
        "TFIDF=pd.DataFrame(X.toarray(),columns=col)"
      ],
      "execution_count": 79,
      "outputs": []
    },
    {
      "cell_type": "code",
      "metadata": {
        "colab": {
          "base_uri": "https://localhost:8080/"
        },
        "id": "YCZ39jl6aJJ3",
        "outputId": "abae65fe-06a7-4bba-d385-5f7b231ca943"
      },
      "source": [
        "TFIDF.transpose().sort_values(by=0,ascending=False)[0][0:11]"
      ],
      "execution_count": 80,
      "outputs": [
        {
          "output_type": "execute_result",
          "data": {
            "text/plain": [
              "fight           0.465321\n",
              "title           0.279192\n",
              "ufc             0.279192\n",
              "dillashaw       0.186128\n",
              "bantamweight    0.186128\n",
              "yan             0.186128\n",
              "sterling        0.186128\n",
              "champion        0.186128\n",
              "march           0.186128\n",
              "swick           0.186128\n",
              "straight        0.186128\n",
              "Name: 0, dtype: float64"
            ]
          },
          "metadata": {
            "tags": []
          },
          "execution_count": 80
        }
      ]
    },
    {
      "cell_type": "code",
      "metadata": {
        "colab": {
          "base_uri": "https://localhost:8080/"
        },
        "id": "YQyIv-u1aP_I",
        "outputId": "8907660d-a97e-4fa6-e085-d6429d3d50e1"
      },
      "source": [
        "TFIDF.transpose().sort_values(by=1,ascending=False)[1][0:11]"
      ],
      "execution_count": 81,
      "outputs": [
        {
          "output_type": "execute_result",
          "data": {
            "text/plain": [
              "rover           0.418303\n",
              "surface         0.313727\n",
              "nasa            0.261439\n",
              "perseverance    0.209151\n",
              "landing         0.209151\n",
              "camera          0.209151\n",
              "martian         0.209151\n",
              "jetpack         0.156863\n",
              "touched         0.156863\n",
              "shot            0.156863\n",
              "caltech         0.156863\n",
              "Name: 1, dtype: float64"
            ]
          },
          "metadata": {
            "tags": []
          },
          "execution_count": 81
        }
      ]
    },
    {
      "cell_type": "code",
      "metadata": {
        "colab": {
          "base_uri": "https://localhost:8080/"
        },
        "id": "moT8gdU2aUCk",
        "outputId": "6558292a-060d-4389-8e00-09fd9895d1be"
      },
      "source": [
        "TFIDF.transpose().sort_values(by=2,ascending=False)[2][0:11]"
      ],
      "execution_count": 82,
      "outputs": [
        {
          "output_type": "execute_result",
          "data": {
            "text/plain": [
              "store          0.584535\n",
              "brand          0.298762\n",
              "bankruptcy     0.233814\n",
              "retailer       0.168866\n",
              "online         0.168866\n",
              "company        0.155876\n",
              "new            0.143377\n",
              "chain          0.142886\n",
              "related        0.142886\n",
              "cc             0.103917\n",
              "istockphoto    0.103917\n",
              "Name: 2, dtype: float64"
            ]
          },
          "metadata": {
            "tags": []
          },
          "execution_count": 82
        }
      ]
    },
    {
      "cell_type": "code",
      "metadata": {
        "colab": {
          "base_uri": "https://localhost:8080/"
        },
        "id": "fpQr-fsTaXQt",
        "outputId": "8618d886-0a51-400c-dbe7-16299a9e6fc9"
      },
      "source": [
        "TFIDF.transpose().sort_values(by=3,ascending=False)[3][0:11]"
      ],
      "execution_count": 83,
      "outputs": [
        {
          "output_type": "execute_result",
          "data": {
            "text/plain": [
              "globe            0.275114\n",
              "series           0.220091\n",
              "nomination       0.220091\n",
              "golden           0.220091\n",
              "nbc              0.165068\n",
              "award            0.165068\n",
              "emily            0.165068\n",
              "best             0.130142\n",
              "entertainment    0.130142\n",
              "year             0.114853\n",
              "poehler          0.110046\n",
              "Name: 3, dtype: float64"
            ]
          },
          "metadata": {
            "tags": []
          },
          "execution_count": 83
        }
      ]
    },
    {
      "cell_type": "markdown",
      "metadata": {
        "id": "kVuWyTKAcLZk"
      },
      "source": [
        "## c. To find out the top10TF-IDF words for the n-gram based input.\r\n"
      ]
    },
    {
      "cell_type": "code",
      "metadata": {
        "id": "zA2xe8jzckWA"
      },
      "source": [
        ">>> vectorizer = TfidfVectorizer(stop_words='english',ngram_range=(1,3))\r\n",
        ">>> X = vectorizer.fit_transform(lemme_text)"
      ],
      "execution_count": 85,
      "outputs": []
    },
    {
      "cell_type": "code",
      "metadata": {
        "id": "fjjUpYnGcsz6"
      },
      "source": [
        "col=vectorizer.get_feature_names()\r\n",
        "TFIDF=pd.DataFrame(X.toarray(),columns=col)"
      ],
      "execution_count": 86,
      "outputs": []
    },
    {
      "cell_type": "code",
      "metadata": {
        "colab": {
          "base_uri": "https://localhost:8080/"
        },
        "id": "RLsYmI9Xc6VS",
        "outputId": "2582446e-c4f0-482e-fbd5-cfb05a5266e7"
      },
      "source": [
        "TFIDF.transpose().sort_values(by=0,ascending=False)[0][0:11]"
      ],
      "execution_count": 87,
      "outputs": [
        {
          "output_type": "execute_result",
          "data": {
            "text/plain": [
              "fight           0.311009\n",
              "title           0.186605\n",
              "ufc             0.186605\n",
              "champion        0.124403\n",
              "dillashaw       0.124403\n",
              "march           0.124403\n",
              "swick           0.124403\n",
              "straight        0.124403\n",
              "sterling        0.124403\n",
              "bantamweight    0.124403\n",
              "title fight     0.124403\n",
              "Name: 0, dtype: float64"
            ]
          },
          "metadata": {
            "tags": []
          },
          "execution_count": 87
        }
      ]
    },
    {
      "cell_type": "code",
      "metadata": {
        "colab": {
          "base_uri": "https://localhost:8080/"
        },
        "id": "GReJ4qxBc86E",
        "outputId": "ff617e5e-ee34-49a0-9476-8172f5c92a88"
      },
      "source": [
        "TFIDF.transpose().sort_values(by=1,ascending=False)[1][0:11]"
      ],
      "execution_count": 88,
      "outputs": [
        {
          "output_type": "execute_result",
          "data": {
            "text/plain": [
              "rover              0.290811\n",
              "surface            0.218108\n",
              "nasa               0.181757\n",
              "martian            0.145405\n",
              "martian surface    0.145405\n",
              "camera             0.145405\n",
              "landing            0.145405\n",
              "perseverance       0.145405\n",
              "shot camera        0.109054\n",
              "jetpack            0.109054\n",
              "shot               0.109054\n",
              "Name: 1, dtype: float64"
            ]
          },
          "metadata": {
            "tags": []
          },
          "execution_count": 88
        }
      ]
    },
    {
      "cell_type": "code",
      "metadata": {
        "colab": {
          "base_uri": "https://localhost:8080/"
        },
        "id": "11VpFk4ndAnJ",
        "outputId": "38951dc2-0346-495e-c450-cc361f432a92"
      },
      "source": [
        "TFIDF.transpose().sort_values(by=2,ascending=False)[2][0:11]"
      ],
      "execution_count": 89,
      "outputs": [
        {
          "output_type": "execute_result",
          "data": {
            "text/plain": [
              "store               0.493595\n",
              "brand               0.252282\n",
              "bankruptcy          0.197438\n",
              "retailer            0.142594\n",
              "online              0.142594\n",
              "company             0.131625\n",
              "new                 0.121071\n",
              "related             0.120657\n",
              "chain               0.120657\n",
              "istockphoto         0.087750\n",
              "filed bankruptcy    0.087750\n",
              "Name: 2, dtype: float64"
            ]
          },
          "metadata": {
            "tags": []
          },
          "execution_count": 89
        }
      ]
    },
    {
      "cell_type": "code",
      "metadata": {
        "colab": {
          "base_uri": "https://localhost:8080/"
        },
        "id": "TSvM4Y3QdFBP",
        "outputId": "9f3fd02b-41d0-41b7-8c9e-d0a45ca2e0fc"
      },
      "source": [
        "TFIDF.transpose().sort_values(by=3,ascending=False)[3][0:11]"
      ],
      "execution_count": 90,
      "outputs": [
        {
          "output_type": "execute_result",
          "data": {
            "text/plain": [
              "globe            0.176854\n",
              "golden globe     0.141483\n",
              "nomination       0.141483\n",
              "golden           0.141483\n",
              "series           0.141483\n",
              "emily            0.106112\n",
              "nbc              0.106112\n",
              "award            0.106112\n",
              "entertainment    0.083660\n",
              "best             0.083660\n",
              "year             0.073832\n",
              "Name: 3, dtype: float64"
            ]
          },
          "metadata": {
            "tags": []
          },
          "execution_count": 90
        }
      ]
    },
    {
      "cell_type": "markdown",
      "metadata": {
        "id": "kpMjQXGasDqH"
      },
      "source": [
        "# New Section"
      ]
    }
  ]
}